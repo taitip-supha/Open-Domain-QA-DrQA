{
 "cells": [
  {
   "cell_type": "markdown",
   "id": "P8PQPuHoeeos",
   "metadata": {
    "id": "P8PQPuHoeeos"
   },
   "source": [
    "# Set environment"
   ]
  },
  {
   "cell_type": "markdown",
   "id": "0iGdaaa6gcK4",
   "metadata": {
    "id": "0iGdaaa6gcK4"
   },
   "source": [
    "## pip install new package"
   ]
  },
  {
   "cell_type": "code",
   "execution_count": 1,
   "id": "B01MAEJIgawv",
   "metadata": {
    "colab": {
     "base_uri": "https://localhost:8080/"
    },
    "executionInfo": {
     "elapsed": 48140,
     "status": "ok",
     "timestamp": 1647099007104,
     "user": {
      "displayName": "taitip Suphasiriwattana",
      "photoUrl": "https://lh3.googleusercontent.com/a/default-user=s64",
      "userId": "16893195790372778185"
     },
     "user_tz": -420
    },
    "id": "B01MAEJIgawv",
    "outputId": "2287f93e-4d78-4198-9454-b906cb1f6a82"
   },
   "outputs": [
    {
     "name": "stdout",
     "output_type": "stream",
     "text": [
      "Collecting pythainlp\n",
      "  Downloading pythainlp-3.0.5-py3-none-any.whl (11.5 MB)\n",
      "\u001b[K     |████████████████████████████████| 11.5 MB 23.5 MB/s \n",
      "\u001b[?25hRequirement already satisfied: requests>=2.22.0 in /usr/local/lib/python3.7/dist-packages (from pythainlp) (2.23.0)\n",
      "Collecting tinydb>=3.0\n",
      "  Downloading tinydb-4.7.0-py3-none-any.whl (24 kB)\n",
      "Requirement already satisfied: certifi>=2017.4.17 in /usr/local/lib/python3.7/dist-packages (from requests>=2.22.0->pythainlp) (2021.10.8)\n",
      "Requirement already satisfied: idna<3,>=2.5 in /usr/local/lib/python3.7/dist-packages (from requests>=2.22.0->pythainlp) (2.10)\n",
      "Requirement already satisfied: urllib3!=1.25.0,!=1.25.1,<1.26,>=1.21.1 in /usr/local/lib/python3.7/dist-packages (from requests>=2.22.0->pythainlp) (1.24.3)\n",
      "Requirement already satisfied: chardet<4,>=3.0.2 in /usr/local/lib/python3.7/dist-packages (from requests>=2.22.0->pythainlp) (3.0.4)\n",
      "Requirement already satisfied: typing-extensions<5.0.0,>=3.10.0 in /usr/local/lib/python3.7/dist-packages (from tinydb>=3.0->pythainlp) (3.10.0.2)\n",
      "Installing collected packages: tinydb, pythainlp\n",
      "Successfully installed pythainlp-3.0.5 tinydb-4.7.0\n",
      "Collecting fasttext\n",
      "  Downloading fasttext-0.9.2.tar.gz (68 kB)\n",
      "\u001b[K     |████████████████████████████████| 68 kB 6.1 MB/s \n",
      "\u001b[?25hCollecting pybind11>=2.2\n",
      "  Using cached pybind11-2.9.1-py2.py3-none-any.whl (211 kB)\n",
      "Requirement already satisfied: setuptools>=0.7.0 in /usr/local/lib/python3.7/dist-packages (from fasttext) (57.4.0)\n",
      "Requirement already satisfied: numpy in /usr/local/lib/python3.7/dist-packages (from fasttext) (1.21.5)\n",
      "Building wheels for collected packages: fasttext\n",
      "  Building wheel for fasttext (setup.py) ... \u001b[?25l\u001b[?25hdone\n",
      "  Created wheel for fasttext: filename=fasttext-0.9.2-cp37-cp37m-linux_x86_64.whl size=3134959 sha256=93ccb5e50bdf4209d84c4f76f8e3e4f8f70ab2b696a08b24c062d67b1d3f7f5a\n",
      "  Stored in directory: /root/.cache/pip/wheels/4e/ca/bf/b020d2be95f7641801a6597a29c8f4f19e38f9c02a345bab9b\n",
      "Successfully built fasttext\n",
      "Installing collected packages: pybind11, fasttext\n",
      "Successfully installed fasttext-0.9.2 pybind11-2.9.1\n"
     ]
    }
   ],
   "source": [
    "!pip install pythainlp\n",
    "!pip install fasttext"
   ]
  },
  {
   "cell_type": "markdown",
   "id": "TiRiw7NIg-_3",
   "metadata": {
    "id": "TiRiw7NIg-_3"
   },
   "source": [
    "## import package to environment "
   ]
  },
  {
   "cell_type": "code",
   "execution_count": 1,
   "id": "c49f3ff8",
   "metadata": {
    "colab": {
     "base_uri": "https://localhost:8080/",
     "height": 0
    },
    "executionInfo": {
     "elapsed": 4112,
     "status": "ok",
     "timestamp": 1647099011189,
     "user": {
      "displayName": "taitip Suphasiriwattana",
      "photoUrl": "https://lh3.googleusercontent.com/a/default-user=s64",
      "userId": "16893195790372778185"
     },
     "user_tz": -420
    },
    "id": "c49f3ff8",
    "outputId": "19cdf7ff-af7e-448c-c070-942e5a6f7250"
   },
   "outputs": [
    {
     "data": {
      "text/html": [
       "<style>.container { width:100% !important; }</style>"
      ],
      "text/plain": [
       "<IPython.core.display.HTML object>"
      ]
     },
     "metadata": {},
     "output_type": "display_data"
    }
   ],
   "source": [
    "#Import Package\n",
    "import pandas as pd\n",
    "import numpy as np\n",
    "import json, re, unicodedata, string, typing, time ,os\n",
    "from collections import Counter\n",
    "import pickle\n",
    "from pythainlp.tokenize import word_tokenize\n",
    "from bs4 import BeautifulSoup\n",
    "#import fasttext\n",
    "from IPython.core.display import display, HTML\n",
    "display(HTML(\"<style>.container { width:100% !important; }</style>\"))"
   ]
  },
  {
   "cell_type": "markdown",
   "id": "vNAvzFhahfYt",
   "metadata": {
    "id": "vNAvzFhahfYt"
   },
   "source": [
    "## Google drive"
   ]
  },
  {
   "cell_type": "code",
   "execution_count": 3,
   "id": "vw9Cr7IEg0GU",
   "metadata": {
    "colab": {
     "base_uri": "https://localhost:8080/"
    },
    "executionInfo": {
     "elapsed": 16131,
     "status": "ok",
     "timestamp": 1647099027307,
     "user": {
      "displayName": "taitip Suphasiriwattana",
      "photoUrl": "https://lh3.googleusercontent.com/a/default-user=s64",
      "userId": "16893195790372778185"
     },
     "user_tz": -420
    },
    "id": "vw9Cr7IEg0GU",
    "outputId": "ba012481-e903-4851-fcb5-3eef0f2c5ef3"
   },
   "outputs": [
    {
     "name": "stdout",
     "output_type": "stream",
     "text": [
      "Mounted at /content/drive\n"
     ]
    }
   ],
   "source": [
    "#mount my google drive\n",
    "from google.colab import drive\n",
    "drive.mount('/content/drive')"
   ]
  },
  {
   "cell_type": "code",
   "execution_count": 4,
   "id": "vvmr_xiuh90I",
   "metadata": {
    "colab": {
     "base_uri": "https://localhost:8080/"
    },
    "executionInfo": {
     "elapsed": 13,
     "status": "ok",
     "timestamp": 1647099027308,
     "user": {
      "displayName": "taitip Suphasiriwattana",
      "photoUrl": "https://lh3.googleusercontent.com/a/default-user=s64",
      "userId": "16893195790372778185"
     },
     "user_tz": -420
    },
    "id": "vvmr_xiuh90I",
    "outputId": "7107fc01-55a1-4ead-d02d-7a425390b97c"
   },
   "outputs": [
    {
     "name": "stdout",
     "output_type": "stream",
     "text": [
      "/content/drive/MyDrive/Colab Notebooks/BADS9000_IS/Colab-DrQA\n"
     ]
    }
   ],
   "source": [
    "%cd /content/drive/MyDrive/Colab Notebooks/BADS9000_IS/Colab-DrQA"
   ]
  },
  {
   "cell_type": "markdown",
   "id": "hWIxXOzleoWJ",
   "metadata": {
    "id": "hWIxXOzleoWJ"
   },
   "source": [
    "## Function"
   ]
  },
  {
   "cell_type": "code",
   "execution_count": 3,
   "id": "d5ecee4b",
   "metadata": {
    "executionInfo": {
     "elapsed": 6,
     "status": "ok",
     "timestamp": 1647099027863,
     "user": {
      "displayName": "taitip Suphasiriwattana",
      "photoUrl": "https://lh3.googleusercontent.com/a/default-user=s64",
      "userId": "16893195790372778185"
     },
     "user_tz": -420
    },
    "id": "d5ecee4b"
   },
   "outputs": [],
   "source": [
    "def load_json(path):\n",
    "    with open(path, 'r', encoding='utf-8') as f:\n",
    "        data = json.load(f)\n",
    "    print(\"Length of data: \", len(data['data']))\n",
    "    print(\"Data Keys: \", data['data'][0].keys())   \n",
    "    return data\n",
    "\n",
    "def load_article(file):\n",
    "    try :\n",
    "        with open(file, 'r', encoding='utf-8') as f:\n",
    "            context = f.read()\n",
    "    except :\n",
    "        context = \"-\"\n",
    "        print(f\"Error Article id {id}\")\n",
    "    return  context\n",
    "\n",
    "def gather_text_for_vocab(dfs:list):\n",
    "    '''\n",
    "    Gathers text from contexts and questions to build a vocabulary.\n",
    "    '''\n",
    "    text = []\n",
    "    total = 0\n",
    "    for df in dfs:\n",
    "        unique_contexts = list(df.context.unique())\n",
    "        unique_questions = list(df.question.unique())\n",
    "        total += df.context.nunique() + df.question.nunique()\n",
    "        text.extend(unique_contexts + unique_questions)\n",
    "    \n",
    "    assert len(text) == total #For debugging code\n",
    "    print(\"Number of sentences in dataset: \", len(text))\n",
    "    return text\n",
    "\n",
    "def build_word_vocab(vocab_text):\n",
    "    \"\"\"Tokenizer Ref : https://github.com/PyThaiNLP/pythainlp \"\"\"\n",
    "    words = []\n",
    "    for sent in vocab_text:\n",
    "        for word in word_tokenize(sent ,engine='newmm'):\n",
    "            words.append(word)\n",
    "    word_counter = Counter(words)\n",
    "    word_vocab = sorted(word_counter, key=word_counter.get, reverse=True)\n",
    "    #ref : https://github.com/nicolas-ivanov/tf_seq2seq_chatbot/issues/15#issuecomment-246106807\n",
    "    word_vocab.insert(0, '<unk>')  #\"replace the unknown word --> My name is _unk_\"\n",
    "    word_vocab.insert(1, '<pad>') #\"padded from either side to fit this length\"\n",
    "    print(f\"raw-vocab: {len(word_vocab)}\")\n",
    "    print(f\"vocab-length: {len(word_vocab)}\")\n",
    "    word2idx = {word:idx for idx, word in enumerate(word_vocab)}\n",
    "    print(f\"word2idx-length: {len(word2idx)}\")\n",
    "    idx2word = {v:k for k,v in word2idx.items()}\n",
    "    \n",
    "    return word2idx, idx2word, word_vocab\n",
    "\n",
    "def word_to_ids(text, word2idx):\n",
    "    '''\n",
    "    Converts word text to their respective ids by mapping each word\n",
    "    using word2idx. Input text is tokenized using spacy tokenizer first.\n",
    "    :param str text: context text to be converted\n",
    "    :param dict word2idx: word to id mapping\n",
    "    :returns list context_ids: list of mapped ids\n",
    "    :raises assertion error: sanity check\n",
    "    '''\n",
    "    words_tokens = [w for w in word_tokenize(text ,engine='newmm') ]\n",
    "    words_ids = [word2idx[word] for word in words_tokens]\n",
    "    \n",
    "    assert len(words_ids) == len(words_tokens)\n",
    "    return words_ids\n",
    "\n",
    "def save_to_pickle(save_obj, path_file):\n",
    "    with open(path_file, 'wb') as file:\n",
    "        pickle.dump(save_obj, file)\n",
    "    print(f\"save {path_file[27:-4]} to {path_file} success\")\n",
    "\n",
    "def load_pickle(path_file):\n",
    "    with open(path_file, 'rb') as file:\n",
    "        load_obj = pickle.load(file)\n",
    "        print(f\"load object from {path_file} success,that is {type(load_obj)}\")\n",
    "        return load_obj"
   ]
  },
  {
   "cell_type": "markdown",
   "id": "Pq1_N35ke6k1",
   "metadata": {
    "id": "Pq1_N35ke6k1"
   },
   "source": [
    "# Built data for Training"
   ]
  },
  {
   "cell_type": "markdown",
   "id": "6ML4K0u4fJPy",
   "metadata": {
    "id": "6ML4K0u4fJPy"
   },
   "source": [
    "## Load Data JSON to DataFrame (PC)"
   ]
  },
  {
   "cell_type": "code",
   "execution_count": 4,
   "id": "a4b1ec6f",
   "metadata": {},
   "outputs": [
    {
     "name": "stdout",
     "output_type": "stream",
     "text": [
      "Current working directory C:\\Users\\taiti\\OneDrive\\MasterDegree\\BADS9000_IS\\ThaiDrQA\n"
     ]
    }
   ],
   "source": [
    "#For PC\n",
    "os.chdir('C:/Users/taiti/OneDrive/MasterDegree/BADS9000_IS/ThaiDrQA')\n",
    "print(f\"Current working directory {os.getcwd()}\")"
   ]
  },
  {
   "cell_type": "code",
   "execution_count": 18,
   "id": "1f9838ea",
   "metadata": {
    "id": "1f9838ea",
    "outputId": "5d7be80c-2c31-40bb-95b9-c900312dae5b"
   },
   "outputs": [
    {
     "name": "stdout",
     "output_type": "stream",
     "text": [
      "Length of data:  4000\n",
      "Data Keys:  dict_keys(['question_id', 'question', 'answer', 'answer_begin_position', 'answer_end_position', 'article_id'])\n"
     ]
    }
   ],
   "source": [
    "#Open Json File ThaiQA04K ThaiQA15K\n",
    "file = \"ThaiQA04K\"\n",
    "data = load_json(f\"./data/{file}.json\")"
   ]
  },
  {
   "cell_type": "code",
   "execution_count": 19,
   "id": "53b76073",
   "metadata": {
    "id": "53b76073",
    "outputId": "4f9fabbd-28ff-483b-e35e-2303d89df16b"
   },
   "outputs": [
    {
     "data": {
      "text/plain": [
       "{'question_id': 2,\n",
       " 'question': 'ลูนา 1 เป็นยานอวกาศลำแรกในโครงการลูนาของโซเวียต มีชื่อเรียกอีกชื่อว่าอะไร',\n",
       " 'answer': 'เมชตา',\n",
       " 'answer_begin_position': 139,\n",
       " 'answer_end_position': 144,\n",
       " 'article_id': 376583}"
      ]
     },
     "execution_count": 19,
     "metadata": {},
     "output_type": "execute_result"
    }
   ],
   "source": [
    "data['data'][1]"
   ]
  },
  {
   "cell_type": "code",
   "execution_count": 20,
   "id": "5e1474f2",
   "metadata": {
    "id": "5e1474f2",
    "outputId": "40527b4c-af5f-4f01-b025-f6ae0386f6f4",
    "scrolled": false
   },
   "outputs": [
    {
     "name": "stdout",
     "output_type": "stream",
     "text": [
      "Shap:(4000, 6)\n"
     ]
    },
    {
     "data": {
      "text/html": [
       "<div>\n",
       "<style scoped>\n",
       "    .dataframe tbody tr th:only-of-type {\n",
       "        vertical-align: middle;\n",
       "    }\n",
       "\n",
       "    .dataframe tbody tr th {\n",
       "        vertical-align: top;\n",
       "    }\n",
       "\n",
       "    .dataframe thead th {\n",
       "        text-align: right;\n",
       "    }\n",
       "</style>\n",
       "<table border=\"1\" class=\"dataframe\">\n",
       "  <thead>\n",
       "    <tr style=\"text-align: right;\">\n",
       "      <th></th>\n",
       "      <th>article_id</th>\n",
       "      <th>id</th>\n",
       "      <th>html_context</th>\n",
       "      <th>question</th>\n",
       "      <th>html_label</th>\n",
       "      <th>html_answer</th>\n",
       "    </tr>\n",
       "  </thead>\n",
       "  <tbody>\n",
       "    <tr>\n",
       "      <th>0</th>\n",
       "      <td>115035</td>\n",
       "      <td>1</td>\n",
       "      <td>&lt;doc id=\"115035\" url=\"https://th.wikipedia.org...</td>\n",
       "      <td>สุนัขตัวแรกรับบทเป็นเบนจี้ในภาพยนตร์เรื่อง Ben...</td>\n",
       "      <td>[529, 538]</td>\n",
       "      <td>ฮิกกิ้นส์</td>\n",
       "    </tr>\n",
       "    <tr>\n",
       "      <th>1</th>\n",
       "      <td>376583</td>\n",
       "      <td>2</td>\n",
       "      <td>&lt;doc id=\"376583\" url=\"https://th.wikipedia.org...</td>\n",
       "      <td>ลูนา 1 เป็นยานอวกาศลำแรกในโครงการลูนาของโซเวีย...</td>\n",
       "      <td>[139, 144]</td>\n",
       "      <td>เมชตา</td>\n",
       "    </tr>\n",
       "  </tbody>\n",
       "</table>\n",
       "</div>"
      ],
      "text/plain": [
       "   article_id  id                                       html_context  \\\n",
       "0      115035   1  <doc id=\"115035\" url=\"https://th.wikipedia.org...   \n",
       "1      376583   2  <doc id=\"376583\" url=\"https://th.wikipedia.org...   \n",
       "\n",
       "                                            question  html_label html_answer  \n",
       "0  สุนัขตัวแรกรับบทเป็นเบนจี้ในภาพยนตร์เรื่อง Ben...  [529, 538]   ฮิกกิ้นส์  \n",
       "1  ลูนา 1 เป็นยานอวกาศลำแรกในโครงการลูนาของโซเวีย...  [139, 144]       เมชตา  "
      ]
     },
     "metadata": {},
     "output_type": "display_data"
    }
   ],
   "source": [
    "#load data JSON to DataFrame\n",
    "qa_lst = []\n",
    "for qa in data['data']:\n",
    "    qa_dict = {}\n",
    "    qa_dict['article_id'] = qa['article_id']\n",
    "    qa_dict['id'] = qa['question_id']\n",
    "    qa_dict['html_context']  = load_article( f\"./data/documents-nsc/{qa['article_id']}.txt\")\n",
    "    qa_dict['question'] = qa['question']\n",
    "    qa_dict['html_label'] = [qa['answer_begin_position'],qa['answer_end_position']]\n",
    "    qa_dict['html_answer'] = qa['answer']\n",
    "    qa_lst.append(qa_dict)\n",
    "\n",
    "df_qa = pd.DataFrame(qa_lst)\n",
    "df_qa = df_qa[~df_qa.html_answer.isin(['ไม่ใช่','ใช่'])]\n",
    "print(f\"Shap:{df_qa.shape}\")\n",
    "display(df_qa.head(2))"
   ]
  },
  {
   "cell_type": "code",
   "execution_count": 21,
   "id": "ef91c556",
   "metadata": {
    "id": "ef91c556",
    "outputId": "89d42a34-86c5-4583-9163-9af6dd71b73b"
   },
   "outputs": [
    {
     "name": "stdout",
     "output_type": "stream",
     "text": [
      "save df_ThaiQA04K_0_origi to ./drqa/1-tokenizers/result/df_ThaiQA04K_0_origi.pkl success\n"
     ]
    }
   ],
   "source": [
    "save_to_pickle(df_qa , f\"./drqa/1-tokenizers/result/df_{file}_0_origi.pkl\")"
   ]
  },
  {
   "cell_type": "markdown",
   "id": "KVdMkkE0j3uC",
   "metadata": {
    "id": "KVdMkkE0j3uC"
   },
   "source": [
    "## Data cleaning"
   ]
  },
  {
   "cell_type": "code",
   "execution_count": 6,
   "id": "3KCQJsEEjmZd",
   "metadata": {
    "colab": {
     "base_uri": "https://localhost:8080/",
     "height": 374
    },
    "executionInfo": {
     "elapsed": 2039,
     "status": "error",
     "timestamp": 1647099039592,
     "user": {
      "displayName": "taitip Suphasiriwattana",
      "photoUrl": "https://lh3.googleusercontent.com/a/default-user=s64",
      "userId": "16893195790372778185"
     },
     "user_tz": -420
    },
    "id": "3KCQJsEEjmZd",
    "outputId": "04288882-ee23-446a-8162-633e5ee65c82"
   },
   "outputs": [
    {
     "name": "stdout",
     "output_type": "stream",
     "text": [
      "load object from ./drqa/1-tokenizers/result/df_ThaiQA04K.pkl success,that is <class 'pandas.core.frame.DataFrame'>\n"
     ]
    },
    {
     "ename": "AttributeError",
     "evalue": "ignored",
     "output_type": "error",
     "traceback": [
      "\u001b[0;31m---------------------------------------------------------------------------\u001b[0m",
      "\u001b[0;31mAttributeError\u001b[0m                            Traceback (most recent call last)",
      "\u001b[0;32m<ipython-input-6-45e75f6a2ad5>\u001b[0m in \u001b[0;36m<module>\u001b[0;34m()\u001b[0m\n\u001b[1;32m      1\u001b[0m \u001b[0mfile\u001b[0m \u001b[0;34m=\u001b[0m \u001b[0;34m\"ThaiQA04K\"\u001b[0m\u001b[0;34m\u001b[0m\u001b[0;34m\u001b[0m\u001b[0m\n\u001b[1;32m      2\u001b[0m \u001b[0mdf_qa\u001b[0m \u001b[0;34m=\u001b[0m \u001b[0mload_pickle\u001b[0m\u001b[0;34m(\u001b[0m\u001b[0;34mf\"./drqa/1-tokenizers/result/df_{file}.pkl\"\u001b[0m\u001b[0;34m)\u001b[0m\u001b[0;34m\u001b[0m\u001b[0;34m\u001b[0m\u001b[0m\n\u001b[0;32m----> 3\u001b[0;31m \u001b[0mdf_qa\u001b[0m \u001b[0;34m=\u001b[0m \u001b[0mdf_qa\u001b[0m\u001b[0;34m[\u001b[0m\u001b[0;34m~\u001b[0m\u001b[0mdf_qa\u001b[0m\u001b[0;34m.\u001b[0m\u001b[0mhtml_answer\u001b[0m\u001b[0;34m.\u001b[0m\u001b[0misin\u001b[0m\u001b[0;34m(\u001b[0m\u001b[0;34m[\u001b[0m\u001b[0;34m'ไม่ใช่'\u001b[0m\u001b[0;34m,\u001b[0m\u001b[0;34m'ใช่'\u001b[0m\u001b[0;34m]\u001b[0m\u001b[0;34m)\u001b[0m\u001b[0;34m]\u001b[0m \u001b[0;31m#Exclude Yes/No Answer\u001b[0m\u001b[0;34m\u001b[0m\u001b[0;34m\u001b[0m\u001b[0m\n\u001b[0m\u001b[1;32m      4\u001b[0m \u001b[0mdisplay\u001b[0m\u001b[0;34m(\u001b[0m\u001b[0mdf_qa\u001b[0m\u001b[0;34m.\u001b[0m\u001b[0mhead\u001b[0m\u001b[0;34m(\u001b[0m\u001b[0;36m2\u001b[0m\u001b[0;34m)\u001b[0m\u001b[0;34m)\u001b[0m\u001b[0;34m\u001b[0m\u001b[0;34m\u001b[0m\u001b[0m\n\u001b[1;32m      5\u001b[0m \u001b[0mprint\u001b[0m\u001b[0;34m(\u001b[0m\u001b[0;34mf\"shape of df_qa {df_qa.shape}\"\u001b[0m\u001b[0;34m)\u001b[0m\u001b[0;34m\u001b[0m\u001b[0;34m\u001b[0m\u001b[0m\n",
      "\u001b[0;32m/usr/local/lib/python3.7/dist-packages/pandas/core/generic.py\u001b[0m in \u001b[0;36m__getattr__\u001b[0;34m(self, name)\u001b[0m\n\u001b[1;32m   5485\u001b[0m         ):\n\u001b[1;32m   5486\u001b[0m             \u001b[0;32mreturn\u001b[0m \u001b[0mself\u001b[0m\u001b[0;34m[\u001b[0m\u001b[0mname\u001b[0m\u001b[0;34m]\u001b[0m\u001b[0;34m\u001b[0m\u001b[0;34m\u001b[0m\u001b[0m\n\u001b[0;32m-> 5487\u001b[0;31m         \u001b[0;32mreturn\u001b[0m \u001b[0mobject\u001b[0m\u001b[0;34m.\u001b[0m\u001b[0m__getattribute__\u001b[0m\u001b[0;34m(\u001b[0m\u001b[0mself\u001b[0m\u001b[0;34m,\u001b[0m \u001b[0mname\u001b[0m\u001b[0;34m)\u001b[0m\u001b[0;34m\u001b[0m\u001b[0;34m\u001b[0m\u001b[0m\n\u001b[0m\u001b[1;32m   5488\u001b[0m \u001b[0;34m\u001b[0m\u001b[0m\n\u001b[1;32m   5489\u001b[0m     \u001b[0;32mdef\u001b[0m \u001b[0m__setattr__\u001b[0m\u001b[0;34m(\u001b[0m\u001b[0mself\u001b[0m\u001b[0;34m,\u001b[0m \u001b[0mname\u001b[0m\u001b[0;34m:\u001b[0m \u001b[0mstr\u001b[0m\u001b[0;34m,\u001b[0m \u001b[0mvalue\u001b[0m\u001b[0;34m)\u001b[0m \u001b[0;34m->\u001b[0m \u001b[0;32mNone\u001b[0m\u001b[0;34m:\u001b[0m\u001b[0;34m\u001b[0m\u001b[0;34m\u001b[0m\u001b[0m\n",
      "\u001b[0;31mAttributeError\u001b[0m: 'DataFrame' object has no attribute 'html_answer'"
     ]
    }
   ],
   "source": [
    "file = \"ThaiQA04K\" #ThaiQA04K ThaiQA15K\n",
    "df_qa = load_pickle(f\"./drqa/1-tokenizers/result/df_{file}_0_origi.pkl\")\n",
    "df_qa = df_qa[~df_qa.html_answer.isin(['ไม่ใช่','ใช่'])] #Exclude Yes/No Answer\n",
    "\n",
    "display(df_qa.head(2))\n",
    "print(f\"shape of df_qa {df_qa.shape}\")"
   ]
  },
  {
   "cell_type": "code",
   "execution_count": null,
   "id": "QpCisnlskYoH",
   "metadata": {
    "colab": {
     "base_uri": "https://localhost:8080/",
     "height": 294
    },
    "executionInfo": {
     "elapsed": 7586,
     "status": "ok",
     "timestamp": 1647079003364,
     "user": {
      "displayName": "taitip Suphasiriwattana",
      "photoUrl": "https://lh3.googleusercontent.com/a/default-user=s64",
      "userId": "16893195790372778185"
     },
     "user_tz": -420
    },
    "id": "QpCisnlskYoH",
    "outputId": "bb46e0c0-9de2-40c7-8aeb-d3d7bb397184"
   },
   "outputs": [
    {
     "data": {
      "text/html": [
       "\n",
       "  <div id=\"df-9cdc8aa4-f1bc-4b97-bf4f-6070afb7aa39\">\n",
       "    <div class=\"colab-df-container\">\n",
       "      <div>\n",
       "<style scoped>\n",
       "    .dataframe tbody tr th:only-of-type {\n",
       "        vertical-align: middle;\n",
       "    }\n",
       "\n",
       "    .dataframe tbody tr th {\n",
       "        vertical-align: top;\n",
       "    }\n",
       "\n",
       "    .dataframe thead th {\n",
       "        text-align: right;\n",
       "    }\n",
       "</style>\n",
       "<table border=\"1\" class=\"dataframe\">\n",
       "  <thead>\n",
       "    <tr style=\"text-align: right;\">\n",
       "      <th></th>\n",
       "      <th>article_id</th>\n",
       "      <th>id</th>\n",
       "      <th>html_context</th>\n",
       "      <th>question</th>\n",
       "      <th>html_label</th>\n",
       "      <th>html_answer</th>\n",
       "      <th>context</th>\n",
       "      <th>label</th>\n",
       "    </tr>\n",
       "  </thead>\n",
       "  <tbody>\n",
       "    <tr>\n",
       "      <th>0</th>\n",
       "      <td>115035</td>\n",
       "      <td>1</td>\n",
       "      <td>&lt;doc id=\"115035\" url=\"https://th.wikipedia.org...</td>\n",
       "      <td>สุนัขตัวแรกรับบทเป็นเบนจี้ในภาพยนตร์เรื่อง Ben...</td>\n",
       "      <td>[529, 538]</td>\n",
       "      <td>ฮิกกิ้นส์</td>\n",
       "      <td>เบนจี้ เบนจี้ () เป็นชื่อตัวละครหมาพันทางแสนรู...</td>\n",
       "      <td>[447, 456]</td>\n",
       "    </tr>\n",
       "    <tr>\n",
       "      <th>1</th>\n",
       "      <td>376583</td>\n",
       "      <td>2</td>\n",
       "      <td>&lt;doc id=\"376583\" url=\"https://th.wikipedia.org...</td>\n",
       "      <td>ลูนา 1 เป็นยานอวกาศลำแรกในโครงการลูนาของโซเวีย...</td>\n",
       "      <td>[139, 144]</td>\n",
       "      <td>เมชตา</td>\n",
       "      <td>ลูนา 1 ลูนา 1 (อี-1 ซีรีส์) ซึ่งในขณะนั้นรู้จั...</td>\n",
       "      <td>[57, 62]</td>\n",
       "    </tr>\n",
       "  </tbody>\n",
       "</table>\n",
       "</div>\n",
       "      <button class=\"colab-df-convert\" onclick=\"convertToInteractive('df-9cdc8aa4-f1bc-4b97-bf4f-6070afb7aa39')\"\n",
       "              title=\"Convert this dataframe to an interactive table.\"\n",
       "              style=\"display:none;\">\n",
       "        \n",
       "  <svg xmlns=\"http://www.w3.org/2000/svg\" height=\"24px\"viewBox=\"0 0 24 24\"\n",
       "       width=\"24px\">\n",
       "    <path d=\"M0 0h24v24H0V0z\" fill=\"none\"/>\n",
       "    <path d=\"M18.56 5.44l.94 2.06.94-2.06 2.06-.94-2.06-.94-.94-2.06-.94 2.06-2.06.94zm-11 1L8.5 8.5l.94-2.06 2.06-.94-2.06-.94L8.5 2.5l-.94 2.06-2.06.94zm10 10l.94 2.06.94-2.06 2.06-.94-2.06-.94-.94-2.06-.94 2.06-2.06.94z\"/><path d=\"M17.41 7.96l-1.37-1.37c-.4-.4-.92-.59-1.43-.59-.52 0-1.04.2-1.43.59L10.3 9.45l-7.72 7.72c-.78.78-.78 2.05 0 2.83L4 21.41c.39.39.9.59 1.41.59.51 0 1.02-.2 1.41-.59l7.78-7.78 2.81-2.81c.8-.78.8-2.07 0-2.86zM5.41 20L4 18.59l7.72-7.72 1.47 1.35L5.41 20z\"/>\n",
       "  </svg>\n",
       "      </button>\n",
       "      \n",
       "  <style>\n",
       "    .colab-df-container {\n",
       "      display:flex;\n",
       "      flex-wrap:wrap;\n",
       "      gap: 12px;\n",
       "    }\n",
       "\n",
       "    .colab-df-convert {\n",
       "      background-color: #E8F0FE;\n",
       "      border: none;\n",
       "      border-radius: 50%;\n",
       "      cursor: pointer;\n",
       "      display: none;\n",
       "      fill: #1967D2;\n",
       "      height: 32px;\n",
       "      padding: 0 0 0 0;\n",
       "      width: 32px;\n",
       "    }\n",
       "\n",
       "    .colab-df-convert:hover {\n",
       "      background-color: #E2EBFA;\n",
       "      box-shadow: 0px 1px 2px rgba(60, 64, 67, 0.3), 0px 1px 3px 1px rgba(60, 64, 67, 0.15);\n",
       "      fill: #174EA6;\n",
       "    }\n",
       "\n",
       "    [theme=dark] .colab-df-convert {\n",
       "      background-color: #3B4455;\n",
       "      fill: #D2E3FC;\n",
       "    }\n",
       "\n",
       "    [theme=dark] .colab-df-convert:hover {\n",
       "      background-color: #434B5C;\n",
       "      box-shadow: 0px 1px 3px 1px rgba(0, 0, 0, 0.15);\n",
       "      filter: drop-shadow(0px 1px 2px rgba(0, 0, 0, 0.3));\n",
       "      fill: #FFFFFF;\n",
       "    }\n",
       "  </style>\n",
       "\n",
       "      <script>\n",
       "        const buttonEl =\n",
       "          document.querySelector('#df-9cdc8aa4-f1bc-4b97-bf4f-6070afb7aa39 button.colab-df-convert');\n",
       "        buttonEl.style.display =\n",
       "          google.colab.kernel.accessAllowed ? 'block' : 'none';\n",
       "\n",
       "        async function convertToInteractive(key) {\n",
       "          const element = document.querySelector('#df-9cdc8aa4-f1bc-4b97-bf4f-6070afb7aa39');\n",
       "          const dataTable =\n",
       "            await google.colab.kernel.invokeFunction('convertToInteractive',\n",
       "                                                     [key], {});\n",
       "          if (!dataTable) return;\n",
       "\n",
       "          const docLinkHtml = 'Like what you see? Visit the ' +\n",
       "            '<a target=\"_blank\" href=https://colab.research.google.com/notebooks/data_table.ipynb>data table notebook</a>'\n",
       "            + ' to learn more about interactive tables.';\n",
       "          element.innerHTML = '';\n",
       "          dataTable['output_type'] = 'display_data';\n",
       "          await google.colab.output.renderOutput(dataTable, element);\n",
       "          const docLink = document.createElement('div');\n",
       "          docLink.innerHTML = docLinkHtml;\n",
       "          element.appendChild(docLink);\n",
       "        }\n",
       "      </script>\n",
       "    </div>\n",
       "  </div>\n",
       "  "
      ],
      "text/plain": [
       "   article_id  id                                       html_context  \\\n",
       "0      115035   1  <doc id=\"115035\" url=\"https://th.wikipedia.org...   \n",
       "1      376583   2  <doc id=\"376583\" url=\"https://th.wikipedia.org...   \n",
       "\n",
       "                                            question  html_label html_answer  \\\n",
       "0  สุนัขตัวแรกรับบทเป็นเบนจี้ในภาพยนตร์เรื่อง Ben...  [529, 538]   ฮิกกิ้นส์   \n",
       "1  ลูนา 1 เป็นยานอวกาศลำแรกในโครงการลูนาของโซเวีย...  [139, 144]       เมชตา   \n",
       "\n",
       "                                             context       label  \n",
       "0  เบนจี้ เบนจี้ () เป็นชื่อตัวละครหมาพันทางแสนรู...  [447, 456]  \n",
       "1  ลูนา 1 ลูนา 1 (อี-1 ซีรีส์) ซึ่งในขณะนั้นรู้จั...    [57, 62]  "
      ]
     },
     "metadata": {},
     "output_type": "display_data"
    },
    {
     "name": "stdout",
     "output_type": "stream",
     "text": [
      "shape of df_qa (14994, 8)\n"
     ]
    }
   ],
   "source": [
    "def label_answer(context ,answer):\n",
    "  try:\n",
    "    start_idx = context.index(answer)\n",
    "    re_val = [start_idx, start_idx+len(answer)]\n",
    "  except:\n",
    "    re_val = np.nan\n",
    "  return re_val\n",
    "  \n",
    "df_qa['context'] = df_qa['html_context'].apply(lambda x: re.sub(r'\\s', ' ',BeautifulSoup(x, 'lxml').text))\n",
    "df_qa['label']  = df_qa.apply(lambda x: label_answer(x['context'],x['html_answer']) , axis=1)\n",
    "df_qa = df_qa[~df_qa.label.isna()]\n",
    "display(df_qa.head(2))\n",
    "print(f\"shape of df_qa {df_qa.shape}\")"
   ]
  },
  {
   "cell_type": "code",
   "execution_count": null,
   "id": "09vr40sYnRho",
   "metadata": {
    "colab": {
     "base_uri": "https://localhost:8080/"
    },
    "executionInfo": {
     "elapsed": 322,
     "status": "ok",
     "timestamp": 1647079019633,
     "user": {
      "displayName": "taitip Suphasiriwattana",
      "photoUrl": "https://lh3.googleusercontent.com/a/default-user=s64",
      "userId": "16893195790372778185"
     },
     "user_tz": -420
    },
    "id": "09vr40sYnRho",
    "outputId": "238e4ebb-5a82-43ed-ab87-8cfbf8e0a016"
   },
   "outputs": [
    {
     "name": "stdout",
     "output_type": "stream",
     "text": [
      " Correct Answer : 14994\n"
     ]
    }
   ],
   "source": [
    "#Check map new answer\n",
    "def getanswer(context,label):\n",
    "  sidx,eidx = label\n",
    "  return context[sidx:eidx]\n",
    "print(f\" Correct Answer : {sum(df_qa.apply(lambda x: getanswer(x['context'],x['label']) , axis=1) == df_qa['html_answer'])}\")"
   ]
  },
  {
   "cell_type": "code",
   "execution_count": null,
   "id": "zpXvzFGuq15K",
   "metadata": {
    "colab": {
     "base_uri": "https://localhost:8080/"
    },
    "executionInfo": {
     "elapsed": 2218,
     "status": "ok",
     "timestamp": 1647079037950,
     "user": {
      "displayName": "taitip Suphasiriwattana",
      "photoUrl": "https://lh3.googleusercontent.com/a/default-user=s64",
      "userId": "16893195790372778185"
     },
     "user_tz": -420
    },
    "id": "zpXvzFGuq15K",
    "outputId": "625f2978-3742-42f2-ab60-2dc0186a7d21"
   },
   "outputs": [
    {
     "name": "stdout",
     "output_type": "stream",
     "text": [
      "save df_ThaiQACorpus_cleaning to ./drqa/1-tokenizers/result/df_ThaiQACorpus_cleaning.pkl success\n"
     ]
    }
   ],
   "source": [
    "save_to_pickle(df_qa.drop(columns=['html_context','html_label']).rename(columns={'html_answer':'answer'}) , \n",
    "               f\"./drqa/1-tokenizers/result/df_{file}_cleaning.pkl\")"
   ]
  },
  {
   "cell_type": "markdown",
   "id": "5fkWgTUDfVJH",
   "metadata": {
    "id": "5fkWgTUDfVJH"
   },
   "source": [
    "## Create list of Word"
   ]
  },
  {
   "cell_type": "code",
   "execution_count": null,
   "id": "H2sHS6QxsBTN",
   "metadata": {
    "colab": {
     "base_uri": "https://localhost:8080/",
     "height": 225
    },
    "executionInfo": {
     "elapsed": 871,
     "status": "ok",
     "timestamp": 1647079103615,
     "user": {
      "displayName": "taitip Suphasiriwattana",
      "photoUrl": "https://lh3.googleusercontent.com/a/default-user=s64",
      "userId": "16893195790372778185"
     },
     "user_tz": -420
    },
    "id": "H2sHS6QxsBTN",
    "outputId": "475e8fca-f321-40c2-e333-dc2f0ced5b1a"
   },
   "outputs": [
    {
     "name": "stdout",
     "output_type": "stream",
     "text": [
      "load object from ./drqa/1-tokenizers/result/df_ThaiQACorpus_cleaning.pkl success,that is <class 'pandas.core.frame.DataFrame'>\n",
      "shape of df_train (14994, 6)\n"
     ]
    },
    {
     "data": {
      "text/html": [
       "\n",
       "  <div id=\"df-f82490ea-a905-4b98-8661-618012997495\">\n",
       "    <div class=\"colab-df-container\">\n",
       "      <div>\n",
       "<style scoped>\n",
       "    .dataframe tbody tr th:only-of-type {\n",
       "        vertical-align: middle;\n",
       "    }\n",
       "\n",
       "    .dataframe tbody tr th {\n",
       "        vertical-align: top;\n",
       "    }\n",
       "\n",
       "    .dataframe thead th {\n",
       "        text-align: right;\n",
       "    }\n",
       "</style>\n",
       "<table border=\"1\" class=\"dataframe\">\n",
       "  <thead>\n",
       "    <tr style=\"text-align: right;\">\n",
       "      <th></th>\n",
       "      <th>article_id</th>\n",
       "      <th>id</th>\n",
       "      <th>question</th>\n",
       "      <th>answer</th>\n",
       "      <th>context</th>\n",
       "      <th>label</th>\n",
       "    </tr>\n",
       "  </thead>\n",
       "  <tbody>\n",
       "    <tr>\n",
       "      <th>0</th>\n",
       "      <td>115035</td>\n",
       "      <td>1</td>\n",
       "      <td>สุนัขตัวแรกรับบทเป็นเบนจี้ในภาพยนตร์เรื่อง Ben...</td>\n",
       "      <td>ฮิกกิ้นส์</td>\n",
       "      <td>เบนจี้ เบนจี้ () เป็นชื่อตัวละครหมาพันทางแสนรู...</td>\n",
       "      <td>[447, 456]</td>\n",
       "    </tr>\n",
       "    <tr>\n",
       "      <th>1</th>\n",
       "      <td>376583</td>\n",
       "      <td>2</td>\n",
       "      <td>ลูนา 1 เป็นยานอวกาศลำแรกในโครงการลูนาของโซเวีย...</td>\n",
       "      <td>เมชตา</td>\n",
       "      <td>ลูนา 1 ลูนา 1 (อี-1 ซีรีส์) ซึ่งในขณะนั้นรู้จั...</td>\n",
       "      <td>[57, 62]</td>\n",
       "    </tr>\n",
       "  </tbody>\n",
       "</table>\n",
       "</div>\n",
       "      <button class=\"colab-df-convert\" onclick=\"convertToInteractive('df-f82490ea-a905-4b98-8661-618012997495')\"\n",
       "              title=\"Convert this dataframe to an interactive table.\"\n",
       "              style=\"display:none;\">\n",
       "        \n",
       "  <svg xmlns=\"http://www.w3.org/2000/svg\" height=\"24px\"viewBox=\"0 0 24 24\"\n",
       "       width=\"24px\">\n",
       "    <path d=\"M0 0h24v24H0V0z\" fill=\"none\"/>\n",
       "    <path d=\"M18.56 5.44l.94 2.06.94-2.06 2.06-.94-2.06-.94-.94-2.06-.94 2.06-2.06.94zm-11 1L8.5 8.5l.94-2.06 2.06-.94-2.06-.94L8.5 2.5l-.94 2.06-2.06.94zm10 10l.94 2.06.94-2.06 2.06-.94-2.06-.94-.94-2.06-.94 2.06-2.06.94z\"/><path d=\"M17.41 7.96l-1.37-1.37c-.4-.4-.92-.59-1.43-.59-.52 0-1.04.2-1.43.59L10.3 9.45l-7.72 7.72c-.78.78-.78 2.05 0 2.83L4 21.41c.39.39.9.59 1.41.59.51 0 1.02-.2 1.41-.59l7.78-7.78 2.81-2.81c.8-.78.8-2.07 0-2.86zM5.41 20L4 18.59l7.72-7.72 1.47 1.35L5.41 20z\"/>\n",
       "  </svg>\n",
       "      </button>\n",
       "      \n",
       "  <style>\n",
       "    .colab-df-container {\n",
       "      display:flex;\n",
       "      flex-wrap:wrap;\n",
       "      gap: 12px;\n",
       "    }\n",
       "\n",
       "    .colab-df-convert {\n",
       "      background-color: #E8F0FE;\n",
       "      border: none;\n",
       "      border-radius: 50%;\n",
       "      cursor: pointer;\n",
       "      display: none;\n",
       "      fill: #1967D2;\n",
       "      height: 32px;\n",
       "      padding: 0 0 0 0;\n",
       "      width: 32px;\n",
       "    }\n",
       "\n",
       "    .colab-df-convert:hover {\n",
       "      background-color: #E2EBFA;\n",
       "      box-shadow: 0px 1px 2px rgba(60, 64, 67, 0.3), 0px 1px 3px 1px rgba(60, 64, 67, 0.15);\n",
       "      fill: #174EA6;\n",
       "    }\n",
       "\n",
       "    [theme=dark] .colab-df-convert {\n",
       "      background-color: #3B4455;\n",
       "      fill: #D2E3FC;\n",
       "    }\n",
       "\n",
       "    [theme=dark] .colab-df-convert:hover {\n",
       "      background-color: #434B5C;\n",
       "      box-shadow: 0px 1px 3px 1px rgba(0, 0, 0, 0.15);\n",
       "      filter: drop-shadow(0px 1px 2px rgba(0, 0, 0, 0.3));\n",
       "      fill: #FFFFFF;\n",
       "    }\n",
       "  </style>\n",
       "\n",
       "      <script>\n",
       "        const buttonEl =\n",
       "          document.querySelector('#df-f82490ea-a905-4b98-8661-618012997495 button.colab-df-convert');\n",
       "        buttonEl.style.display =\n",
       "          google.colab.kernel.accessAllowed ? 'block' : 'none';\n",
       "\n",
       "        async function convertToInteractive(key) {\n",
       "          const element = document.querySelector('#df-f82490ea-a905-4b98-8661-618012997495');\n",
       "          const dataTable =\n",
       "            await google.colab.kernel.invokeFunction('convertToInteractive',\n",
       "                                                     [key], {});\n",
       "          if (!dataTable) return;\n",
       "\n",
       "          const docLinkHtml = 'Like what you see? Visit the ' +\n",
       "            '<a target=\"_blank\" href=https://colab.research.google.com/notebooks/data_table.ipynb>data table notebook</a>'\n",
       "            + ' to learn more about interactive tables.';\n",
       "          element.innerHTML = '';\n",
       "          dataTable['output_type'] = 'display_data';\n",
       "          await google.colab.output.renderOutput(dataTable, element);\n",
       "          const docLink = document.createElement('div');\n",
       "          docLink.innerHTML = docLinkHtml;\n",
       "          element.appendChild(docLink);\n",
       "        }\n",
       "      </script>\n",
       "    </div>\n",
       "  </div>\n",
       "  "
      ],
      "text/plain": [
       "   article_id  id                                           question  \\\n",
       "0      115035   1  สุนัขตัวแรกรับบทเป็นเบนจี้ในภาพยนตร์เรื่อง Ben...   \n",
       "1      376583   2  ลูนา 1 เป็นยานอวกาศลำแรกในโครงการลูนาของโซเวีย...   \n",
       "\n",
       "      answer                                            context       label  \n",
       "0  ฮิกกิ้นส์  เบนจี้ เบนจี้ () เป็นชื่อตัวละครหมาพันทางแสนรู...  [447, 456]  \n",
       "1      เมชตา  ลูนา 1 ลูนา 1 (อี-1 ซีรีส์) ซึ่งในขณะนั้นรู้จั...    [57, 62]  "
      ]
     },
     "metadata": {},
     "output_type": "display_data"
    }
   ],
   "source": [
    "file = \"ThaiQACorpus\"\n",
    "df_qa = load_pickle(f\"./drqa/1-tokenizers/result/df_{file}_cleaning.pkl\")\n",
    "print(f\"shape of df_train {df_qa.shape}\")\n",
    "display(df_qa.head(2))"
   ]
  },
  {
   "cell_type": "code",
   "execution_count": null,
   "id": "0c1364b4",
   "metadata": {
    "colab": {
     "base_uri": "https://localhost:8080/"
    },
    "executionInfo": {
     "elapsed": 108023,
     "status": "ok",
     "timestamp": 1647079225803,
     "user": {
      "displayName": "taitip Suphasiriwattana",
      "photoUrl": "https://lh3.googleusercontent.com/a/default-user=s64",
      "userId": "16893195790372778185"
     },
     "user_tz": -420
    },
    "id": "0c1364b4",
    "outputId": "c4b8812d-5fe1-4147-da07-9f26c2512533"
   },
   "outputs": [
    {
     "name": "stdout",
     "output_type": "stream",
     "text": [
      "Number of sentences in dataset:  23669\n",
      "raw-vocab: 111891\n",
      "vocab-length: 111891\n",
      "word2idx-length: 111891\n",
      "CPU times: user 1min 47s, sys: 817 ms, total: 1min 47s\n",
      "Wall time: 1min 47s\n"
     ]
    }
   ],
   "source": [
    "# gather text to build vocabularies\n",
    "%%time\n",
    "vocab_text = gather_text_for_vocab([df_qa])\n",
    "word2idx, idx2word, word_vocab = build_word_vocab(vocab_text)"
   ]
  },
  {
   "cell_type": "code",
   "execution_count": null,
   "id": "751357ec",
   "metadata": {
    "colab": {
     "base_uri": "https://localhost:8080/",
     "height": 277
    },
    "executionInfo": {
     "elapsed": 204203,
     "status": "ok",
     "timestamp": 1647079429996,
     "user": {
      "displayName": "taitip Suphasiriwattana",
      "photoUrl": "https://lh3.googleusercontent.com/a/default-user=s64",
      "userId": "16893195790372778185"
     },
     "user_tz": -420
    },
    "id": "751357ec",
    "outputId": "d9413360-0b62-4166-cc39-58e92fb7ae43"
   },
   "outputs": [
    {
     "data": {
      "text/html": [
       "\n",
       "  <div id=\"df-c8f239e8-7ed4-491c-af81-8248d9a3a629\">\n",
       "    <div class=\"colab-df-container\">\n",
       "      <div>\n",
       "<style scoped>\n",
       "    .dataframe tbody tr th:only-of-type {\n",
       "        vertical-align: middle;\n",
       "    }\n",
       "\n",
       "    .dataframe tbody tr th {\n",
       "        vertical-align: top;\n",
       "    }\n",
       "\n",
       "    .dataframe thead th {\n",
       "        text-align: right;\n",
       "    }\n",
       "</style>\n",
       "<table border=\"1\" class=\"dataframe\">\n",
       "  <thead>\n",
       "    <tr style=\"text-align: right;\">\n",
       "      <th></th>\n",
       "      <th>article_id</th>\n",
       "      <th>id</th>\n",
       "      <th>question</th>\n",
       "      <th>answer</th>\n",
       "      <th>context</th>\n",
       "      <th>label</th>\n",
       "      <th>context_ids</th>\n",
       "      <th>question_ids</th>\n",
       "    </tr>\n",
       "  </thead>\n",
       "  <tbody>\n",
       "    <tr>\n",
       "      <th>0</th>\n",
       "      <td>115035</td>\n",
       "      <td>1</td>\n",
       "      <td>สุนัขตัวแรกรับบทเป็นเบนจี้ในภาพยนตร์เรื่อง Ben...</td>\n",
       "      <td>ฮิกกิ้นส์</td>\n",
       "      <td>เบนจี้ เบนจี้ () เป็นชื่อตัวละครหมาพันทางแสนรู...</td>\n",
       "      <td>[447, 456]</td>\n",
       "      <td>[2695, 5276, 2, 2695, 5276, 2, 162, 2, 7, 65, ...</td>\n",
       "      <td>[2329, 133, 91, 131, 7, 2695, 5276, 3, 105, 64...</td>\n",
       "    </tr>\n",
       "    <tr>\n",
       "      <th>1</th>\n",
       "      <td>376583</td>\n",
       "      <td>2</td>\n",
       "      <td>ลูนา 1 เป็นยานอวกาศลำแรกในโครงการลูนาของโซเวีย...</td>\n",
       "      <td>เมชตา</td>\n",
       "      <td>ลูนา 1 ลูนา 1 (อี-1 ซีรีส์) ซึ่งในขณะนั้นรู้จั...</td>\n",
       "      <td>[57, 62]</td>\n",
       "      <td>[1153, 155, 2, 50, 2, 1153, 155, 2, 50, 2, 10,...</td>\n",
       "      <td>[1153, 155, 2, 50, 2, 7, 6661, 840, 91, 3, 447...</td>\n",
       "    </tr>\n",
       "  </tbody>\n",
       "</table>\n",
       "</div>\n",
       "      <button class=\"colab-df-convert\" onclick=\"convertToInteractive('df-c8f239e8-7ed4-491c-af81-8248d9a3a629')\"\n",
       "              title=\"Convert this dataframe to an interactive table.\"\n",
       "              style=\"display:none;\">\n",
       "        \n",
       "  <svg xmlns=\"http://www.w3.org/2000/svg\" height=\"24px\"viewBox=\"0 0 24 24\"\n",
       "       width=\"24px\">\n",
       "    <path d=\"M0 0h24v24H0V0z\" fill=\"none\"/>\n",
       "    <path d=\"M18.56 5.44l.94 2.06.94-2.06 2.06-.94-2.06-.94-.94-2.06-.94 2.06-2.06.94zm-11 1L8.5 8.5l.94-2.06 2.06-.94-2.06-.94L8.5 2.5l-.94 2.06-2.06.94zm10 10l.94 2.06.94-2.06 2.06-.94-2.06-.94-.94-2.06-.94 2.06-2.06.94z\"/><path d=\"M17.41 7.96l-1.37-1.37c-.4-.4-.92-.59-1.43-.59-.52 0-1.04.2-1.43.59L10.3 9.45l-7.72 7.72c-.78.78-.78 2.05 0 2.83L4 21.41c.39.39.9.59 1.41.59.51 0 1.02-.2 1.41-.59l7.78-7.78 2.81-2.81c.8-.78.8-2.07 0-2.86zM5.41 20L4 18.59l7.72-7.72 1.47 1.35L5.41 20z\"/>\n",
       "  </svg>\n",
       "      </button>\n",
       "      \n",
       "  <style>\n",
       "    .colab-df-container {\n",
       "      display:flex;\n",
       "      flex-wrap:wrap;\n",
       "      gap: 12px;\n",
       "    }\n",
       "\n",
       "    .colab-df-convert {\n",
       "      background-color: #E8F0FE;\n",
       "      border: none;\n",
       "      border-radius: 50%;\n",
       "      cursor: pointer;\n",
       "      display: none;\n",
       "      fill: #1967D2;\n",
       "      height: 32px;\n",
       "      padding: 0 0 0 0;\n",
       "      width: 32px;\n",
       "    }\n",
       "\n",
       "    .colab-df-convert:hover {\n",
       "      background-color: #E2EBFA;\n",
       "      box-shadow: 0px 1px 2px rgba(60, 64, 67, 0.3), 0px 1px 3px 1px rgba(60, 64, 67, 0.15);\n",
       "      fill: #174EA6;\n",
       "    }\n",
       "\n",
       "    [theme=dark] .colab-df-convert {\n",
       "      background-color: #3B4455;\n",
       "      fill: #D2E3FC;\n",
       "    }\n",
       "\n",
       "    [theme=dark] .colab-df-convert:hover {\n",
       "      background-color: #434B5C;\n",
       "      box-shadow: 0px 1px 3px 1px rgba(0, 0, 0, 0.15);\n",
       "      filter: drop-shadow(0px 1px 2px rgba(0, 0, 0, 0.3));\n",
       "      fill: #FFFFFF;\n",
       "    }\n",
       "  </style>\n",
       "\n",
       "      <script>\n",
       "        const buttonEl =\n",
       "          document.querySelector('#df-c8f239e8-7ed4-491c-af81-8248d9a3a629 button.colab-df-convert');\n",
       "        buttonEl.style.display =\n",
       "          google.colab.kernel.accessAllowed ? 'block' : 'none';\n",
       "\n",
       "        async function convertToInteractive(key) {\n",
       "          const element = document.querySelector('#df-c8f239e8-7ed4-491c-af81-8248d9a3a629');\n",
       "          const dataTable =\n",
       "            await google.colab.kernel.invokeFunction('convertToInteractive',\n",
       "                                                     [key], {});\n",
       "          if (!dataTable) return;\n",
       "\n",
       "          const docLinkHtml = 'Like what you see? Visit the ' +\n",
       "            '<a target=\"_blank\" href=https://colab.research.google.com/notebooks/data_table.ipynb>data table notebook</a>'\n",
       "            + ' to learn more about interactive tables.';\n",
       "          element.innerHTML = '';\n",
       "          dataTable['output_type'] = 'display_data';\n",
       "          await google.colab.output.renderOutput(dataTable, element);\n",
       "          const docLink = document.createElement('div');\n",
       "          docLink.innerHTML = docLinkHtml;\n",
       "          element.appendChild(docLink);\n",
       "        }\n",
       "      </script>\n",
       "    </div>\n",
       "  </div>\n",
       "  "
      ],
      "text/plain": [
       "   article_id  id                                           question  \\\n",
       "0      115035   1  สุนัขตัวแรกรับบทเป็นเบนจี้ในภาพยนตร์เรื่อง Ben...   \n",
       "1      376583   2  ลูนา 1 เป็นยานอวกาศลำแรกในโครงการลูนาของโซเวีย...   \n",
       "\n",
       "      answer                                            context       label  \\\n",
       "0  ฮิกกิ้นส์  เบนจี้ เบนจี้ () เป็นชื่อตัวละครหมาพันทางแสนรู...  [447, 456]   \n",
       "1      เมชตา  ลูนา 1 ลูนา 1 (อี-1 ซีรีส์) ซึ่งในขณะนั้นรู้จั...    [57, 62]   \n",
       "\n",
       "                                         context_ids  \\\n",
       "0  [2695, 5276, 2, 2695, 5276, 2, 162, 2, 7, 65, ...   \n",
       "1  [1153, 155, 2, 50, 2, 1153, 155, 2, 50, 2, 10,...   \n",
       "\n",
       "                                        question_ids  \n",
       "0  [2329, 133, 91, 131, 7, 2695, 5276, 3, 105, 64...  \n",
       "1  [1153, 155, 2, 50, 2, 7, 6661, 840, 91, 3, 447...  "
      ]
     },
     "metadata": {},
     "output_type": "display_data"
    },
    {
     "name": "stdout",
     "output_type": "stream",
     "text": [
      "CPU times: user 3min 24s, sys: 588 ms, total: 3min 24s\n",
      "Wall time: 3min 24s\n"
     ]
    }
   ],
   "source": [
    "# numericalize context and questions\n",
    "%%time\n",
    "df_qa['context_ids']   = df_qa.context.apply(word_to_ids,   word2idx=word2idx)\n",
    "df_qa['question_ids'] = df_qa.question.apply(word_to_ids,  word2idx=word2idx)\n",
    "display(df_qa.head(2))"
   ]
  },
  {
   "cell_type": "code",
   "execution_count": null,
   "id": "cdad3498",
   "metadata": {
    "id": "cdad3498"
   },
   "outputs": [],
   "source": [
    "def test_indices(df, idx2word):\n",
    "    '''\n",
    "    Performs the tests mentioned above. This method also gets the start and end of the answers\n",
    "    with respect to the context_ids for each example.\n",
    "    :param dataframe df: SQUAD df\n",
    "    :param dict idx2word: inverse mapping of token ids to words\n",
    "    :returns\n",
    "        list start_value_error: example idx where the start idx is not found in the start spans\n",
    "                                of the text\n",
    "        list end_value_error: example idx where the end idx is not found in the end spans\n",
    "                              of the text\n",
    "        list assert_error: examples that fail assertion errors. A majority are due to the above errors\n",
    "    '''\n",
    "\n",
    "    start_value_error = []\n",
    "    end_value_error = []\n",
    "    assert_error = []\n",
    "    for index, row in df.iterrows():\n",
    "        answer_tokens = [w for w in word_tokenize(row['answer'] ,engine='newmm')]\n",
    "        \n",
    "        context_tokens = word_tokenize(row['context'] ,engine='newmm')\n",
    "        context_span  = [(len(\"\".join(context_tokens[0:i])), len(\"\".join(context_tokens[0:i+1]))) \n",
    "                         for i,w in enumerate(context_tokens)]\n",
    "        starts, ends = zip(*context_span)\n",
    "\n",
    "        answer_start, answer_end = row['label']\n",
    "\n",
    "        try:\n",
    "            start_idx = starts.index(answer_start)\n",
    "        except:\n",
    "            start_value_error.append(index)\n",
    "        try:\n",
    "            end_idx  = ends.index(answer_end)\n",
    "        except:\n",
    "            end_value_error.append(index)\n",
    "\n",
    "        try:\n",
    "            assert idx2word[row['context_ids'][start_idx]] == answer_tokens[0]\n",
    "            assert idx2word[row['context_ids'][end_idx]] == answer_tokens[-1]\n",
    "        except:\n",
    "            assert_error.append(index)\n",
    "\n",
    "\n",
    "    return start_value_error, end_value_error, assert_error\n",
    "\n",
    "def get_error_indices(df, idx2word):\n",
    "    \n",
    "    start_value_error, end_value_error, assert_error = test_indices(df, idx2word)\n",
    "    err_idx = start_value_error + end_value_error + assert_error\n",
    "    err_idx = set(err_idx)\n",
    "    print(f\"Number of error indices: {len(err_idx)}\")\n",
    "    \n",
    "    return err_idx"
   ]
  },
  {
   "cell_type": "code",
   "execution_count": null,
   "id": "44392cd9",
   "metadata": {
    "colab": {
     "base_uri": "https://localhost:8080/"
    },
    "executionInfo": {
     "elapsed": 1558264,
     "status": "ok",
     "timestamp": 1647081019471,
     "user": {
      "displayName": "taitip Suphasiriwattana",
      "photoUrl": "https://lh3.googleusercontent.com/a/default-user=s64",
      "userId": "16893195790372778185"
     },
     "user_tz": -420
    },
    "id": "44392cd9",
    "outputId": "da5b27b5-9913-4fc3-e4e6-b92ec26e7cca"
   },
   "outputs": [
    {
     "name": "stdout",
     "output_type": "stream",
     "text": [
      "Number of error indices: 807\n",
      "Shape of data frame after drop error row: (14187, 8)\n",
      "CPU times: user 25min 57s, sys: 3.93 s, total: 26min 1s\n",
      "Wall time: 25min 58s\n"
     ]
    }
   ],
   "source": [
    "%%time \n",
    "train_err = get_error_indices(df_qa, idx2word)\n",
    "\n",
    "df_qa.drop(train_err, inplace=True)\n",
    "print(f\"Shape of data frame after drop error row: {df_qa.shape}\")\n",
    "#Some row is error explore that how to fixed that#"
   ]
  },
  {
   "cell_type": "code",
   "execution_count": null,
   "id": "2ba9dbb3",
   "metadata": {
    "id": "2ba9dbb3"
   },
   "outputs": [],
   "source": [
    "def index_answer(row, idx2word):\n",
    "    '''\n",
    "    Takes in a row of the dataframe or one training example and\n",
    "    returns a tuple of start and end positions of answer by calculating \n",
    "    spans.\n",
    "    '''\n",
    "    context_tokens = word_tokenize(row['context'] ,engine='newmm')\n",
    "    context_span  = [(len(\"\".join(context_tokens[0:i])), len(\"\".join(context_tokens[0:i+1]))) \n",
    "                     for i,w in enumerate(context_tokens)]\n",
    "    starts, ends = zip(*context_span)\n",
    "    \n",
    "    answer_start, answer_end = row['label']\n",
    "    \n",
    "    start_idx = starts.index(answer_start)\n",
    "    end_idx  = ends.index(answer_end)\n",
    "    \n",
    "    answer_tokens = [w for w in word_tokenize(row['answer'] ,engine='newmm')]\n",
    "    assert idx2word[row.context_ids[start_idx]] == answer_tokens[0]\n",
    "    assert idx2word[row.context_ids[end_idx]] == answer_tokens[-1]\n",
    "    \n",
    "    return [start_idx, end_idx]"
   ]
  },
  {
   "cell_type": "code",
   "execution_count": null,
   "id": "203f5a33",
   "metadata": {
    "colab": {
     "base_uri": "https://localhost:8080/",
     "height": 312
    },
    "executionInfo": {
     "elapsed": 1473152,
     "status": "ok",
     "timestamp": 1647082492613,
     "user": {
      "displayName": "taitip Suphasiriwattana",
      "photoUrl": "https://lh3.googleusercontent.com/a/default-user=s64",
      "userId": "16893195790372778185"
     },
     "user_tz": -420
    },
    "id": "203f5a33",
    "outputId": "f14f9d32-80ca-4fc6-bc2b-8ea5edf143f6"
   },
   "outputs": [
    {
     "name": "stdout",
     "output_type": "stream",
     "text": [
      "df_qa.shape:(14187, 9)\n"
     ]
    },
    {
     "data": {
      "text/html": [
       "\n",
       "  <div id=\"df-f60ce9f5-950b-407d-9a15-c45f657d10f7\">\n",
       "    <div class=\"colab-df-container\">\n",
       "      <div>\n",
       "<style scoped>\n",
       "    .dataframe tbody tr th:only-of-type {\n",
       "        vertical-align: middle;\n",
       "    }\n",
       "\n",
       "    .dataframe tbody tr th {\n",
       "        vertical-align: top;\n",
       "    }\n",
       "\n",
       "    .dataframe thead th {\n",
       "        text-align: right;\n",
       "    }\n",
       "</style>\n",
       "<table border=\"1\" class=\"dataframe\">\n",
       "  <thead>\n",
       "    <tr style=\"text-align: right;\">\n",
       "      <th></th>\n",
       "      <th>article_id</th>\n",
       "      <th>id</th>\n",
       "      <th>question</th>\n",
       "      <th>answer</th>\n",
       "      <th>context</th>\n",
       "      <th>label</th>\n",
       "      <th>context_ids</th>\n",
       "      <th>question_ids</th>\n",
       "      <th>label_idx</th>\n",
       "    </tr>\n",
       "  </thead>\n",
       "  <tbody>\n",
       "    <tr>\n",
       "      <th>0</th>\n",
       "      <td>115035</td>\n",
       "      <td>1</td>\n",
       "      <td>สุนัขตัวแรกรับบทเป็นเบนจี้ในภาพยนตร์เรื่อง Ben...</td>\n",
       "      <td>ฮิกกิ้นส์</td>\n",
       "      <td>เบนจี้ เบนจี้ () เป็นชื่อตัวละครหมาพันทางแสนรู...</td>\n",
       "      <td>[447, 456]</td>\n",
       "      <td>[2695, 5276, 2, 2695, 5276, 2, 162, 2, 7, 65, ...</td>\n",
       "      <td>[2329, 133, 91, 131, 7, 2695, 5276, 3, 105, 64...</td>\n",
       "      <td>[133, 134]</td>\n",
       "    </tr>\n",
       "    <tr>\n",
       "      <th>1</th>\n",
       "      <td>376583</td>\n",
       "      <td>2</td>\n",
       "      <td>ลูนา 1 เป็นยานอวกาศลำแรกในโครงการลูนาของโซเวีย...</td>\n",
       "      <td>เมชตา</td>\n",
       "      <td>ลูนา 1 ลูนา 1 (อี-1 ซีรีส์) ซึ่งในขณะนั้นรู้จั...</td>\n",
       "      <td>[57, 62]</td>\n",
       "      <td>[1153, 155, 2, 50, 2, 1153, 155, 2, 50, 2, 10,...</td>\n",
       "      <td>[1153, 155, 2, 50, 2, 7, 6661, 840, 91, 3, 447...</td>\n",
       "      <td>[25, 27]</td>\n",
       "    </tr>\n",
       "  </tbody>\n",
       "</table>\n",
       "</div>\n",
       "      <button class=\"colab-df-convert\" onclick=\"convertToInteractive('df-f60ce9f5-950b-407d-9a15-c45f657d10f7')\"\n",
       "              title=\"Convert this dataframe to an interactive table.\"\n",
       "              style=\"display:none;\">\n",
       "        \n",
       "  <svg xmlns=\"http://www.w3.org/2000/svg\" height=\"24px\"viewBox=\"0 0 24 24\"\n",
       "       width=\"24px\">\n",
       "    <path d=\"M0 0h24v24H0V0z\" fill=\"none\"/>\n",
       "    <path d=\"M18.56 5.44l.94 2.06.94-2.06 2.06-.94-2.06-.94-.94-2.06-.94 2.06-2.06.94zm-11 1L8.5 8.5l.94-2.06 2.06-.94-2.06-.94L8.5 2.5l-.94 2.06-2.06.94zm10 10l.94 2.06.94-2.06 2.06-.94-2.06-.94-.94-2.06-.94 2.06-2.06.94z\"/><path d=\"M17.41 7.96l-1.37-1.37c-.4-.4-.92-.59-1.43-.59-.52 0-1.04.2-1.43.59L10.3 9.45l-7.72 7.72c-.78.78-.78 2.05 0 2.83L4 21.41c.39.39.9.59 1.41.59.51 0 1.02-.2 1.41-.59l7.78-7.78 2.81-2.81c.8-.78.8-2.07 0-2.86zM5.41 20L4 18.59l7.72-7.72 1.47 1.35L5.41 20z\"/>\n",
       "  </svg>\n",
       "      </button>\n",
       "      \n",
       "  <style>\n",
       "    .colab-df-container {\n",
       "      display:flex;\n",
       "      flex-wrap:wrap;\n",
       "      gap: 12px;\n",
       "    }\n",
       "\n",
       "    .colab-df-convert {\n",
       "      background-color: #E8F0FE;\n",
       "      border: none;\n",
       "      border-radius: 50%;\n",
       "      cursor: pointer;\n",
       "      display: none;\n",
       "      fill: #1967D2;\n",
       "      height: 32px;\n",
       "      padding: 0 0 0 0;\n",
       "      width: 32px;\n",
       "    }\n",
       "\n",
       "    .colab-df-convert:hover {\n",
       "      background-color: #E2EBFA;\n",
       "      box-shadow: 0px 1px 2px rgba(60, 64, 67, 0.3), 0px 1px 3px 1px rgba(60, 64, 67, 0.15);\n",
       "      fill: #174EA6;\n",
       "    }\n",
       "\n",
       "    [theme=dark] .colab-df-convert {\n",
       "      background-color: #3B4455;\n",
       "      fill: #D2E3FC;\n",
       "    }\n",
       "\n",
       "    [theme=dark] .colab-df-convert:hover {\n",
       "      background-color: #434B5C;\n",
       "      box-shadow: 0px 1px 3px 1px rgba(0, 0, 0, 0.15);\n",
       "      filter: drop-shadow(0px 1px 2px rgba(0, 0, 0, 0.3));\n",
       "      fill: #FFFFFF;\n",
       "    }\n",
       "  </style>\n",
       "\n",
       "      <script>\n",
       "        const buttonEl =\n",
       "          document.querySelector('#df-f60ce9f5-950b-407d-9a15-c45f657d10f7 button.colab-df-convert');\n",
       "        buttonEl.style.display =\n",
       "          google.colab.kernel.accessAllowed ? 'block' : 'none';\n",
       "\n",
       "        async function convertToInteractive(key) {\n",
       "          const element = document.querySelector('#df-f60ce9f5-950b-407d-9a15-c45f657d10f7');\n",
       "          const dataTable =\n",
       "            await google.colab.kernel.invokeFunction('convertToInteractive',\n",
       "                                                     [key], {});\n",
       "          if (!dataTable) return;\n",
       "\n",
       "          const docLinkHtml = 'Like what you see? Visit the ' +\n",
       "            '<a target=\"_blank\" href=https://colab.research.google.com/notebooks/data_table.ipynb>data table notebook</a>'\n",
       "            + ' to learn more about interactive tables.';\n",
       "          element.innerHTML = '';\n",
       "          dataTable['output_type'] = 'display_data';\n",
       "          await google.colab.output.renderOutput(dataTable, element);\n",
       "          const docLink = document.createElement('div');\n",
       "          docLink.innerHTML = docLinkHtml;\n",
       "          element.appendChild(docLink);\n",
       "        }\n",
       "      </script>\n",
       "    </div>\n",
       "  </div>\n",
       "  "
      ],
      "text/plain": [
       "   article_id  id                                           question  \\\n",
       "0      115035   1  สุนัขตัวแรกรับบทเป็นเบนจี้ในภาพยนตร์เรื่อง Ben...   \n",
       "1      376583   2  ลูนา 1 เป็นยานอวกาศลำแรกในโครงการลูนาของโซเวีย...   \n",
       "\n",
       "      answer                                            context       label  \\\n",
       "0  ฮิกกิ้นส์  เบนจี้ เบนจี้ () เป็นชื่อตัวละครหมาพันทางแสนรู...  [447, 456]   \n",
       "1      เมชตา  ลูนา 1 ลูนา 1 (อี-1 ซีรีส์) ซึ่งในขณะนั้นรู้จั...    [57, 62]   \n",
       "\n",
       "                                         context_ids  \\\n",
       "0  [2695, 5276, 2, 2695, 5276, 2, 162, 2, 7, 65, ...   \n",
       "1  [1153, 155, 2, 50, 2, 1153, 155, 2, 50, 2, 10,...   \n",
       "\n",
       "                                        question_ids   label_idx  \n",
       "0  [2329, 133, 91, 131, 7, 2695, 5276, 3, 105, 64...  [133, 134]  \n",
       "1  [1153, 155, 2, 50, 2, 7, 6661, 840, 91, 3, 447...    [25, 27]  "
      ]
     },
     "metadata": {},
     "output_type": "display_data"
    },
    {
     "name": "stdout",
     "output_type": "stream",
     "text": [
      "CPU times: user 24min 32s, sys: 3.93 s, total: 24min 36s\n",
      "Wall time: 24min 33s\n"
     ]
    }
   ],
   "source": [
    "%%time\n",
    "#label_idx is position in context_ids ,which value convert to word by idx2word[]\n",
    "label_idx = df_qa.apply(index_answer, axis=1, idx2word=idx2word)\n",
    "df_qa['label_idx'] = label_idx\n",
    "print(f\"df_qa.shape:{df_qa.shape}\")\n",
    "display(df_qa.head(2))"
   ]
  },
  {
   "cell_type": "markdown",
   "id": "cRytL5nBfhKL",
   "metadata": {
    "id": "cRytL5nBfhKL"
   },
   "source": [
    "## Save Data to plckle"
   ]
  },
  {
   "cell_type": "code",
   "execution_count": null,
   "id": "665b7e89",
   "metadata": {
    "colab": {
     "base_uri": "https://localhost:8080/"
    },
    "executionInfo": {
     "elapsed": 3590,
     "status": "ok",
     "timestamp": 1647082496187,
     "user": {
      "displayName": "taitip Suphasiriwattana",
      "photoUrl": "https://lh3.googleusercontent.com/a/default-user=s64",
      "userId": "16893195790372778185"
     },
     "user_tz": -420
    },
    "id": "665b7e89",
    "outputId": "bfbaaf9b-06fb-4e3c-cb9c-dd7ee7c34d99"
   },
   "outputs": [
    {
     "name": "stdout",
     "output_type": "stream",
     "text": [
      "save df_ThaiQACorpus_prepairing to ./drqa/1-tokenizers/result/df_ThaiQACorpus_prepairing.pkl success\n",
      "save dict_word2idx to ./drqa/1-tokenizers/result/dict_word2idx.pkl success\n",
      "save dict_idx2word to ./drqa/1-tokenizers/result/dict_idx2word.pkl success\n",
      "save list_word_vocab to ./drqa/1-tokenizers/result/list_word_vocab.pkl success\n"
     ]
    }
   ],
   "source": [
    "#Save this State\n",
    "save_to_pickle(df_qa , f\"./drqa/1-tokenizers/result/df_{file}_prepairing.pkl\")\n",
    "save_to_pickle(word2idx , \"./drqa/1-tokenizers/result/dict_word2idx.pkl\")\n",
    "save_to_pickle(idx2word , \"./drqa/1-tokenizers/result/dict_idx2word.pkl\")\n",
    "save_to_pickle(word_vocab , \"./drqa/1-tokenizers/result/list_word_vocab.pkl\")"
   ]
  },
  {
   "cell_type": "markdown",
   "id": "bGi_CHNRfnyA",
   "metadata": {
    "id": "bGi_CHNRfnyA"
   },
   "source": [
    "## Load Data"
   ]
  },
  {
   "cell_type": "code",
   "execution_count": null,
   "id": "00018824",
   "metadata": {
    "colab": {
     "base_uri": "https://localhost:8080/"
    },
    "executionInfo": {
     "elapsed": 3811,
     "status": "ok",
     "timestamp": 1647091837196,
     "user": {
      "displayName": "taitip Suphasiriwattana",
      "photoUrl": "https://lh3.googleusercontent.com/a/default-user=s64",
      "userId": "16893195790372778185"
     },
     "user_tz": -420
    },
    "id": "00018824",
    "outputId": "7561f957-55db-475d-cf7f-2e1534d7191a"
   },
   "outputs": [
    {
     "name": "stdout",
     "output_type": "stream",
     "text": [
      "load object from ./drqa/1-tokenizers/result/df_ThaiQACorpus_prepairing.pkl success,that is <class 'pandas.core.frame.DataFrame'>\n",
      "load object from ./drqa/1-tokenizers/result/dict_word2idx.pkl success,that is <class 'dict'>\n",
      "load object from ./drqa/1-tokenizers/result/dict_idx2word.pkl success,that is <class 'dict'>\n",
      "load object from ./drqa/1-tokenizers/result/list_word_vocab.pkl success,that is <class 'list'>\n"
     ]
    }
   ],
   "source": [
    "file = \"ThaiQACorpus\"\n",
    "df_qa = load_pickle(f\"./drqa/1-tokenizers/result/df_{file}_prepairing.pkl\")\n",
    "word2idx = load_pickle(\"./drqa/1-tokenizers/result/dict_word2idx.pkl\")\n",
    "idx2word = load_pickle(\"./drqa/1-tokenizers/result/dict_idx2word.pkl\")\n",
    "word_vocab = load_pickle(\"./drqa/1-tokenizers/result/list_word_vocab.pkl\")"
   ]
  },
  {
   "cell_type": "markdown",
   "id": "N-7k6S8KeddL",
   "metadata": {
    "id": "N-7k6S8KeddL"
   },
   "source": [
    "# Embedding \n",
    "ref : https://fasttext.cc/docs/en/crawl-vectors.html"
   ]
  },
  {
   "cell_type": "markdown",
   "id": "FkmHEXKFjYje",
   "metadata": {
    "id": "FkmHEXKFjYje"
   },
   "source": [
    "## FASTTEXT"
   ]
  },
  {
   "cell_type": "code",
   "execution_count": null,
   "id": "q98mo7ZQifQS",
   "metadata": {
    "colab": {
     "base_uri": "https://localhost:8080/"
    },
    "executionInfo": {
     "elapsed": 1699,
     "status": "ok",
     "timestamp": 1645556704796,
     "user": {
      "displayName": "taitip Suphasiriwattana",
      "photoUrl": "https://lh3.googleusercontent.com/a/default-user=s64",
      "userId": "16893195790372778185"
     },
     "user_tz": -420
    },
    "id": "q98mo7ZQifQS",
    "outputId": "6229ccc9-4683-4320-9bbc-3d27c53dd36e"
   },
   "outputs": [
    {
     "name": "stdout",
     "output_type": "stream",
     "text": [
      "Embedding dimension : 300\n",
      "Number of word in embedding : 2000000\n",
      "Example word in embedding : ['ที่', '</s>', \"'\", '.', 'การ', '-', 'ใน', 'และ', ')', '(', 'เป็น', 'ของ', ',', 'ได้', ':']\n",
      "CPU times: user 5.73 s, sys: 8.09 s, total: 13.8 s\n",
      "Wall time: 1min 47s\n"
     ]
    },
    {
     "name": "stderr",
     "output_type": "stream",
     "text": [
      "Warning : `load_model` does not return WordVectorModel or SupervisedModel any more, but a `FastText` object which is very similar.\n"
     ]
    }
   ],
   "source": [
    "%%time\n",
    "th_embedding = fasttext.load_model(\"./data/cc.th.300.bin\")\n",
    "print(f\"Embedding dimension : {th_embedding.get_dimension()}\")\n",
    "print(f\"Number of word in embedding : {len(th_embedding.get_words())}\")\n",
    "print(f\"Example word in embedding : {th_embedding.get_words()[0:15]}\")"
   ]
  },
  {
   "cell_type": "code",
   "execution_count": null,
   "id": "ssJoYXZ1ifaF",
   "metadata": {
    "id": "ssJoYXZ1ifaF"
   },
   "outputs": [],
   "source": [
    "def create_embed_matrix():\n",
    "  embed_matrix = {}\n",
    "  for word in th_embedding.get_words():\n",
    "    embed_matrix[word] = th_embedding.get_word_vector(word)\n",
    "  return embed_matrix"
   ]
  },
  {
   "cell_type": "code",
   "execution_count": null,
   "id": "LZf2Gyf5lAjZ",
   "metadata": {
    "colab": {
     "base_uri": "https://localhost:8080/"
    },
    "executionInfo": {
     "elapsed": 29742,
     "status": "ok",
     "timestamp": 1645556765877,
     "user": {
      "displayName": "taitip Suphasiriwattana",
      "photoUrl": "https://lh3.googleusercontent.com/a/default-user=s64",
      "userId": "16893195790372778185"
     },
     "user_tz": -420
    },
    "id": "LZf2Gyf5lAjZ",
    "outputId": "6c2e5ab8-d71d-426c-c709-fdbe4c179935"
   },
   "outputs": [
    {
     "name": "stdout",
     "output_type": "stream",
     "text": [
      "Size of embed_matrix : 2000000\n",
      "CPU times: user 25.9 s, sys: 7.89 s, total: 33.8 s\n",
      "Wall time: 29.9 s\n"
     ]
    }
   ],
   "source": [
    "%%time\n",
    "embed_matrix = create_embed_matrix()\n",
    "print(f\"Size of embed_matrix : {len(embed_matrix)}\")"
   ]
  },
  {
   "cell_type": "code",
   "execution_count": null,
   "id": "d4b5bae8",
   "metadata": {
    "id": "d4b5bae8"
   },
   "outputs": [],
   "source": [
    "def create_word_embedding(embed_matrix):\n",
    "    '''\n",
    "    Creates a weight matrix of the words that are common in the GloVe vocab and\n",
    "    the dataset's vocab. Initializes OOV words with a zero vector.\n",
    "    '''\n",
    "    weights_matrix = np.zeros((len(word_vocab), 300))\n",
    "    words_found = 0\n",
    "    not_found = []\n",
    "    for i, word in enumerate(word_vocab):\n",
    "        try:\n",
    "            weights_matrix[i] = embed_matrix[word]\n",
    "            words_found += 1\n",
    "        except:\n",
    "          not_found.append(word)\n",
    "    return weights_matrix, words_found ,not_found"
   ]
  },
  {
   "cell_type": "code",
   "execution_count": null,
   "id": "ShxD3galjTsJ",
   "metadata": {
    "colab": {
     "base_uri": "https://localhost:8080/"
    },
    "executionInfo": {
     "elapsed": 459,
     "status": "ok",
     "timestamp": 1645556791598,
     "user": {
      "displayName": "taitip Suphasiriwattana",
      "photoUrl": "https://lh3.googleusercontent.com/a/default-user=s64",
      "userId": "16893195790372778185"
     },
     "user_tz": -420
    },
    "id": "ShxD3galjTsJ",
    "outputId": "fdf978a8-d25c-4424-bf9f-b4b4682f8634"
   },
   "outputs": [
    {
     "name": "stdout",
     "output_type": "stream",
     "text": [
      "Total words found in glove vocab: 38076/61036\n",
      "CPU times: user 148 ms, sys: 184 ms, total: 332 ms\n",
      "Wall time: 328 ms\n"
     ]
    }
   ],
   "source": [
    "%%time\n",
    "weights_matrix, words_found, not_found = create_word_embedding(embed_matrix)\n",
    "print(f\"Total words found in glove vocab: {words_found}/{len(word_vocab)}\", )"
   ]
  },
  {
   "cell_type": "markdown",
   "id": "odmkU21U8GPH",
   "metadata": {
    "id": "odmkU21U8GPH"
   },
   "source": [
    "## PythaiNLP : thai2fit_wv"
   ]
  },
  {
   "cell_type": "code",
   "execution_count": null,
   "id": "4JqqaZw2Cgo_",
   "metadata": {
    "colab": {
     "base_uri": "https://localhost:8080/"
    },
    "executionInfo": {
     "elapsed": 8435,
     "status": "ok",
     "timestamp": 1645556825119,
     "user": {
      "displayName": "taitip Suphasiriwattana",
      "photoUrl": "https://lh3.googleusercontent.com/a/default-user=s64",
      "userId": "16893195790372778185"
     },
     "user_tz": -420
    },
    "id": "4JqqaZw2Cgo_",
    "outputId": "a2c32a77-4da7-492f-a774-102ce0c7f261"
   },
   "outputs": [
    {
     "name": "stdout",
     "output_type": "stream",
     "text": [
      "Corpus: thai2fit_wv\n",
      "- Downloading: thai2fit_wv 0.1\n"
     ]
    },
    {
     "name": "stderr",
     "output_type": "stream",
     "text": [
      "100%|██████████| 62452646/62452646 [00:04<00:00, 12787470.92it/s]\n"
     ]
    },
    {
     "name": "stdout",
     "output_type": "stream",
     "text": [
      "number of word in corpus 51,358\n",
      "number of dimention of vector 300\n"
     ]
    }
   ],
   "source": [
    "from pythainlp.corpus import get_corpus_path\n",
    "from gensim.models import KeyedVectors\n",
    "path = get_corpus_path(\"thai2fit_wv\")\n",
    "thaiW2V = KeyedVectors.load_word2vec_format(path, binary=True)\n",
    "print(f\"number of word in corpus {len(thaiW2V.vocab.keys()):0,.0f}\")\n",
    "print(f\"number of dimention of vector {thaiW2V.vector_size}\")"
   ]
  },
  {
   "cell_type": "code",
   "execution_count": null,
   "id": "ke-4OG9I7Vcl",
   "metadata": {
    "colab": {
     "base_uri": "https://localhost:8080/"
    },
    "executionInfo": {
     "elapsed": 1529,
     "status": "ok",
     "timestamp": 1645556826624,
     "user": {
      "displayName": "taitip Suphasiriwattana",
      "photoUrl": "https://lh3.googleusercontent.com/a/default-user=s64",
      "userId": "16893195790372778185"
     },
     "user_tz": -420
    },
    "id": "ke-4OG9I7Vcl",
    "outputId": "c351c94c-56a3-4644-9571-fd0514a879e5"
   },
   "outputs": [
    {
     "name": "stdout",
     "output_type": "stream",
     "text": [
      "Total words found in thainlp W2V: 29444/61036\n",
      "Example word not found : [' ', 'ใน', '\"', '\\n', 'อร', '/', 'ส์', 'ต่าง ๆ', 'The', 'ยังมี', 'เป็นที่', 'ฯ', 'สเปน', 'พระองค์เจ้า', 'บี', 'จุฬาลงกรณ์', 'นี', 'ประ', 'มิวสิก', 'ณ์']\n"
     ]
    }
   ],
   "source": [
    "weights_matrix = np.zeros((len(word_vocab), 300))\n",
    "words_found = 0\n",
    "not_found = []\n",
    "for i, word in enumerate(word_vocab):\n",
    "  try:\n",
    "    weights_matrix[i] = thaiW2V.get_vector(word)\n",
    "    words_found += 1\n",
    "  except:\n",
    "    not_found.append(word)\n",
    "print(f\"Total words found in thainlp W2V: {words_found}/{len(word_vocab)}\", )\n",
    "print(f\"Example word not found : {not_found[0:20]}\")"
   ]
  },
  {
   "cell_type": "markdown",
   "id": "Oxjn08mMvdvJ",
   "metadata": {
    "id": "Oxjn08mMvdvJ"
   },
   "source": [
    "## PythaiNLP : ltw2v"
   ]
  },
  {
   "cell_type": "code",
   "execution_count": null,
   "id": "jtVzTEKb8Qrh",
   "metadata": {
    "colab": {
     "base_uri": "https://localhost:8080/"
    },
    "executionInfo": {
     "elapsed": 23054,
     "status": "ok",
     "timestamp": 1647082826520,
     "user": {
      "displayName": "taitip Suphasiriwattana",
      "photoUrl": "https://lh3.googleusercontent.com/a/default-user=s64",
      "userId": "16893195790372778185"
     },
     "user_tz": -420
    },
    "id": "jtVzTEKb8Qrh",
    "outputId": "c8b08773-5257-4c27-811a-3975f03d71cb"
   },
   "outputs": [
    {
     "name": "stdout",
     "output_type": "stream",
     "text": [
      "Corpus: ltw2v\n",
      "- Downloading: ltw2v 0.1\n"
     ]
    },
    {
     "name": "stderr",
     "output_type": "stream",
     "text": [
      "100%|██████████| 1178368364/1178368364 [00:10<00:00, 115097495.03it/s]\n"
     ]
    },
    {
     "name": "stdout",
     "output_type": "stream",
     "text": [
      "number of word in corpus 731,185\n",
      "number of dimention of vector 400\n"
     ]
    }
   ],
   "source": [
    "from pythainlp.corpus import get_corpus_path\n",
    "from gensim.models import KeyedVectors\n",
    "path = get_corpus_path(\"ltw2v\")\n",
    "ltw2v = KeyedVectors.load_word2vec_format(path, binary=True, unicode_errors='ignore')\n",
    "print(f\"number of word in corpus {len(ltw2v.vocab.keys()):0,.0f}\")\n",
    "print(f\"number of dimention of vector {ltw2v.vector_size}\")"
   ]
  },
  {
   "cell_type": "code",
   "execution_count": null,
   "id": "U4cl-aDVx4Q9",
   "metadata": {
    "colab": {
     "base_uri": "https://localhost:8080/"
    },
    "executionInfo": {
     "elapsed": 1550,
     "status": "ok",
     "timestamp": 1647082840465,
     "user": {
      "displayName": "taitip Suphasiriwattana",
      "photoUrl": "https://lh3.googleusercontent.com/a/default-user=s64",
      "userId": "16893195790372778185"
     },
     "user_tz": -420
    },
    "id": "U4cl-aDVx4Q9",
    "outputId": "5e6109b0-4a03-4afb-c75f-0cfa1401babe"
   },
   "outputs": [
    {
     "name": "stdout",
     "output_type": "stream",
     "text": [
      "size of embed_dict is 731185\n",
      "CPU times: user 1.35 s, sys: 26.1 ms, total: 1.37 s\n",
      "Wall time: 1.37 s\n"
     ]
    }
   ],
   "source": [
    "%%time\n",
    "embed_dict = {}\n",
    "for word in ltw2v.vocab.keys():\n",
    "  embed_dict[word] = ltw2v.get_vector(word)[0:300]\n",
    "print(f\"size of embed_dict is {len(embed_dict)}\")"
   ]
  },
  {
   "cell_type": "code",
   "execution_count": null,
   "id": "urS1A-JAD68P",
   "metadata": {
    "colab": {
     "base_uri": "https://localhost:8080/"
    },
    "executionInfo": {
     "elapsed": 922,
     "status": "ok",
     "timestamp": 1647082847122,
     "user": {
      "displayName": "taitip Suphasiriwattana",
      "photoUrl": "https://lh3.googleusercontent.com/a/default-user=s64",
      "userId": "16893195790372778185"
     },
     "user_tz": -420
    },
    "id": "urS1A-JAD68P",
    "outputId": "46e439ba-dfb3-49f2-b476-b741e1630684"
   },
   "outputs": [
    {
     "name": "stdout",
     "output_type": "stream",
     "text": [
      "Total words found in ltw2w : 87264/111891\n",
      "Example word not found : ['<unk>', '<pad>', ' ', 'ต่าง ๆ', '  ', 'เลื่อน', 'เสรี', 'อัญเชิญ', 'สะดวก', 'ทางตะวันตก', 'แฮร์รี่ พอตเตอร์', 'สมเด็จพระเทพรัตนราชสุดาฯ สยามบรมราชกุมารี', 'เรื่อย ๆ', 'สมเด็จพระนางเจ้าสิริกิติ์ พระบรมราชินีนาถ', 'ผู้กำกับภาพยนตร์', 'ปน', 'วิศวกร', 'ทุก ๆ', '   ', 'จริง ๆ']\n",
      "Shape of weights_matrix is : (111891, 300)\n",
      "CPU times: user 380 ms, sys: 132 ms, total: 512 ms\n",
      "Wall time: 511 ms\n"
     ]
    }
   ],
   "source": [
    "%%time\n",
    "weights_matrix = np.zeros((len(word_vocab), 300))\n",
    "words_found = 0\n",
    "not_found = []\n",
    "for i, word in enumerate(word_vocab):\n",
    "  try:\n",
    "    weights_matrix[i] = ltw2v.get_vector(word)[0:300]\n",
    "    words_found += 1\n",
    "  except:\n",
    "    not_found.append(word)\n",
    "print(f\"Total words found in ltw2w : {words_found}/{len(word_vocab)}\", )\n",
    "print(f\"Example word not found : {not_found[0:20]}\")\n",
    "print(f\"Shape of weights_matrix is : {weights_matrix.shape}\")"
   ]
  },
  {
   "cell_type": "code",
   "execution_count": null,
   "id": "wWLd9ENarCMd",
   "metadata": {
    "colab": {
     "base_uri": "https://localhost:8080/"
    },
    "executionInfo": {
     "elapsed": 37886,
     "status": "ok",
     "timestamp": 1647082919984,
     "user": {
      "displayName": "taitip Suphasiriwattana",
      "photoUrl": "https://lh3.googleusercontent.com/a/default-user=s64",
      "userId": "16893195790372778185"
     },
     "user_tz": -420
    },
    "id": "wWLd9ENarCMd",
    "outputId": "13927492-0037-4c7b-b35e-233296436d0a"
   },
   "outputs": [
    {
     "name": "stdout",
     "output_type": "stream",
     "text": [
      "save dict_embed_ltw2v to ./drqa/1-tokenizers/result/dict_embed_ltw2v.pkl success\n",
      "CPU times: user 5.47 s, sys: 2.63 s, total: 8.1 s\n",
      "Wall time: 37.5 s\n"
     ]
    }
   ],
   "source": [
    "#Save data\n",
    "%%time\n",
    "save_to_pickle(embed_dict , \"./drqa/1-tokenizers/result/dict_embed_ltw2v.pkl\")\n",
    "np.save('./drqa/1-tokenizers/result/dfqa2v_ltw2v.npy',weights_matrix)"
   ]
  },
  {
   "cell_type": "markdown",
   "id": "cTdiDbyV6ty3",
   "metadata": {
    "id": "cTdiDbyV6ty3"
   },
   "source": [
    "## My Word2Vec by Gensim skip-gram"
   ]
  },
  {
   "cell_type": "markdown",
   "id": "sBoHRENZN2S6",
   "metadata": {
    "id": "sBoHRENZN2S6"
   },
   "source": [
    "# prepairing data"
   ]
  },
  {
   "cell_type": "code",
   "execution_count": null,
   "id": "9ani2bOE75no",
   "metadata": {
    "colab": {
     "base_uri": "https://localhost:8080/",
     "height": 191
    },
    "executionInfo": {
     "elapsed": 522,
     "status": "ok",
     "timestamp": 1647091873622,
     "user": {
      "displayName": "taitip Suphasiriwattana",
      "photoUrl": "https://lh3.googleusercontent.com/a/default-user=s64",
      "userId": "16893195790372778185"
     },
     "user_tz": -420
    },
    "id": "9ani2bOE75no",
    "outputId": "084ccf93-fdce-423b-ca9d-0c9ede8fbf5d"
   },
   "outputs": [
    {
     "data": {
      "text/html": [
       "\n",
       "  <div id=\"df-d82fdabf-c517-4700-857c-85fcaecb67e0\">\n",
       "    <div class=\"colab-df-container\">\n",
       "      <div>\n",
       "<style scoped>\n",
       "    .dataframe tbody tr th:only-of-type {\n",
       "        vertical-align: middle;\n",
       "    }\n",
       "\n",
       "    .dataframe tbody tr th {\n",
       "        vertical-align: top;\n",
       "    }\n",
       "\n",
       "    .dataframe thead th {\n",
       "        text-align: right;\n",
       "    }\n",
       "</style>\n",
       "<table border=\"1\" class=\"dataframe\">\n",
       "  <thead>\n",
       "    <tr style=\"text-align: right;\">\n",
       "      <th></th>\n",
       "      <th>article_id</th>\n",
       "      <th>id</th>\n",
       "      <th>question</th>\n",
       "      <th>answer</th>\n",
       "      <th>context</th>\n",
       "      <th>label</th>\n",
       "      <th>context_ids</th>\n",
       "      <th>question_ids</th>\n",
       "      <th>label_idx</th>\n",
       "    </tr>\n",
       "  </thead>\n",
       "  <tbody>\n",
       "    <tr>\n",
       "      <th>0</th>\n",
       "      <td>115035</td>\n",
       "      <td>1</td>\n",
       "      <td>สุนัขตัวแรกรับบทเป็นเบนจี้ในภาพยนตร์เรื่อง Ben...</td>\n",
       "      <td>ฮิกกิ้นส์</td>\n",
       "      <td>เบนจี้ เบนจี้ () เป็นชื่อตัวละครหมาพันทางแสนรู...</td>\n",
       "      <td>[447, 456]</td>\n",
       "      <td>[2695, 5276, 2, 2695, 5276, 2, 162, 2, 7, 65, ...</td>\n",
       "      <td>[2329, 133, 91, 131, 7, 2695, 5276, 3, 105, 64...</td>\n",
       "      <td>[133, 134]</td>\n",
       "    </tr>\n",
       "    <tr>\n",
       "      <th>1</th>\n",
       "      <td>376583</td>\n",
       "      <td>2</td>\n",
       "      <td>ลูนา 1 เป็นยานอวกาศลำแรกในโครงการลูนาของโซเวีย...</td>\n",
       "      <td>เมชตา</td>\n",
       "      <td>ลูนา 1 ลูนา 1 (อี-1 ซีรีส์) ซึ่งในขณะนั้นรู้จั...</td>\n",
       "      <td>[57, 62]</td>\n",
       "      <td>[1153, 155, 2, 50, 2, 1153, 155, 2, 50, 2, 10,...</td>\n",
       "      <td>[1153, 155, 2, 50, 2, 7, 6661, 840, 91, 3, 447...</td>\n",
       "      <td>[25, 27]</td>\n",
       "    </tr>\n",
       "  </tbody>\n",
       "</table>\n",
       "</div>\n",
       "      <button class=\"colab-df-convert\" onclick=\"convertToInteractive('df-d82fdabf-c517-4700-857c-85fcaecb67e0')\"\n",
       "              title=\"Convert this dataframe to an interactive table.\"\n",
       "              style=\"display:none;\">\n",
       "        \n",
       "  <svg xmlns=\"http://www.w3.org/2000/svg\" height=\"24px\"viewBox=\"0 0 24 24\"\n",
       "       width=\"24px\">\n",
       "    <path d=\"M0 0h24v24H0V0z\" fill=\"none\"/>\n",
       "    <path d=\"M18.56 5.44l.94 2.06.94-2.06 2.06-.94-2.06-.94-.94-2.06-.94 2.06-2.06.94zm-11 1L8.5 8.5l.94-2.06 2.06-.94-2.06-.94L8.5 2.5l-.94 2.06-2.06.94zm10 10l.94 2.06.94-2.06 2.06-.94-2.06-.94-.94-2.06-.94 2.06-2.06.94z\"/><path d=\"M17.41 7.96l-1.37-1.37c-.4-.4-.92-.59-1.43-.59-.52 0-1.04.2-1.43.59L10.3 9.45l-7.72 7.72c-.78.78-.78 2.05 0 2.83L4 21.41c.39.39.9.59 1.41.59.51 0 1.02-.2 1.41-.59l7.78-7.78 2.81-2.81c.8-.78.8-2.07 0-2.86zM5.41 20L4 18.59l7.72-7.72 1.47 1.35L5.41 20z\"/>\n",
       "  </svg>\n",
       "      </button>\n",
       "      \n",
       "  <style>\n",
       "    .colab-df-container {\n",
       "      display:flex;\n",
       "      flex-wrap:wrap;\n",
       "      gap: 12px;\n",
       "    }\n",
       "\n",
       "    .colab-df-convert {\n",
       "      background-color: #E8F0FE;\n",
       "      border: none;\n",
       "      border-radius: 50%;\n",
       "      cursor: pointer;\n",
       "      display: none;\n",
       "      fill: #1967D2;\n",
       "      height: 32px;\n",
       "      padding: 0 0 0 0;\n",
       "      width: 32px;\n",
       "    }\n",
       "\n",
       "    .colab-df-convert:hover {\n",
       "      background-color: #E2EBFA;\n",
       "      box-shadow: 0px 1px 2px rgba(60, 64, 67, 0.3), 0px 1px 3px 1px rgba(60, 64, 67, 0.15);\n",
       "      fill: #174EA6;\n",
       "    }\n",
       "\n",
       "    [theme=dark] .colab-df-convert {\n",
       "      background-color: #3B4455;\n",
       "      fill: #D2E3FC;\n",
       "    }\n",
       "\n",
       "    [theme=dark] .colab-df-convert:hover {\n",
       "      background-color: #434B5C;\n",
       "      box-shadow: 0px 1px 3px 1px rgba(0, 0, 0, 0.15);\n",
       "      filter: drop-shadow(0px 1px 2px rgba(0, 0, 0, 0.3));\n",
       "      fill: #FFFFFF;\n",
       "    }\n",
       "  </style>\n",
       "\n",
       "      <script>\n",
       "        const buttonEl =\n",
       "          document.querySelector('#df-d82fdabf-c517-4700-857c-85fcaecb67e0 button.colab-df-convert');\n",
       "        buttonEl.style.display =\n",
       "          google.colab.kernel.accessAllowed ? 'block' : 'none';\n",
       "\n",
       "        async function convertToInteractive(key) {\n",
       "          const element = document.querySelector('#df-d82fdabf-c517-4700-857c-85fcaecb67e0');\n",
       "          const dataTable =\n",
       "            await google.colab.kernel.invokeFunction('convertToInteractive',\n",
       "                                                     [key], {});\n",
       "          if (!dataTable) return;\n",
       "\n",
       "          const docLinkHtml = 'Like what you see? Visit the ' +\n",
       "            '<a target=\"_blank\" href=https://colab.research.google.com/notebooks/data_table.ipynb>data table notebook</a>'\n",
       "            + ' to learn more about interactive tables.';\n",
       "          element.innerHTML = '';\n",
       "          dataTable['output_type'] = 'display_data';\n",
       "          await google.colab.output.renderOutput(dataTable, element);\n",
       "          const docLink = document.createElement('div');\n",
       "          docLink.innerHTML = docLinkHtml;\n",
       "          element.appendChild(docLink);\n",
       "        }\n",
       "      </script>\n",
       "    </div>\n",
       "  </div>\n",
       "  "
      ],
      "text/plain": [
       "   article_id  id                                           question  \\\n",
       "0      115035   1  สุนัขตัวแรกรับบทเป็นเบนจี้ในภาพยนตร์เรื่อง Ben...   \n",
       "1      376583   2  ลูนา 1 เป็นยานอวกาศลำแรกในโครงการลูนาของโซเวีย...   \n",
       "\n",
       "      answer                                            context       label  \\\n",
       "0  ฮิกกิ้นส์  เบนจี้ เบนจี้ () เป็นชื่อตัวละครหมาพันทางแสนรู...  [447, 456]   \n",
       "1      เมชตา  ลูนา 1 ลูนา 1 (อี-1 ซีรีส์) ซึ่งในขณะนั้นรู้จั...    [57, 62]   \n",
       "\n",
       "                                         context_ids  \\\n",
       "0  [2695, 5276, 2, 2695, 5276, 2, 162, 2, 7, 65, ...   \n",
       "1  [1153, 155, 2, 50, 2, 1153, 155, 2, 50, 2, 10,...   \n",
       "\n",
       "                                        question_ids   label_idx  \n",
       "0  [2329, 133, 91, 131, 7, 2695, 5276, 3, 105, 64...  [133, 134]  \n",
       "1  [1153, 155, 2, 50, 2, 7, 6661, 840, 91, 3, 447...    [25, 27]  "
      ]
     },
     "execution_count": 8,
     "metadata": {},
     "output_type": "execute_result"
    }
   ],
   "source": [
    "df_qa.head(2)"
   ]
  },
  {
   "cell_type": "code",
   "execution_count": null,
   "id": "93j0kVwJ7k7u",
   "metadata": {
    "id": "93j0kVwJ7k7u"
   },
   "outputs": [],
   "source": [
    "unique_ctx = df_qa.context.apply(lambda x: \",\".join(word_tokenize(x ,engine='newmm'))).unique()\n",
    "unique_qtn = df_qa.question.apply(lambda x: \",\".join(word_tokenize(x ,engine='newmm'))).unique()"
   ]
  },
  {
   "cell_type": "code",
   "execution_count": null,
   "id": "m23TWPH5L58I",
   "metadata": {
    "colab": {
     "base_uri": "https://localhost:8080/"
    },
    "executionInfo": {
     "elapsed": 422,
     "status": "ok",
     "timestamp": 1647092242451,
     "user": {
      "displayName": "taitip Suphasiriwattana",
      "photoUrl": "https://lh3.googleusercontent.com/a/default-user=s64",
      "userId": "16893195790372778185"
     },
     "user_tz": -420
    },
    "id": "m23TWPH5L58I",
    "outputId": "136a3aa2-75a1-4257-b43b-2a7d00a94bef"
   },
   "outputs": [
    {
     "name": "stdout",
     "output_type": "stream",
     "text": [
      "(22663,)\n"
     ]
    }
   ],
   "source": [
    "lst_ctx_qnt = np.hstack((unique_ctx,unique_qtn))\n",
    "print(lst_ctx_qnt.shape)"
   ]
  },
  {
   "cell_type": "code",
   "execution_count": null,
   "id": "glzDO-LkN8IS",
   "metadata": {
    "id": "glzDO-LkN8IS"
   },
   "outputs": [],
   "source": [
    "np.save('./drqa/1-tokenizers/result/token_ctx_qnt.npy',lst_ctx_qnt)"
   ]
  },
  {
   "cell_type": "markdown",
   "id": "-ia0pCrPN8po",
   "metadata": {
    "id": "-ia0pCrPN8po"
   },
   "source": [
    "# Trainmodel"
   ]
  },
  {
   "cell_type": "code",
   "execution_count": null,
   "id": "Md_JAqdTOcu1",
   "metadata": {
    "colab": {
     "base_uri": "https://localhost:8080/"
    },
    "executionInfo": {
     "elapsed": 7369,
     "status": "ok",
     "timestamp": 1647092416915,
     "user": {
      "displayName": "taitip Suphasiriwattana",
      "photoUrl": "https://lh3.googleusercontent.com/a/default-user=s64",
      "userId": "16893195790372778185"
     },
     "user_tz": -420
    },
    "id": "Md_JAqdTOcu1",
    "outputId": "a433a3a8-73b5-4394-be7e-ece00766199d"
   },
   "outputs": [
    {
     "name": "stdout",
     "output_type": "stream",
     "text": [
      "Collecting gensim==3.8.3\n",
      "  Downloading gensim-3.8.3-cp37-cp37m-manylinux1_x86_64.whl (24.2 MB)\n",
      "\u001b[K     |████████████████████████████████| 24.2 MB 1.4 MB/s \n",
      "\u001b[?25hRequirement already satisfied: six>=1.5.0 in /usr/local/lib/python3.7/dist-packages (from gensim==3.8.3) (1.15.0)\n",
      "Requirement already satisfied: scipy>=0.18.1 in /usr/local/lib/python3.7/dist-packages (from gensim==3.8.3) (1.4.1)\n",
      "Requirement already satisfied: smart-open>=1.8.1 in /usr/local/lib/python3.7/dist-packages (from gensim==3.8.3) (5.2.1)\n",
      "Requirement already satisfied: numpy>=1.11.3 in /usr/local/lib/python3.7/dist-packages (from gensim==3.8.3) (1.21.5)\n",
      "Installing collected packages: gensim\n",
      "  Attempting uninstall: gensim\n",
      "    Found existing installation: gensim 3.6.0\n",
      "    Uninstalling gensim-3.6.0:\n",
      "      Successfully uninstalled gensim-3.6.0\n",
      "Successfully installed gensim-3.8.3\n"
     ]
    }
   ],
   "source": [
    "!pip install gensim==3.8.3"
   ]
  },
  {
   "cell_type": "code",
   "execution_count": null,
   "id": "w8AhBd7rNM4E",
   "metadata": {
    "id": "w8AhBd7rNM4E"
   },
   "outputs": [],
   "source": [
    "# from gensim.test.utils import common_texts, get_tmpfile\n",
    "# from gensim.models import Word2Vec\n",
    "from gensim.test.utils import common_texts\n",
    "from gensim.models import Word2Vec\n",
    "import numpy as np\n",
    "import pickle"
   ]
  },
  {
   "cell_type": "code",
   "execution_count": null,
   "id": "Gh91qQp2OoZj",
   "metadata": {
    "colab": {
     "base_uri": "https://localhost:8080/",
     "height": 312
    },
    "executionInfo": {
     "elapsed": 474,
     "status": "error",
     "timestamp": 1647092584534,
     "user": {
      "displayName": "taitip Suphasiriwattana",
      "photoUrl": "https://lh3.googleusercontent.com/a/default-user=s64",
      "userId": "16893195790372778185"
     },
     "user_tz": -420
    },
    "id": "Gh91qQp2OoZj",
    "outputId": "039f5bbd-bd5b-409b-c061-5f1e7575d4bf"
   },
   "outputs": [
    {
     "ename": "ValueError",
     "evalue": "ignored",
     "output_type": "error",
     "traceback": [
      "\u001b[0;31m---------------------------------------------------------------------------\u001b[0m",
      "\u001b[0;31mValueError\u001b[0m                                Traceback (most recent call last)",
      "\u001b[0;32m<ipython-input-12-2e461ac257c9>\u001b[0m in \u001b[0;36m<module>\u001b[0;34m()\u001b[0m\n\u001b[0;32m----> 1\u001b[0;31m \u001b[0mlst_ctx_qnt\u001b[0m \u001b[0;34m=\u001b[0m \u001b[0mnp\u001b[0m\u001b[0;34m.\u001b[0m\u001b[0mload\u001b[0m\u001b[0;34m(\u001b[0m\u001b[0;34m'./drqa/1-tokenizers/result/token_ctx_qnt.npy'\u001b[0m \u001b[0;34m,\u001b[0m\u001b[0mallow_pickle\u001b[0m\u001b[0;34m=\u001b[0m\u001b[0;32mFalse\u001b[0m\u001b[0;34m)\u001b[0m\u001b[0;34m\u001b[0m\u001b[0;34m\u001b[0m\u001b[0m\n\u001b[0m",
      "\u001b[0;32m/usr/local/lib/python3.7/dist-packages/numpy/lib/npyio.py\u001b[0m in \u001b[0;36mload\u001b[0;34m(file, mmap_mode, allow_pickle, fix_imports, encoding)\u001b[0m\n\u001b[1;32m    439\u001b[0m             \u001b[0;32melse\u001b[0m\u001b[0;34m:\u001b[0m\u001b[0;34m\u001b[0m\u001b[0;34m\u001b[0m\u001b[0m\n\u001b[1;32m    440\u001b[0m                 return format.read_array(fid, allow_pickle=allow_pickle,\n\u001b[0;32m--> 441\u001b[0;31m                                          pickle_kwargs=pickle_kwargs)\n\u001b[0m\u001b[1;32m    442\u001b[0m         \u001b[0;32melse\u001b[0m\u001b[0;34m:\u001b[0m\u001b[0;34m\u001b[0m\u001b[0;34m\u001b[0m\u001b[0m\n\u001b[1;32m    443\u001b[0m             \u001b[0;31m# Try a pickle\u001b[0m\u001b[0;34m\u001b[0m\u001b[0;34m\u001b[0m\u001b[0;34m\u001b[0m\u001b[0m\n",
      "\u001b[0;32m/usr/local/lib/python3.7/dist-packages/numpy/lib/format.py\u001b[0m in \u001b[0;36mread_array\u001b[0;34m(fp, allow_pickle, pickle_kwargs)\u001b[0m\n\u001b[1;32m    741\u001b[0m         \u001b[0;31m# The array contained Python objects. We need to unpickle the data.\u001b[0m\u001b[0;34m\u001b[0m\u001b[0;34m\u001b[0m\u001b[0;34m\u001b[0m\u001b[0m\n\u001b[1;32m    742\u001b[0m         \u001b[0;32mif\u001b[0m \u001b[0;32mnot\u001b[0m \u001b[0mallow_pickle\u001b[0m\u001b[0;34m:\u001b[0m\u001b[0;34m\u001b[0m\u001b[0;34m\u001b[0m\u001b[0m\n\u001b[0;32m--> 743\u001b[0;31m             raise ValueError(\"Object arrays cannot be loaded when \"\n\u001b[0m\u001b[1;32m    744\u001b[0m                              \"allow_pickle=False\")\n\u001b[1;32m    745\u001b[0m         \u001b[0;32mif\u001b[0m \u001b[0mpickle_kwargs\u001b[0m \u001b[0;32mis\u001b[0m \u001b[0;32mNone\u001b[0m\u001b[0;34m:\u001b[0m\u001b[0;34m\u001b[0m\u001b[0;34m\u001b[0m\u001b[0m\n",
      "\u001b[0;31mValueError\u001b[0m: Object arrays cannot be loaded when allow_pickle=False"
     ]
    }
   ],
   "source": [
    "lst_ctx_qnt = np.load('./drqa/1-tokenizers/result/token_ctx_qnt.npy' ,allow_pickle=False)"
   ]
  },
  {
   "cell_type": "code",
   "execution_count": null,
   "id": "q_KGt92PMfIQ",
   "metadata": {
    "colab": {
     "base_uri": "https://localhost:8080/",
     "height": 166
    },
    "executionInfo": {
     "elapsed": 4,
     "status": "error",
     "timestamp": 1647092478952,
     "user": {
      "displayName": "taitip Suphasiriwattana",
      "photoUrl": "https://lh3.googleusercontent.com/a/default-user=s64",
      "userId": "16893195790372778185"
     },
     "user_tz": -420
    },
    "id": "q_KGt92PMfIQ",
    "outputId": "0c7e9651-03e4-4e2e-8554-8e4355417db5"
   },
   "outputs": [
    {
     "ename": "NameError",
     "evalue": "ignored",
     "output_type": "error",
     "traceback": [
      "\u001b[0;31m---------------------------------------------------------------------------\u001b[0m",
      "\u001b[0;31mNameError\u001b[0m                                 Traceback (most recent call last)",
      "\u001b[0;32m<ipython-input-9-01e7c17f4676>\u001b[0m in \u001b[0;36m<module>\u001b[0;34m()\u001b[0m\n\u001b[0;32m----> 1\u001b[0;31m \u001b[0mlst_input\u001b[0m \u001b[0;34m=\u001b[0m \u001b[0;34m[\u001b[0m\u001b[0msent\u001b[0m\u001b[0;34m.\u001b[0m\u001b[0msplit\u001b[0m\u001b[0;34m(\u001b[0m\u001b[0;34m','\u001b[0m\u001b[0;34m)\u001b[0m \u001b[0;32mfor\u001b[0m \u001b[0msent\u001b[0m \u001b[0;32min\u001b[0m \u001b[0mlst_ctx_qnt\u001b[0m\u001b[0;34m]\u001b[0m\u001b[0;34m\u001b[0m\u001b[0;34m\u001b[0m\u001b[0m\n\u001b[0m",
      "\u001b[0;31mNameError\u001b[0m: name 'lst_ctx_qnt' is not defined"
     ]
    }
   ],
   "source": [
    "lst_input = [sent.split(',') for sent in lst_ctx_qnt]"
   ]
  },
  {
   "cell_type": "code",
   "execution_count": null,
   "id": "vFeBzNb2NO8l",
   "metadata": {
    "id": "vFeBzNb2NO8l"
   },
   "outputs": [],
   "source": [
    "model = Word2Vec(sent, min_count=1,size= 300,workers=3, window = 3, sg = 1) #sg = 1 is skip-gram ,sg= 0 is CBOW (default)"
   ]
  },
  {
   "cell_type": "markdown",
   "id": "wQPEPpnt4l8B",
   "metadata": {
    "id": "wQPEPpnt4l8B"
   },
   "source": [
    "# Summary"
   ]
  },
  {
   "cell_type": "markdown",
   "id": "W733LpQd4DGL",
   "metadata": {
    "id": "W733LpQd4DGL"
   },
   "source": [
    "Problem\n",
    "\n",
    "\n",
    "1. Lost 50% of word in QA because word aren't found in thai Embedding Fasttext\n",
    "2. https://pythainlp.github.io/docs/2.2/api/word_vector.html\n",
    "3. https://pythainlp.github.io/dev-docs/api/word_vector.html\n",
    "4. https://pythainlp.github.io/pythainlp-corpus/list-corpus.html\n",
    "4. we use original context that is html."
   ]
  }
 ],
 "metadata": {
  "colab": {
   "collapsed_sections": [
    "P8PQPuHoeeos",
    "0iGdaaa6gcK4",
    "TiRiw7NIg-_3",
    "vNAvzFhahfYt",
    "C_ecI1zlh5XD",
    "hWIxXOzleoWJ",
    "6ML4K0u4fJPy",
    "5fkWgTUDfVJH",
    "cRytL5nBfhKL",
    "FkmHEXKFjYje",
    "odmkU21U8GPH",
    "Oxjn08mMvdvJ"
   ],
   "machine_shape": "hm",
   "name": "prepairing_token_embedded.ipynb",
   "provenance": [],
   "toc_visible": true
  },
  "kernelspec": {
   "display_name": "Python 3 (ipykernel)",
   "language": "python",
   "name": "python3"
  },
  "language_info": {
   "codemirror_mode": {
    "name": "ipython",
    "version": 3
   },
   "file_extension": ".py",
   "mimetype": "text/x-python",
   "name": "python",
   "nbconvert_exporter": "python",
   "pygments_lexer": "ipython3",
   "version": "3.8.12"
  }
 },
 "nbformat": 4,
 "nbformat_minor": 5
}
