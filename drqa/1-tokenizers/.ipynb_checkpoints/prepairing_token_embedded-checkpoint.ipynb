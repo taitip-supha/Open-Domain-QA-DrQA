{
 "cells": [
  {
   "cell_type": "markdown",
   "id": "P8PQPuHoeeos",
   "metadata": {
    "id": "P8PQPuHoeeos"
   },
   "source": [
    "# Set environment"
   ]
  },
  {
   "cell_type": "markdown",
   "id": "0iGdaaa6gcK4",
   "metadata": {
    "id": "0iGdaaa6gcK4"
   },
   "source": [
    "## pip install new package"
   ]
  },
  {
   "cell_type": "code",
   "execution_count": 1,
   "id": "B01MAEJIgawv",
   "metadata": {
    "colab": {
     "base_uri": "https://localhost:8080/"
    },
    "executionInfo": {
     "elapsed": 50061,
     "status": "ok",
     "timestamp": 1645723023673,
     "user": {
      "displayName": "taitip Suphasiriwattana",
      "photoUrl": "https://lh3.googleusercontent.com/a/default-user=s64",
      "userId": "16893195790372778185"
     },
     "user_tz": -420
    },
    "id": "B01MAEJIgawv",
    "outputId": "bb3d77e9-310b-4439-b3a0-8efb410b2945"
   },
   "outputs": [
    {
     "name": "stdout",
     "output_type": "stream",
     "text": [
      "Collecting pythainlp\n",
      "  Downloading pythainlp-3.0.5-py3-none-any.whl (11.5 MB)\n",
      "\u001b[K     |████████████████████████████████| 11.5 MB 3.7 MB/s \n",
      "\u001b[?25hRequirement already satisfied: requests>=2.22.0 in /usr/local/lib/python3.7/dist-packages (from pythainlp) (2.23.0)\n",
      "Collecting tinydb>=3.0\n",
      "  Downloading tinydb-4.7.0-py3-none-any.whl (24 kB)\n",
      "Requirement already satisfied: certifi>=2017.4.17 in /usr/local/lib/python3.7/dist-packages (from requests>=2.22.0->pythainlp) (2021.10.8)\n",
      "Requirement already satisfied: idna<3,>=2.5 in /usr/local/lib/python3.7/dist-packages (from requests>=2.22.0->pythainlp) (2.10)\n",
      "Requirement already satisfied: urllib3!=1.25.0,!=1.25.1,<1.26,>=1.21.1 in /usr/local/lib/python3.7/dist-packages (from requests>=2.22.0->pythainlp) (1.24.3)\n",
      "Requirement already satisfied: chardet<4,>=3.0.2 in /usr/local/lib/python3.7/dist-packages (from requests>=2.22.0->pythainlp) (3.0.4)\n",
      "Requirement already satisfied: typing-extensions<5.0.0,>=3.10.0 in /usr/local/lib/python3.7/dist-packages (from tinydb>=3.0->pythainlp) (3.10.0.2)\n",
      "Installing collected packages: tinydb, pythainlp\n",
      "Successfully installed pythainlp-3.0.5 tinydb-4.7.0\n",
      "Collecting fasttext\n",
      "  Downloading fasttext-0.9.2.tar.gz (68 kB)\n",
      "\u001b[K     |████████████████████████████████| 68 kB 3.2 MB/s \n",
      "\u001b[?25hCollecting pybind11>=2.2\n",
      "  Using cached pybind11-2.9.1-py2.py3-none-any.whl (211 kB)\n",
      "Requirement already satisfied: setuptools>=0.7.0 in /usr/local/lib/python3.7/dist-packages (from fasttext) (57.4.0)\n",
      "Requirement already satisfied: numpy in /usr/local/lib/python3.7/dist-packages (from fasttext) (1.21.5)\n",
      "Building wheels for collected packages: fasttext\n",
      "  Building wheel for fasttext (setup.py) ... \u001b[?25l\u001b[?25hdone\n",
      "  Created wheel for fasttext: filename=fasttext-0.9.2-cp37-cp37m-linux_x86_64.whl size=3134110 sha256=60ca6d911763af52697426418cc01daa77cc541889062972ef5dee39f7b65091\n",
      "  Stored in directory: /root/.cache/pip/wheels/4e/ca/bf/b020d2be95f7641801a6597a29c8f4f19e38f9c02a345bab9b\n",
      "Successfully built fasttext\n",
      "Installing collected packages: pybind11, fasttext\n",
      "Successfully installed fasttext-0.9.2 pybind11-2.9.1\n"
     ]
    }
   ],
   "source": [
    "!pip install pythainlp\n",
    "!pip install fasttext"
   ]
  },
  {
   "cell_type": "markdown",
   "id": "TiRiw7NIg-_3",
   "metadata": {
    "id": "TiRiw7NIg-_3"
   },
   "source": [
    "## import package to environment "
   ]
  },
  {
   "cell_type": "code",
   "execution_count": 2,
   "id": "c49f3ff8",
   "metadata": {
    "colab": {
     "base_uri": "https://localhost:8080/",
     "height": 17
    },
    "executionInfo": {
     "elapsed": 4039,
     "status": "ok",
     "timestamp": 1645723027695,
     "user": {
      "displayName": "taitip Suphasiriwattana",
      "photoUrl": "https://lh3.googleusercontent.com/a/default-user=s64",
      "userId": "16893195790372778185"
     },
     "user_tz": -420
    },
    "id": "c49f3ff8",
    "outputId": "dd6c18ed-e33a-4e20-df9c-07ffd9a2d2a2"
   },
   "outputs": [
    {
     "data": {
      "text/html": [
       "<style>.container { width:100% !important; }</style>"
      ],
      "text/plain": [
       "<IPython.core.display.HTML object>"
      ]
     },
     "metadata": {},
     "output_type": "display_data"
    }
   ],
   "source": [
    "#Import Package\n",
    "import pandas as pd\n",
    "import numpy as np\n",
    "import json, re, unicodedata, string, typing, time ,os\n",
    "from collections import Counter\n",
    "import pickle\n",
    "from pythainlp.tokenize import word_tokenize\n",
    "from bs4 import BeautifulSoup\n",
    "import fasttext\n",
    "from IPython.core.display import display, HTML\n",
    "display(HTML(\"<style>.container { width:100% !important; }</style>\"))"
   ]
  },
  {
   "cell_type": "markdown",
   "id": "vNAvzFhahfYt",
   "metadata": {
    "id": "vNAvzFhahfYt"
   },
   "source": [
    "## Google drive"
   ]
  },
  {
   "cell_type": "code",
   "execution_count": 3,
   "id": "vw9Cr7IEg0GU",
   "metadata": {
    "colab": {
     "base_uri": "https://localhost:8080/"
    },
    "executionInfo": {
     "elapsed": 24205,
     "status": "ok",
     "timestamp": 1645723051882,
     "user": {
      "displayName": "taitip Suphasiriwattana",
      "photoUrl": "https://lh3.googleusercontent.com/a/default-user=s64",
      "userId": "16893195790372778185"
     },
     "user_tz": -420
    },
    "id": "vw9Cr7IEg0GU",
    "outputId": "3ec08839-4e09-4906-a6e7-5df1a35a3682"
   },
   "outputs": [
    {
     "name": "stdout",
     "output_type": "stream",
     "text": [
      "Mounted at /content/drive\n"
     ]
    }
   ],
   "source": [
    "#mount my google drive\n",
    "from google.colab import drive\n",
    "drive.mount('/content/drive')"
   ]
  },
  {
   "cell_type": "code",
   "execution_count": 4,
   "id": "vvmr_xiuh90I",
   "metadata": {
    "colab": {
     "base_uri": "https://localhost:8080/"
    },
    "executionInfo": {
     "elapsed": 1404,
     "status": "ok",
     "timestamp": 1645723053276,
     "user": {
      "displayName": "taitip Suphasiriwattana",
      "photoUrl": "https://lh3.googleusercontent.com/a/default-user=s64",
      "userId": "16893195790372778185"
     },
     "user_tz": -420
    },
    "id": "vvmr_xiuh90I",
    "outputId": "618a2be6-1077-4d92-c6fa-31a579dbca97"
   },
   "outputs": [
    {
     "name": "stdout",
     "output_type": "stream",
     "text": [
      "/content/drive/MyDrive/Colab Notebooks/BADS9000_IS/Colab-DrQA\n"
     ]
    }
   ],
   "source": [
    "%cd /content/drive/MyDrive/Colab Notebooks/BADS9000_IS/Colab-DrQA"
   ]
  },
  {
   "cell_type": "markdown",
   "id": "C_ecI1zlh5XD",
   "metadata": {
    "id": "C_ecI1zlh5XD"
   },
   "source": [
    "## PC"
   ]
  },
  {
   "cell_type": "code",
   "execution_count": 3,
   "id": "cf3a5d6e",
   "metadata": {
    "id": "cf3a5d6e",
    "outputId": "a00220bc-70f2-4ac5-b44c-00b34ae0df45"
   },
   "outputs": [
    {
     "name": "stdout",
     "output_type": "stream",
     "text": [
      "Current working directory C:\\Users\\taiti\\OneDrive\\MasterDegree\\BADS9000_IS\\ThaiDrQA\n"
     ]
    }
   ],
   "source": [
    "#For PC\n",
    "os.chdir('C:/Users/taiti/OneDrive/MasterDegree/BADS9000_IS/ThaiDrQA')\n",
    "print(f\"Current working directory {os.getcwd()}\")"
   ]
  },
  {
   "cell_type": "markdown",
   "id": "hWIxXOzleoWJ",
   "metadata": {
    "id": "hWIxXOzleoWJ"
   },
   "source": [
    "## Function"
   ]
  },
  {
   "cell_type": "code",
   "execution_count": 4,
   "id": "d5ecee4b",
   "metadata": {
    "executionInfo": {
     "elapsed": 578,
     "status": "ok",
     "timestamp": 1645723056800,
     "user": {
      "displayName": "taitip Suphasiriwattana",
      "photoUrl": "https://lh3.googleusercontent.com/a/default-user=s64",
      "userId": "16893195790372778185"
     },
     "user_tz": -420
    },
    "id": "d5ecee4b"
   },
   "outputs": [],
   "source": [
    "def load_json(path):\n",
    "    with open(path, 'r', encoding='utf-8') as f:\n",
    "        data = json.load(f)\n",
    "    print(\"Length of data: \", len(data['data']))\n",
    "    print(\"Data Keys: \", data['data'][0].keys())   \n",
    "    return data\n",
    "\n",
    "def load_article(file):\n",
    "    try :\n",
    "        with open(file, 'r', encoding='utf-8') as f:\n",
    "            context = f.read()\n",
    "    except :\n",
    "        context = \"-\"\n",
    "        print(f\"Error Article id {id}\")\n",
    "    return  context\n",
    "\n",
    "def gather_text_for_vocab(dfs:list):\n",
    "    '''\n",
    "    Gathers text from contexts and questions to build a vocabulary.\n",
    "    '''\n",
    "    text = []\n",
    "    total = 0\n",
    "    for df in dfs:\n",
    "        unique_contexts = list(df.context.unique())\n",
    "        unique_questions = list(df.question.unique())\n",
    "        total += df.context.nunique() + df.question.nunique()\n",
    "        text.extend(unique_contexts + unique_questions)\n",
    "    \n",
    "    assert len(text) == total #For debugging code\n",
    "    print(\"Number of sentences in dataset: \", len(text))\n",
    "    return text\n",
    "\n",
    "def build_word_vocab(vocab_text):\n",
    "    \"\"\"Tokenizer Ref : https://github.com/PyThaiNLP/pythainlp \"\"\"\n",
    "    words = []\n",
    "    for sent in vocab_text:\n",
    "        for word in word_tokenize(sent ,engine='newmm'):\n",
    "            words.append(word)\n",
    "    word_counter = Counter(words)\n",
    "    word_vocab = sorted(word_counter, key=word_counter.get, reverse=True)\n",
    "    print(f\"raw-vocab: {len(word_vocab)}\")\n",
    "    print(f\"vocab-length: {len(word_vocab)}\")\n",
    "    word2idx = {word:idx for idx, word in enumerate(word_vocab)}\n",
    "    print(f\"word2idx-length: {len(word2idx)}\")\n",
    "    idx2word = {v:k for k,v in word2idx.items()}\n",
    "    \n",
    "    return word2idx, idx2word, word_vocab\n",
    "\n",
    "def word_to_ids(text, word2idx):\n",
    "    '''\n",
    "    Converts word text to their respective ids by mapping each word\n",
    "    using word2idx. Input text is tokenized using spacy tokenizer first.\n",
    "    :param str text: context text to be converted\n",
    "    :param dict word2idx: word to id mapping\n",
    "    :returns list context_ids: list of mapped ids\n",
    "    :raises assertion error: sanity check\n",
    "    '''\n",
    "    words_tokens = [w for w in word_tokenize(text ,engine='newmm') ]\n",
    "    words_ids = [word2idx[word] for word in words_tokens]\n",
    "    \n",
    "    assert len(words_ids) == len(words_tokens)\n",
    "    return words_ids\n",
    "\n",
    "def save_to_pickle(save_obj, path_file):\n",
    "    with open(path_file, 'wb') as file:\n",
    "        pickle.dump(save_obj, file)\n",
    "    print(f\"save {path_file[27:-4]} to {path_file} success\")\n",
    "\n",
    "def load_pickle(path_file):\n",
    "    with open(path_file, 'rb') as file:\n",
    "        load_obj = pickle.load(file)\n",
    "        print(f\"load object from {path_file} success,that is {type(load_obj)}\")\n",
    "        return load_obj"
   ]
  },
  {
   "cell_type": "markdown",
   "id": "Pq1_N35ke6k1",
   "metadata": {
    "id": "Pq1_N35ke6k1"
   },
   "source": [
    "# Built data for Training"
   ]
  },
  {
   "cell_type": "markdown",
   "id": "6ML4K0u4fJPy",
   "metadata": {
    "id": "6ML4K0u4fJPy"
   },
   "source": [
    "## Load Data JSON to DataFrame"
   ]
  },
  {
   "cell_type": "code",
   "execution_count": 12,
   "id": "1f9838ea",
   "metadata": {
    "id": "1f9838ea",
    "outputId": "5d7be80c-2c31-40bb-95b9-c900312dae5b"
   },
   "outputs": [
    {
     "name": "stdout",
     "output_type": "stream",
     "text": [
      "Length of data:  17000\n",
      "Data Keys:  dict_keys(['question_id', 'question_type', 'question', 'answer', 'answer_begin_position', 'answer_end_position', 'article_id'])\n"
     ]
    }
   ],
   "source": [
    "#Open Json File\n",
    "file = \"ThaiQACorpusTrain\"\n",
    "data = load_json(f\"./data/{file}.json\")"
   ]
  },
  {
   "cell_type": "code",
   "execution_count": 9,
   "id": "53b76073",
   "metadata": {},
   "outputs": [
    {
     "data": {
      "text/plain": [
       "{'question_id': 2,\n",
       " 'question_type': 1,\n",
       " 'question': 'ลูนา 1 เป็นยานอวกาศลำแรกในโครงการลูนาของโซเวียต มีชื่อเรียกอีกชื่อว่าอะไร',\n",
       " 'answer': 'เมชตา',\n",
       " 'answer_begin_position': 139,\n",
       " 'answer_end_position': 144,\n",
       " 'article_id': 376583}"
      ]
     },
     "execution_count": 9,
     "metadata": {},
     "output_type": "execute_result"
    }
   ],
   "source": [
    "data['data'][1]"
   ]
  },
  {
   "cell_type": "code",
   "execution_count": 10,
   "id": "5e1474f2",
   "metadata": {
    "id": "5e1474f2",
    "outputId": "40527b4c-af5f-4f01-b025-f6ae0386f6f4",
    "scrolled": false
   },
   "outputs": [
    {
     "name": "stdout",
     "output_type": "stream",
     "text": [
      "Shap:(17000, 6)\n"
     ]
    },
    {
     "data": {
      "text/html": [
       "<div>\n",
       "<style scoped>\n",
       "    .dataframe tbody tr th:only-of-type {\n",
       "        vertical-align: middle;\n",
       "    }\n",
       "\n",
       "    .dataframe tbody tr th {\n",
       "        vertical-align: top;\n",
       "    }\n",
       "\n",
       "    .dataframe thead th {\n",
       "        text-align: right;\n",
       "    }\n",
       "</style>\n",
       "<table border=\"1\" class=\"dataframe\">\n",
       "  <thead>\n",
       "    <tr style=\"text-align: right;\">\n",
       "      <th></th>\n",
       "      <th>article_id</th>\n",
       "      <th>id</th>\n",
       "      <th>html_context</th>\n",
       "      <th>question</th>\n",
       "      <th>html_label</th>\n",
       "      <th>html_answer</th>\n",
       "    </tr>\n",
       "  </thead>\n",
       "  <tbody>\n",
       "    <tr>\n",
       "      <th>0</th>\n",
       "      <td>115035</td>\n",
       "      <td>1</td>\n",
       "      <td>&lt;doc id=\"115035\" url=\"https://th.wikipedia.org...</td>\n",
       "      <td>สุนัขตัวแรกรับบทเป็นเบนจี้ในภาพยนตร์เรื่อง Ben...</td>\n",
       "      <td>[529, 538]</td>\n",
       "      <td>ฮิกกิ้นส์</td>\n",
       "    </tr>\n",
       "    <tr>\n",
       "      <th>1</th>\n",
       "      <td>376583</td>\n",
       "      <td>2</td>\n",
       "      <td>&lt;doc id=\"376583\" url=\"https://th.wikipedia.org...</td>\n",
       "      <td>ลูนา 1 เป็นยานอวกาศลำแรกในโครงการลูนาของโซเวีย...</td>\n",
       "      <td>[139, 144]</td>\n",
       "      <td>เมชตา</td>\n",
       "    </tr>\n",
       "  </tbody>\n",
       "</table>\n",
       "</div>"
      ],
      "text/plain": [
       "   article_id  id                                       html_context  \\\n",
       "0      115035   1  <doc id=\"115035\" url=\"https://th.wikipedia.org...   \n",
       "1      376583   2  <doc id=\"376583\" url=\"https://th.wikipedia.org...   \n",
       "\n",
       "                                            question  html_label html_answer  \n",
       "0  สุนัขตัวแรกรับบทเป็นเบนจี้ในภาพยนตร์เรื่อง Ben...  [529, 538]   ฮิกกิ้นส์  \n",
       "1  ลูนา 1 เป็นยานอวกาศลำแรกในโครงการลูนาของโซเวีย...  [139, 144]       เมชตา  "
      ]
     },
     "metadata": {},
     "output_type": "display_data"
    }
   ],
   "source": [
    "#load data JSON to DataFrame\n",
    "qa_lst = []\n",
    "for qa in data['data']:\n",
    "    qa_dict = {}\n",
    "    qa_dict['article_id'] = qa['article_id']\n",
    "    qa_dict['id'] = qa['question_id']\n",
    "    qa_dict['html_context']  = load_article( f\"./data/documents-nsc/{qa['article_id']}.txt\")\n",
    "    qa_dict['question'] = qa['question']\n",
    "    qa_dict['html_label'] = [qa['answer_begin_position'],qa['answer_end_position']]\n",
    "    qa_dict['html_answer'] = qa['answer']\n",
    "    qa_lst.append(qa_dict)\n",
    "\n",
    "df_qa = pd.DataFrame(qa_lst)\n",
    "print(f\"Shap:{df_qa.shape}\")\n",
    "display(df_qa.head(2))"
   ]
  },
  {
   "cell_type": "code",
   "execution_count": 13,
   "id": "ef91c556",
   "metadata": {
    "id": "ef91c556",
    "outputId": "89d42a34-86c5-4583-9163-9af6dd71b73b"
   },
   "outputs": [
    {
     "name": "stdout",
     "output_type": "stream",
     "text": [
      "save df_ThaiQACorpusTrain to ./drqa/1-tokenizers/result/df_ThaiQACorpusTrain.pkl success\n"
     ]
    }
   ],
   "source": [
    "save_to_pickle(df_qa , f\"./drqa/1-tokenizers/result/df_{file}.pkl\")"
   ]
  },
  {
   "cell_type": "markdown",
   "id": "KVdMkkE0j3uC",
   "metadata": {
    "id": "KVdMkkE0j3uC"
   },
   "source": [
    "## Data cleaning"
   ]
  },
  {
   "cell_type": "code",
   "execution_count": 14,
   "id": "3KCQJsEEjmZd",
   "metadata": {
    "colab": {
     "base_uri": "https://localhost:8080/",
     "height": 208
    },
    "executionInfo": {
     "elapsed": 886,
     "status": "ok",
     "timestamp": 1645553706729,
     "user": {
      "displayName": "taitip Suphasiriwattana",
      "photoUrl": "https://lh3.googleusercontent.com/a/default-user=s64",
      "userId": "16893195790372778185"
     },
     "user_tz": -420
    },
    "id": "3KCQJsEEjmZd",
    "outputId": "cd6821f5-3366-49dd-d00c-3a0e92523dad"
   },
   "outputs": [
    {
     "name": "stdout",
     "output_type": "stream",
     "text": [
      "load object from ./drqa/1-tokenizers/result/df_ThaiQACorpusTrain.pkl success,that is <class 'pandas.core.frame.DataFrame'>\n"
     ]
    },
    {
     "data": {
      "text/html": [
       "<div>\n",
       "<style scoped>\n",
       "    .dataframe tbody tr th:only-of-type {\n",
       "        vertical-align: middle;\n",
       "    }\n",
       "\n",
       "    .dataframe tbody tr th {\n",
       "        vertical-align: top;\n",
       "    }\n",
       "\n",
       "    .dataframe thead th {\n",
       "        text-align: right;\n",
       "    }\n",
       "</style>\n",
       "<table border=\"1\" class=\"dataframe\">\n",
       "  <thead>\n",
       "    <tr style=\"text-align: right;\">\n",
       "      <th></th>\n",
       "      <th>article_id</th>\n",
       "      <th>id</th>\n",
       "      <th>html_context</th>\n",
       "      <th>question</th>\n",
       "      <th>html_label</th>\n",
       "      <th>html_answer</th>\n",
       "    </tr>\n",
       "  </thead>\n",
       "  <tbody>\n",
       "    <tr>\n",
       "      <th>0</th>\n",
       "      <td>115035</td>\n",
       "      <td>1</td>\n",
       "      <td>&lt;doc id=\"115035\" url=\"https://th.wikipedia.org...</td>\n",
       "      <td>สุนัขตัวแรกรับบทเป็นเบนจี้ในภาพยนตร์เรื่อง Ben...</td>\n",
       "      <td>[529, 538]</td>\n",
       "      <td>ฮิกกิ้นส์</td>\n",
       "    </tr>\n",
       "    <tr>\n",
       "      <th>1</th>\n",
       "      <td>376583</td>\n",
       "      <td>2</td>\n",
       "      <td>&lt;doc id=\"376583\" url=\"https://th.wikipedia.org...</td>\n",
       "      <td>ลูนา 1 เป็นยานอวกาศลำแรกในโครงการลูนาของโซเวีย...</td>\n",
       "      <td>[139, 144]</td>\n",
       "      <td>เมชตา</td>\n",
       "    </tr>\n",
       "  </tbody>\n",
       "</table>\n",
       "</div>"
      ],
      "text/plain": [
       "   article_id  id                                       html_context  \\\n",
       "0      115035   1  <doc id=\"115035\" url=\"https://th.wikipedia.org...   \n",
       "1      376583   2  <doc id=\"376583\" url=\"https://th.wikipedia.org...   \n",
       "\n",
       "                                            question  html_label html_answer  \n",
       "0  สุนัขตัวแรกรับบทเป็นเบนจี้ในภาพยนตร์เรื่อง Ben...  [529, 538]   ฮิกกิ้นส์  \n",
       "1  ลูนา 1 เป็นยานอวกาศลำแรกในโครงการลูนาของโซเวีย...  [139, 144]       เมชตา  "
      ]
     },
     "metadata": {},
     "output_type": "display_data"
    }
   ],
   "source": [
    "df_qa = load_pickle(f\"./drqa/1-tokenizers/result/df_{file}.pkl\")\n",
    "display(df_qa.head(2))"
   ]
  },
  {
   "cell_type": "code",
   "execution_count": 15,
   "id": "QpCisnlskYoH",
   "metadata": {
    "colab": {
     "base_uri": "https://localhost:8080/",
     "height": 226
    },
    "executionInfo": {
     "elapsed": 1412,
     "status": "ok",
     "timestamp": 1645553708687,
     "user": {
      "displayName": "taitip Suphasiriwattana",
      "photoUrl": "https://lh3.googleusercontent.com/a/default-user=s64",
      "userId": "16893195790372778185"
     },
     "user_tz": -420
    },
    "id": "QpCisnlskYoH",
    "outputId": "872fef02-6133-4c79-e36c-79f364f5a39e"
   },
   "outputs": [
    {
     "ename": "FeatureNotFound",
     "evalue": "Couldn't find a tree builder with the features you requested: lxml. Do you need to install a parser library?",
     "output_type": "error",
     "traceback": [
      "\u001b[1;31m---------------------------------------------------------------------------\u001b[0m",
      "\u001b[1;31mFeatureNotFound\u001b[0m                           Traceback (most recent call last)",
      "\u001b[1;32m~\\AppData\\Local\\Temp/ipykernel_3296/2980213488.py\u001b[0m in \u001b[0;36m<module>\u001b[1;34m\u001b[0m\n\u001b[0;32m      3\u001b[0m   \u001b[1;32mreturn\u001b[0m \u001b[1;33m[\u001b[0m\u001b[0mstart_idx\u001b[0m\u001b[1;33m,\u001b[0m \u001b[0mstart_idx\u001b[0m\u001b[1;33m+\u001b[0m\u001b[0mlen\u001b[0m\u001b[1;33m(\u001b[0m\u001b[0manswer\u001b[0m\u001b[1;33m)\u001b[0m\u001b[1;33m]\u001b[0m\u001b[1;33m\u001b[0m\u001b[1;33m\u001b[0m\u001b[0m\n\u001b[0;32m      4\u001b[0m \u001b[1;33m\u001b[0m\u001b[0m\n\u001b[1;32m----> 5\u001b[1;33m \u001b[0mdf_qa\u001b[0m\u001b[1;33m[\u001b[0m\u001b[1;34m'context'\u001b[0m\u001b[1;33m]\u001b[0m \u001b[1;33m=\u001b[0m \u001b[0mdf_qa\u001b[0m\u001b[1;33m[\u001b[0m\u001b[1;34m'html_context'\u001b[0m\u001b[1;33m]\u001b[0m\u001b[1;33m.\u001b[0m\u001b[0mapply\u001b[0m\u001b[1;33m(\u001b[0m\u001b[1;32mlambda\u001b[0m \u001b[0mx\u001b[0m\u001b[1;33m:\u001b[0m \u001b[0mBeautifulSoup\u001b[0m\u001b[1;33m(\u001b[0m\u001b[0mx\u001b[0m\u001b[1;33m,\u001b[0m \u001b[1;34m'lxml'\u001b[0m\u001b[1;33m)\u001b[0m\u001b[1;33m.\u001b[0m\u001b[0mtext\u001b[0m\u001b[1;33m)\u001b[0m\u001b[1;33m\u001b[0m\u001b[1;33m\u001b[0m\u001b[0m\n\u001b[0m\u001b[0;32m      6\u001b[0m \u001b[0mdf_qa\u001b[0m\u001b[1;33m[\u001b[0m\u001b[1;34m'label'\u001b[0m\u001b[1;33m]\u001b[0m  \u001b[1;33m=\u001b[0m \u001b[0mdf_qa\u001b[0m\u001b[1;33m.\u001b[0m\u001b[0mapply\u001b[0m\u001b[1;33m(\u001b[0m\u001b[1;32mlambda\u001b[0m \u001b[0mx\u001b[0m\u001b[1;33m:\u001b[0m \u001b[0mlabel_answer\u001b[0m\u001b[1;33m(\u001b[0m\u001b[0mx\u001b[0m\u001b[1;33m[\u001b[0m\u001b[1;34m'context'\u001b[0m\u001b[1;33m]\u001b[0m\u001b[1;33m,\u001b[0m\u001b[0mx\u001b[0m\u001b[1;33m[\u001b[0m\u001b[1;34m'html_answer'\u001b[0m\u001b[1;33m]\u001b[0m\u001b[1;33m)\u001b[0m \u001b[1;33m,\u001b[0m \u001b[0maxis\u001b[0m\u001b[1;33m=\u001b[0m\u001b[1;36m1\u001b[0m\u001b[1;33m)\u001b[0m\u001b[1;33m\u001b[0m\u001b[1;33m\u001b[0m\u001b[0m\n\u001b[0;32m      7\u001b[0m \u001b[0mdf_qa\u001b[0m\u001b[1;33m.\u001b[0m\u001b[0mhead\u001b[0m\u001b[1;33m(\u001b[0m\u001b[1;36m2\u001b[0m\u001b[1;33m)\u001b[0m\u001b[1;33m\u001b[0m\u001b[1;33m\u001b[0m\u001b[0m\n",
      "\u001b[1;32m~\\Anaconda3\\envs\\drqa\\lib\\site-packages\\pandas\\core\\series.py\u001b[0m in \u001b[0;36mapply\u001b[1;34m(self, func, convert_dtype, args, **kwargs)\u001b[0m\n\u001b[0;32m   4355\u001b[0m         \u001b[0mdtype\u001b[0m\u001b[1;33m:\u001b[0m \u001b[0mfloat64\u001b[0m\u001b[1;33m\u001b[0m\u001b[1;33m\u001b[0m\u001b[0m\n\u001b[0;32m   4356\u001b[0m         \"\"\"\n\u001b[1;32m-> 4357\u001b[1;33m         \u001b[1;32mreturn\u001b[0m \u001b[0mSeriesApply\u001b[0m\u001b[1;33m(\u001b[0m\u001b[0mself\u001b[0m\u001b[1;33m,\u001b[0m \u001b[0mfunc\u001b[0m\u001b[1;33m,\u001b[0m \u001b[0mconvert_dtype\u001b[0m\u001b[1;33m,\u001b[0m \u001b[0margs\u001b[0m\u001b[1;33m,\u001b[0m \u001b[0mkwargs\u001b[0m\u001b[1;33m)\u001b[0m\u001b[1;33m.\u001b[0m\u001b[0mapply\u001b[0m\u001b[1;33m(\u001b[0m\u001b[1;33m)\u001b[0m\u001b[1;33m\u001b[0m\u001b[1;33m\u001b[0m\u001b[0m\n\u001b[0m\u001b[0;32m   4358\u001b[0m \u001b[1;33m\u001b[0m\u001b[0m\n\u001b[0;32m   4359\u001b[0m     def _reduce(\n",
      "\u001b[1;32m~\\Anaconda3\\envs\\drqa\\lib\\site-packages\\pandas\\core\\apply.py\u001b[0m in \u001b[0;36mapply\u001b[1;34m(self)\u001b[0m\n\u001b[0;32m   1041\u001b[0m             \u001b[1;32mreturn\u001b[0m \u001b[0mself\u001b[0m\u001b[1;33m.\u001b[0m\u001b[0mapply_str\u001b[0m\u001b[1;33m(\u001b[0m\u001b[1;33m)\u001b[0m\u001b[1;33m\u001b[0m\u001b[1;33m\u001b[0m\u001b[0m\n\u001b[0;32m   1042\u001b[0m \u001b[1;33m\u001b[0m\u001b[0m\n\u001b[1;32m-> 1043\u001b[1;33m         \u001b[1;32mreturn\u001b[0m \u001b[0mself\u001b[0m\u001b[1;33m.\u001b[0m\u001b[0mapply_standard\u001b[0m\u001b[1;33m(\u001b[0m\u001b[1;33m)\u001b[0m\u001b[1;33m\u001b[0m\u001b[1;33m\u001b[0m\u001b[0m\n\u001b[0m\u001b[0;32m   1044\u001b[0m \u001b[1;33m\u001b[0m\u001b[0m\n\u001b[0;32m   1045\u001b[0m     \u001b[1;32mdef\u001b[0m \u001b[0magg\u001b[0m\u001b[1;33m(\u001b[0m\u001b[0mself\u001b[0m\u001b[1;33m)\u001b[0m\u001b[1;33m:\u001b[0m\u001b[1;33m\u001b[0m\u001b[1;33m\u001b[0m\u001b[0m\n",
      "\u001b[1;32m~\\Anaconda3\\envs\\drqa\\lib\\site-packages\\pandas\\core\\apply.py\u001b[0m in \u001b[0;36mapply_standard\u001b[1;34m(self)\u001b[0m\n\u001b[0;32m   1096\u001b[0m                 \u001b[1;31m# List[Union[Callable[..., Any], str]]]]]\"; expected\u001b[0m\u001b[1;33m\u001b[0m\u001b[1;33m\u001b[0m\u001b[1;33m\u001b[0m\u001b[0m\n\u001b[0;32m   1097\u001b[0m                 \u001b[1;31m# \"Callable[[Any], Any]\"\u001b[0m\u001b[1;33m\u001b[0m\u001b[1;33m\u001b[0m\u001b[1;33m\u001b[0m\u001b[0m\n\u001b[1;32m-> 1098\u001b[1;33m                 mapped = lib.map_infer(\n\u001b[0m\u001b[0;32m   1099\u001b[0m                     \u001b[0mvalues\u001b[0m\u001b[1;33m,\u001b[0m\u001b[1;33m\u001b[0m\u001b[1;33m\u001b[0m\u001b[0m\n\u001b[0;32m   1100\u001b[0m                     \u001b[0mf\u001b[0m\u001b[1;33m,\u001b[0m  \u001b[1;31m# type: ignore[arg-type]\u001b[0m\u001b[1;33m\u001b[0m\u001b[1;33m\u001b[0m\u001b[0m\n",
      "\u001b[1;32m~\\Anaconda3\\envs\\drqa\\lib\\site-packages\\pandas\\_libs\\lib.pyx\u001b[0m in \u001b[0;36mpandas._libs.lib.map_infer\u001b[1;34m()\u001b[0m\n",
      "\u001b[1;32m~\\AppData\\Local\\Temp/ipykernel_3296/2980213488.py\u001b[0m in \u001b[0;36m<lambda>\u001b[1;34m(x)\u001b[0m\n\u001b[0;32m      3\u001b[0m   \u001b[1;32mreturn\u001b[0m \u001b[1;33m[\u001b[0m\u001b[0mstart_idx\u001b[0m\u001b[1;33m,\u001b[0m \u001b[0mstart_idx\u001b[0m\u001b[1;33m+\u001b[0m\u001b[0mlen\u001b[0m\u001b[1;33m(\u001b[0m\u001b[0manswer\u001b[0m\u001b[1;33m)\u001b[0m\u001b[1;33m]\u001b[0m\u001b[1;33m\u001b[0m\u001b[1;33m\u001b[0m\u001b[0m\n\u001b[0;32m      4\u001b[0m \u001b[1;33m\u001b[0m\u001b[0m\n\u001b[1;32m----> 5\u001b[1;33m \u001b[0mdf_qa\u001b[0m\u001b[1;33m[\u001b[0m\u001b[1;34m'context'\u001b[0m\u001b[1;33m]\u001b[0m \u001b[1;33m=\u001b[0m \u001b[0mdf_qa\u001b[0m\u001b[1;33m[\u001b[0m\u001b[1;34m'html_context'\u001b[0m\u001b[1;33m]\u001b[0m\u001b[1;33m.\u001b[0m\u001b[0mapply\u001b[0m\u001b[1;33m(\u001b[0m\u001b[1;32mlambda\u001b[0m \u001b[0mx\u001b[0m\u001b[1;33m:\u001b[0m \u001b[0mBeautifulSoup\u001b[0m\u001b[1;33m(\u001b[0m\u001b[0mx\u001b[0m\u001b[1;33m,\u001b[0m \u001b[1;34m'lxml'\u001b[0m\u001b[1;33m)\u001b[0m\u001b[1;33m.\u001b[0m\u001b[0mtext\u001b[0m\u001b[1;33m)\u001b[0m\u001b[1;33m\u001b[0m\u001b[1;33m\u001b[0m\u001b[0m\n\u001b[0m\u001b[0;32m      6\u001b[0m \u001b[0mdf_qa\u001b[0m\u001b[1;33m[\u001b[0m\u001b[1;34m'label'\u001b[0m\u001b[1;33m]\u001b[0m  \u001b[1;33m=\u001b[0m \u001b[0mdf_qa\u001b[0m\u001b[1;33m.\u001b[0m\u001b[0mapply\u001b[0m\u001b[1;33m(\u001b[0m\u001b[1;32mlambda\u001b[0m \u001b[0mx\u001b[0m\u001b[1;33m:\u001b[0m \u001b[0mlabel_answer\u001b[0m\u001b[1;33m(\u001b[0m\u001b[0mx\u001b[0m\u001b[1;33m[\u001b[0m\u001b[1;34m'context'\u001b[0m\u001b[1;33m]\u001b[0m\u001b[1;33m,\u001b[0m\u001b[0mx\u001b[0m\u001b[1;33m[\u001b[0m\u001b[1;34m'html_answer'\u001b[0m\u001b[1;33m]\u001b[0m\u001b[1;33m)\u001b[0m \u001b[1;33m,\u001b[0m \u001b[0maxis\u001b[0m\u001b[1;33m=\u001b[0m\u001b[1;36m1\u001b[0m\u001b[1;33m)\u001b[0m\u001b[1;33m\u001b[0m\u001b[1;33m\u001b[0m\u001b[0m\n\u001b[0;32m      7\u001b[0m \u001b[0mdf_qa\u001b[0m\u001b[1;33m.\u001b[0m\u001b[0mhead\u001b[0m\u001b[1;33m(\u001b[0m\u001b[1;36m2\u001b[0m\u001b[1;33m)\u001b[0m\u001b[1;33m\u001b[0m\u001b[1;33m\u001b[0m\u001b[0m\n",
      "\u001b[1;32m~\\Anaconda3\\envs\\drqa\\lib\\site-packages\\bs4\\__init__.py\u001b[0m in \u001b[0;36m__init__\u001b[1;34m(self, markup, features, builder, parse_only, from_encoding, exclude_encodings, element_classes, **kwargs)\u001b[0m\n\u001b[0;32m    241\u001b[0m             \u001b[0mbuilder_class\u001b[0m \u001b[1;33m=\u001b[0m \u001b[0mbuilder_registry\u001b[0m\u001b[1;33m.\u001b[0m\u001b[0mlookup\u001b[0m\u001b[1;33m(\u001b[0m\u001b[1;33m*\u001b[0m\u001b[0mfeatures\u001b[0m\u001b[1;33m)\u001b[0m\u001b[1;33m\u001b[0m\u001b[1;33m\u001b[0m\u001b[0m\n\u001b[0;32m    242\u001b[0m             \u001b[1;32mif\u001b[0m \u001b[0mbuilder_class\u001b[0m \u001b[1;32mis\u001b[0m \u001b[1;32mNone\u001b[0m\u001b[1;33m:\u001b[0m\u001b[1;33m\u001b[0m\u001b[1;33m\u001b[0m\u001b[0m\n\u001b[1;32m--> 243\u001b[1;33m                 raise FeatureNotFound(\n\u001b[0m\u001b[0;32m    244\u001b[0m                     \u001b[1;34m\"Couldn't find a tree builder with the features you \"\u001b[0m\u001b[1;33m\u001b[0m\u001b[1;33m\u001b[0m\u001b[0m\n\u001b[0;32m    245\u001b[0m                     \u001b[1;34m\"requested: %s. Do you need to install a parser library?\"\u001b[0m\u001b[1;33m\u001b[0m\u001b[1;33m\u001b[0m\u001b[0m\n",
      "\u001b[1;31mFeatureNotFound\u001b[0m: Couldn't find a tree builder with the features you requested: lxml. Do you need to install a parser library?"
     ]
    }
   ],
   "source": [
    "def label_answer(context ,answer):\n",
    "  start_idx = context.index(answer)\n",
    "  return [start_idx, start_idx+len(answer)]\n",
    "  \n",
    "df_qa['context'] = df_qa['html_context'].apply(lambda x: BeautifulSoup(x, 'lxml').text)\n",
    "df_qa['label']  = df_qa.apply(lambda x: label_answer(x['context'],x['html_answer']) , axis=1)\n",
    "df_qa.head(2)"
   ]
  },
  {
   "cell_type": "code",
   "execution_count": null,
   "id": "09vr40sYnRho",
   "metadata": {
    "colab": {
     "base_uri": "https://localhost:8080/"
    },
    "executionInfo": {
     "elapsed": 523,
     "status": "ok",
     "timestamp": 1645554127229,
     "user": {
      "displayName": "taitip Suphasiriwattana",
      "photoUrl": "https://lh3.googleusercontent.com/a/default-user=s64",
      "userId": "16893195790372778185"
     },
     "user_tz": -420
    },
    "id": "09vr40sYnRho",
    "outputId": "761c7a48-9091-418c-a8cc-1d2d589246c8"
   },
   "outputs": [
    {
     "name": "stdout",
     "output_type": "stream",
     "text": [
      " Correct Answer : 4000\n"
     ]
    }
   ],
   "source": [
    "#Check map new answer\n",
    "def getanswer(context,label):\n",
    "  sidx,eidx = label\n",
    "  return context[sidx:eidx]\n",
    "print(f\" Correct Answer : {sum(df_qa.apply(lambda x: getanswer(x['context'],x['label']) , axis=1) == df_qa['html_answer'])}\")"
   ]
  },
  {
   "cell_type": "code",
   "execution_count": null,
   "id": "zpXvzFGuq15K",
   "metadata": {
    "colab": {
     "base_uri": "https://localhost:8080/"
    },
    "executionInfo": {
     "elapsed": 463,
     "status": "ok",
     "timestamp": 1645554392589,
     "user": {
      "displayName": "taitip Suphasiriwattana",
      "photoUrl": "https://lh3.googleusercontent.com/a/default-user=s64",
      "userId": "16893195790372778185"
     },
     "user_tz": -420
    },
    "id": "zpXvzFGuq15K",
    "outputId": "a81c470a-d573-4350-849d-9ef33054024d"
   },
   "outputs": [
    {
     "name": "stdout",
     "output_type": "stream",
     "text": [
      "save df_cleaningqa to ./drqa/1-tokenizers/result/df_cleaningqa.pkl success\n"
     ]
    }
   ],
   "source": [
    "save_to_pickle(df_qa.drop(columns=['html_context','html_label']).rename(columns={'html_answer':'answer'}) , \n",
    "               \"./drqa/1-tokenizers/result/df_cleaningqa.pkl\")"
   ]
  },
  {
   "cell_type": "markdown",
   "id": "5fkWgTUDfVJH",
   "metadata": {
    "id": "5fkWgTUDfVJH"
   },
   "source": [
    "## Create list of Word"
   ]
  },
  {
   "cell_type": "code",
   "execution_count": null,
   "id": "H2sHS6QxsBTN",
   "metadata": {
    "colab": {
     "base_uri": "https://localhost:8080/",
     "height": 129
    },
    "executionInfo": {
     "elapsed": 626,
     "status": "ok",
     "timestamp": 1645554471519,
     "user": {
      "displayName": "taitip Suphasiriwattana",
      "photoUrl": "https://lh3.googleusercontent.com/a/default-user=s64",
      "userId": "16893195790372778185"
     },
     "user_tz": -420
    },
    "id": "H2sHS6QxsBTN",
    "outputId": "e339f4fc-26e7-4dd1-a09d-7a58adfe56e8"
   },
   "outputs": [
    {
     "name": "stdout",
     "output_type": "stream",
     "text": [
      "load object from ./drqa/1-tokenizers/result/df_cleaningqa.pkl success,that is <class 'pandas.core.frame.DataFrame'>\n"
     ]
    },
    {
     "data": {
      "text/html": [
       "\n",
       "  <div id=\"df-aaf51249-a358-4900-a19c-6dc28848d1f9\">\n",
       "    <div class=\"colab-df-container\">\n",
       "      <div>\n",
       "<style scoped>\n",
       "    .dataframe tbody tr th:only-of-type {\n",
       "        vertical-align: middle;\n",
       "    }\n",
       "\n",
       "    .dataframe tbody tr th {\n",
       "        vertical-align: top;\n",
       "    }\n",
       "\n",
       "    .dataframe thead th {\n",
       "        text-align: right;\n",
       "    }\n",
       "</style>\n",
       "<table border=\"1\" class=\"dataframe\">\n",
       "  <thead>\n",
       "    <tr style=\"text-align: right;\">\n",
       "      <th></th>\n",
       "      <th>article_id</th>\n",
       "      <th>id</th>\n",
       "      <th>question</th>\n",
       "      <th>answer</th>\n",
       "      <th>context</th>\n",
       "      <th>label</th>\n",
       "    </tr>\n",
       "  </thead>\n",
       "  <tbody>\n",
       "    <tr>\n",
       "      <th>0</th>\n",
       "      <td>115035</td>\n",
       "      <td>1</td>\n",
       "      <td>สุนัขตัวแรกรับบทเป็นเบนจี้ในภาพยนตร์เรื่อง Ben...</td>\n",
       "      <td>ฮิกกิ้นส์</td>\n",
       "      <td>เบนจี้ เบนจี้ () เป็นชื่อตัวละครหมาพันทางแสนรู...</td>\n",
       "      <td>[447, 456]</td>\n",
       "    </tr>\n",
       "    <tr>\n",
       "      <th>1</th>\n",
       "      <td>376583</td>\n",
       "      <td>2</td>\n",
       "      <td>ลูนา 1 เป็นยานอวกาศลำแรกในโครงการลูนาของโซเวีย...</td>\n",
       "      <td>เมชตา</td>\n",
       "      <td>ลูนา 1 ลูนา 1 (อี-1 ซีรีส์) ซึ่งในขณะนั้นรู้จั...</td>\n",
       "      <td>[57, 62]</td>\n",
       "    </tr>\n",
       "  </tbody>\n",
       "</table>\n",
       "</div>\n",
       "      <button class=\"colab-df-convert\" onclick=\"convertToInteractive('df-aaf51249-a358-4900-a19c-6dc28848d1f9')\"\n",
       "              title=\"Convert this dataframe to an interactive table.\"\n",
       "              style=\"display:none;\">\n",
       "        \n",
       "  <svg xmlns=\"http://www.w3.org/2000/svg\" height=\"24px\"viewBox=\"0 0 24 24\"\n",
       "       width=\"24px\">\n",
       "    <path d=\"M0 0h24v24H0V0z\" fill=\"none\"/>\n",
       "    <path d=\"M18.56 5.44l.94 2.06.94-2.06 2.06-.94-2.06-.94-.94-2.06-.94 2.06-2.06.94zm-11 1L8.5 8.5l.94-2.06 2.06-.94-2.06-.94L8.5 2.5l-.94 2.06-2.06.94zm10 10l.94 2.06.94-2.06 2.06-.94-2.06-.94-.94-2.06-.94 2.06-2.06.94z\"/><path d=\"M17.41 7.96l-1.37-1.37c-.4-.4-.92-.59-1.43-.59-.52 0-1.04.2-1.43.59L10.3 9.45l-7.72 7.72c-.78.78-.78 2.05 0 2.83L4 21.41c.39.39.9.59 1.41.59.51 0 1.02-.2 1.41-.59l7.78-7.78 2.81-2.81c.8-.78.8-2.07 0-2.86zM5.41 20L4 18.59l7.72-7.72 1.47 1.35L5.41 20z\"/>\n",
       "  </svg>\n",
       "      </button>\n",
       "      \n",
       "  <style>\n",
       "    .colab-df-container {\n",
       "      display:flex;\n",
       "      flex-wrap:wrap;\n",
       "      gap: 12px;\n",
       "    }\n",
       "\n",
       "    .colab-df-convert {\n",
       "      background-color: #E8F0FE;\n",
       "      border: none;\n",
       "      border-radius: 50%;\n",
       "      cursor: pointer;\n",
       "      display: none;\n",
       "      fill: #1967D2;\n",
       "      height: 32px;\n",
       "      padding: 0 0 0 0;\n",
       "      width: 32px;\n",
       "    }\n",
       "\n",
       "    .colab-df-convert:hover {\n",
       "      background-color: #E2EBFA;\n",
       "      box-shadow: 0px 1px 2px rgba(60, 64, 67, 0.3), 0px 1px 3px 1px rgba(60, 64, 67, 0.15);\n",
       "      fill: #174EA6;\n",
       "    }\n",
       "\n",
       "    [theme=dark] .colab-df-convert {\n",
       "      background-color: #3B4455;\n",
       "      fill: #D2E3FC;\n",
       "    }\n",
       "\n",
       "    [theme=dark] .colab-df-convert:hover {\n",
       "      background-color: #434B5C;\n",
       "      box-shadow: 0px 1px 3px 1px rgba(0, 0, 0, 0.15);\n",
       "      filter: drop-shadow(0px 1px 2px rgba(0, 0, 0, 0.3));\n",
       "      fill: #FFFFFF;\n",
       "    }\n",
       "  </style>\n",
       "\n",
       "      <script>\n",
       "        const buttonEl =\n",
       "          document.querySelector('#df-aaf51249-a358-4900-a19c-6dc28848d1f9 button.colab-df-convert');\n",
       "        buttonEl.style.display =\n",
       "          google.colab.kernel.accessAllowed ? 'block' : 'none';\n",
       "\n",
       "        async function convertToInteractive(key) {\n",
       "          const element = document.querySelector('#df-aaf51249-a358-4900-a19c-6dc28848d1f9');\n",
       "          const dataTable =\n",
       "            await google.colab.kernel.invokeFunction('convertToInteractive',\n",
       "                                                     [key], {});\n",
       "          if (!dataTable) return;\n",
       "\n",
       "          const docLinkHtml = 'Like what you see? Visit the ' +\n",
       "            '<a target=\"_blank\" href=https://colab.research.google.com/notebooks/data_table.ipynb>data table notebook</a>'\n",
       "            + ' to learn more about interactive tables.';\n",
       "          element.innerHTML = '';\n",
       "          dataTable['output_type'] = 'display_data';\n",
       "          await google.colab.output.renderOutput(dataTable, element);\n",
       "          const docLink = document.createElement('div');\n",
       "          docLink.innerHTML = docLinkHtml;\n",
       "          element.appendChild(docLink);\n",
       "        }\n",
       "      </script>\n",
       "    </div>\n",
       "  </div>\n",
       "  "
      ],
      "text/plain": [
       "   article_id  ...       label\n",
       "0      115035  ...  [447, 456]\n",
       "1      376583  ...    [57, 62]\n",
       "\n",
       "[2 rows x 6 columns]"
      ]
     },
     "metadata": {},
     "output_type": "display_data"
    }
   ],
   "source": [
    "df_qa = load_pickle(\"./drqa/1-tokenizers/result/df_cleaningqa.pkl\")\n",
    "display(df_qa.head(2))"
   ]
  },
  {
   "cell_type": "code",
   "execution_count": null,
   "id": "0c1364b4",
   "metadata": {
    "colab": {
     "base_uri": "https://localhost:8080/"
    },
    "executionInfo": {
     "elapsed": 43444,
     "status": "ok",
     "timestamp": 1645554647948,
     "user": {
      "displayName": "taitip Suphasiriwattana",
      "photoUrl": "https://lh3.googleusercontent.com/a/default-user=s64",
      "userId": "16893195790372778185"
     },
     "user_tz": -420
    },
    "id": "0c1364b4",
    "outputId": "b8fbb33c-49f0-4ccf-9906-9752ffd758a5"
   },
   "outputs": [
    {
     "name": "stdout",
     "output_type": "stream",
     "text": [
      "Number of sentences in dataset:  6266\n",
      "raw-vocab: 61036\n",
      "vocab-length: 61036\n",
      "word2idx-length: 61036\n",
      "CPU times: user 42.8 s, sys: 309 ms, total: 43.1 s\n",
      "Wall time: 43 s\n"
     ]
    }
   ],
   "source": [
    "# gather text to build vocabularies\n",
    "%%time\n",
    "vocab_text = gather_text_for_vocab([df_qa])\n",
    "word2idx, idx2word, word_vocab = build_word_vocab(vocab_text)"
   ]
  },
  {
   "cell_type": "code",
   "execution_count": null,
   "id": "751357ec",
   "metadata": {
    "colab": {
     "base_uri": "https://localhost:8080/"
    },
    "executionInfo": {
     "elapsed": 77659,
     "status": "ok",
     "timestamp": 1645554782194,
     "user": {
      "displayName": "taitip Suphasiriwattana",
      "photoUrl": "https://lh3.googleusercontent.com/a/default-user=s64",
      "userId": "16893195790372778185"
     },
     "user_tz": -420
    },
    "id": "751357ec",
    "outputId": "be30ff88-3ee2-4f84-87b8-a1e6430b433b"
   },
   "outputs": [
    {
     "name": "stdout",
     "output_type": "stream",
     "text": [
      "CPU times: user 1min 16s, sys: 331 ms, total: 1min 17s\n",
      "Wall time: 1min 17s\n"
     ]
    }
   ],
   "source": [
    "# numericalize context and questions\n",
    "%%time\n",
    "df_qa['context_ids']   = df_qa.context.apply(word_to_ids,   word2idx=word2idx)\n",
    "df_qa['question_ids'] = df_qa.question.apply(word_to_ids,  word2idx=word2idx)\n",
    "display(df_qa.head(2))"
   ]
  },
  {
   "cell_type": "code",
   "execution_count": null,
   "id": "cdad3498",
   "metadata": {
    "id": "cdad3498"
   },
   "outputs": [],
   "source": [
    "def test_indices(df, idx2word):\n",
    "    '''\n",
    "    Performs the tests mentioned above. This method also gets the start and end of the answers\n",
    "    with respect to the context_ids for each example.\n",
    "    :param dataframe df: SQUAD df\n",
    "    :param dict idx2word: inverse mapping of token ids to words\n",
    "    :returns\n",
    "        list start_value_error: example idx where the start idx is not found in the start spans\n",
    "                                of the text\n",
    "        list end_value_error: example idx where the end idx is not found in the end spans\n",
    "                              of the text\n",
    "        list assert_error: examples that fail assertion errors. A majority are due to the above errors\n",
    "    '''\n",
    "\n",
    "    start_value_error = []\n",
    "    end_value_error = []\n",
    "    assert_error = []\n",
    "    for index, row in df.iterrows():\n",
    "        answer_tokens = [w for w in word_tokenize(row['answer'] ,engine='newmm')]\n",
    "        \n",
    "        context_tokens = word_tokenize(row['context'] ,engine='newmm')\n",
    "        context_span  = [(len(\"\".join(context_tokens[0:i])), len(\"\".join(context_tokens[0:i+1]))) \n",
    "                         for i,w in enumerate(context_tokens)]\n",
    "        starts, ends = zip(*context_span)\n",
    "\n",
    "        answer_start, answer_end = row['label']\n",
    "\n",
    "        try:\n",
    "            start_idx = starts.index(answer_start)\n",
    "        except:\n",
    "            start_value_error.append(index)\n",
    "        try:\n",
    "            end_idx  = ends.index(answer_end)\n",
    "        except:\n",
    "            end_value_error.append(index)\n",
    "\n",
    "        try:\n",
    "            assert idx2word[row['context_ids'][start_idx]] == answer_tokens[0]\n",
    "            assert idx2word[row['context_ids'][end_idx]] == answer_tokens[-1]\n",
    "        except:\n",
    "            assert_error.append(index)\n",
    "\n",
    "\n",
    "    return start_value_error, end_value_error, assert_error\n",
    "\n",
    "def get_error_indices(df, idx2word):\n",
    "    \n",
    "    start_value_error, end_value_error, assert_error = test_indices(df, idx2word)\n",
    "    err_idx = start_value_error + end_value_error + assert_error\n",
    "    err_idx = set(err_idx)\n",
    "    print(f\"Number of error indices: {len(err_idx)}\")\n",
    "    \n",
    "    return err_idx"
   ]
  },
  {
   "cell_type": "code",
   "execution_count": null,
   "id": "44392cd9",
   "metadata": {
    "colab": {
     "base_uri": "https://localhost:8080/"
    },
    "executionInfo": {
     "elapsed": 630695,
     "status": "ok",
     "timestamp": 1645555761872,
     "user": {
      "displayName": "taitip Suphasiriwattana",
      "photoUrl": "https://lh3.googleusercontent.com/a/default-user=s64",
      "userId": "16893195790372778185"
     },
     "user_tz": -420
    },
    "id": "44392cd9",
    "outputId": "e68a659c-f890-41ea-d75c-c14e16d09fba"
   },
   "outputs": [
    {
     "name": "stdout",
     "output_type": "stream",
     "text": [
      "Number of error indices: 190\n",
      "Shape of data frame after drop error row: (3810, 8)\n",
      "CPU times: user 10min 30s, sys: 1.97 s, total: 10min 32s\n",
      "Wall time: 10min 31s\n"
     ]
    }
   ],
   "source": [
    "%%time \n",
    "train_err = get_error_indices(df_qa, idx2word)\n",
    "\n",
    "df_qa.drop(train_err, inplace=True)\n",
    "print(f\"Shape of data frame after drop error row: {df_qa.shape}\")\n",
    "#Some row is error explore that how to fixed that#"
   ]
  },
  {
   "cell_type": "code",
   "execution_count": null,
   "id": "2ba9dbb3",
   "metadata": {
    "id": "2ba9dbb3"
   },
   "outputs": [],
   "source": [
    "def index_answer(row, idx2word):\n",
    "    '''\n",
    "    Takes in a row of the dataframe or one training example and\n",
    "    returns a tuple of start and end positions of answer by calculating \n",
    "    spans.\n",
    "    '''\n",
    "    context_tokens = word_tokenize(row['context'] ,engine='newmm')\n",
    "    context_span  = [(len(\"\".join(context_tokens[0:i])), len(\"\".join(context_tokens[0:i+1]))) \n",
    "                     for i,w in enumerate(context_tokens)]\n",
    "    starts, ends = zip(*context_span)\n",
    "    \n",
    "    answer_start, answer_end = row['label']\n",
    "    \n",
    "    start_idx = starts.index(answer_start)\n",
    "    end_idx  = ends.index(answer_end)\n",
    "    \n",
    "    answer_tokens = [w for w in word_tokenize(row['answer'] ,engine='newmm')]\n",
    "    assert idx2word[row.context_ids[start_idx]] == answer_tokens[0]\n",
    "    assert idx2word[row.context_ids[end_idx]] == answer_tokens[-1]\n",
    "    \n",
    "    return [start_idx, end_idx]"
   ]
  },
  {
   "cell_type": "code",
   "execution_count": null,
   "id": "203f5a33",
   "metadata": {
    "colab": {
     "base_uri": "https://localhost:8080/",
     "height": 278
    },
    "executionInfo": {
     "elapsed": 606515,
     "status": "ok",
     "timestamp": 1645556525924,
     "user": {
      "displayName": "taitip Suphasiriwattana",
      "photoUrl": "https://lh3.googleusercontent.com/a/default-user=s64",
      "userId": "16893195790372778185"
     },
     "user_tz": -420
    },
    "id": "203f5a33",
    "outputId": "6f26a778-f136-42ee-c252-ef4d22482399"
   },
   "outputs": [
    {
     "name": "stdout",
     "output_type": "stream",
     "text": [
      "df_qa.shape:(3810, 9)\n"
     ]
    },
    {
     "data": {
      "text/html": [
       "\n",
       "  <div id=\"df-11ce3b20-583e-4db3-92c4-78e8eb333094\">\n",
       "    <div class=\"colab-df-container\">\n",
       "      <div>\n",
       "<style scoped>\n",
       "    .dataframe tbody tr th:only-of-type {\n",
       "        vertical-align: middle;\n",
       "    }\n",
       "\n",
       "    .dataframe tbody tr th {\n",
       "        vertical-align: top;\n",
       "    }\n",
       "\n",
       "    .dataframe thead th {\n",
       "        text-align: right;\n",
       "    }\n",
       "</style>\n",
       "<table border=\"1\" class=\"dataframe\">\n",
       "  <thead>\n",
       "    <tr style=\"text-align: right;\">\n",
       "      <th></th>\n",
       "      <th>article_id</th>\n",
       "      <th>id</th>\n",
       "      <th>question</th>\n",
       "      <th>answer</th>\n",
       "      <th>context</th>\n",
       "      <th>label</th>\n",
       "      <th>context_ids</th>\n",
       "      <th>question_ids</th>\n",
       "      <th>label_idx</th>\n",
       "    </tr>\n",
       "  </thead>\n",
       "  <tbody>\n",
       "    <tr>\n",
       "      <th>0</th>\n",
       "      <td>115035</td>\n",
       "      <td>1</td>\n",
       "      <td>สุนัขตัวแรกรับบทเป็นเบนจี้ในภาพยนตร์เรื่อง Ben...</td>\n",
       "      <td>ฮิกกิ้นส์</td>\n",
       "      <td>เบนจี้ เบนจี้ () เป็นชื่อตัวละครหมาพันทางแสนรู...</td>\n",
       "      <td>[447, 456]</td>\n",
       "      <td>[2699, 6599, 0, 2699, 6599, 0, 213, 0, 6, 62, ...</td>\n",
       "      <td>[2005, 149, 80, 94, 6, 2699, 6599, 1, 98, 56, ...</td>\n",
       "      <td>[133, 134]</td>\n",
       "    </tr>\n",
       "    <tr>\n",
       "      <th>1</th>\n",
       "      <td>376583</td>\n",
       "      <td>2</td>\n",
       "      <td>ลูนา 1 เป็นยานอวกาศลำแรกในโครงการลูนาของโซเวีย...</td>\n",
       "      <td>เมชตา</td>\n",
       "      <td>ลูนา 1 ลูนา 1 (อี-1 ซีรีส์) ซึ่งในขณะนั้นรู้จั...</td>\n",
       "      <td>[57, 62]</td>\n",
       "      <td>[1223, 171, 0, 51, 0, 1223, 171, 0, 51, 0, 7, ...</td>\n",
       "      <td>[1223, 171, 0, 51, 0, 6, 7648, 916, 80, 1, 465...</td>\n",
       "      <td>[25, 27]</td>\n",
       "    </tr>\n",
       "  </tbody>\n",
       "</table>\n",
       "</div>\n",
       "      <button class=\"colab-df-convert\" onclick=\"convertToInteractive('df-11ce3b20-583e-4db3-92c4-78e8eb333094')\"\n",
       "              title=\"Convert this dataframe to an interactive table.\"\n",
       "              style=\"display:none;\">\n",
       "        \n",
       "  <svg xmlns=\"http://www.w3.org/2000/svg\" height=\"24px\"viewBox=\"0 0 24 24\"\n",
       "       width=\"24px\">\n",
       "    <path d=\"M0 0h24v24H0V0z\" fill=\"none\"/>\n",
       "    <path d=\"M18.56 5.44l.94 2.06.94-2.06 2.06-.94-2.06-.94-.94-2.06-.94 2.06-2.06.94zm-11 1L8.5 8.5l.94-2.06 2.06-.94-2.06-.94L8.5 2.5l-.94 2.06-2.06.94zm10 10l.94 2.06.94-2.06 2.06-.94-2.06-.94-.94-2.06-.94 2.06-2.06.94z\"/><path d=\"M17.41 7.96l-1.37-1.37c-.4-.4-.92-.59-1.43-.59-.52 0-1.04.2-1.43.59L10.3 9.45l-7.72 7.72c-.78.78-.78 2.05 0 2.83L4 21.41c.39.39.9.59 1.41.59.51 0 1.02-.2 1.41-.59l7.78-7.78 2.81-2.81c.8-.78.8-2.07 0-2.86zM5.41 20L4 18.59l7.72-7.72 1.47 1.35L5.41 20z\"/>\n",
       "  </svg>\n",
       "      </button>\n",
       "      \n",
       "  <style>\n",
       "    .colab-df-container {\n",
       "      display:flex;\n",
       "      flex-wrap:wrap;\n",
       "      gap: 12px;\n",
       "    }\n",
       "\n",
       "    .colab-df-convert {\n",
       "      background-color: #E8F0FE;\n",
       "      border: none;\n",
       "      border-radius: 50%;\n",
       "      cursor: pointer;\n",
       "      display: none;\n",
       "      fill: #1967D2;\n",
       "      height: 32px;\n",
       "      padding: 0 0 0 0;\n",
       "      width: 32px;\n",
       "    }\n",
       "\n",
       "    .colab-df-convert:hover {\n",
       "      background-color: #E2EBFA;\n",
       "      box-shadow: 0px 1px 2px rgba(60, 64, 67, 0.3), 0px 1px 3px 1px rgba(60, 64, 67, 0.15);\n",
       "      fill: #174EA6;\n",
       "    }\n",
       "\n",
       "    [theme=dark] .colab-df-convert {\n",
       "      background-color: #3B4455;\n",
       "      fill: #D2E3FC;\n",
       "    }\n",
       "\n",
       "    [theme=dark] .colab-df-convert:hover {\n",
       "      background-color: #434B5C;\n",
       "      box-shadow: 0px 1px 3px 1px rgba(0, 0, 0, 0.15);\n",
       "      filter: drop-shadow(0px 1px 2px rgba(0, 0, 0, 0.3));\n",
       "      fill: #FFFFFF;\n",
       "    }\n",
       "  </style>\n",
       "\n",
       "      <script>\n",
       "        const buttonEl =\n",
       "          document.querySelector('#df-11ce3b20-583e-4db3-92c4-78e8eb333094 button.colab-df-convert');\n",
       "        buttonEl.style.display =\n",
       "          google.colab.kernel.accessAllowed ? 'block' : 'none';\n",
       "\n",
       "        async function convertToInteractive(key) {\n",
       "          const element = document.querySelector('#df-11ce3b20-583e-4db3-92c4-78e8eb333094');\n",
       "          const dataTable =\n",
       "            await google.colab.kernel.invokeFunction('convertToInteractive',\n",
       "                                                     [key], {});\n",
       "          if (!dataTable) return;\n",
       "\n",
       "          const docLinkHtml = 'Like what you see? Visit the ' +\n",
       "            '<a target=\"_blank\" href=https://colab.research.google.com/notebooks/data_table.ipynb>data table notebook</a>'\n",
       "            + ' to learn more about interactive tables.';\n",
       "          element.innerHTML = '';\n",
       "          dataTable['output_type'] = 'display_data';\n",
       "          await google.colab.output.renderOutput(dataTable, element);\n",
       "          const docLink = document.createElement('div');\n",
       "          docLink.innerHTML = docLinkHtml;\n",
       "          element.appendChild(docLink);\n",
       "        }\n",
       "      </script>\n",
       "    </div>\n",
       "  </div>\n",
       "  "
      ],
      "text/plain": [
       "   article_id  ...   label_idx\n",
       "0      115035  ...  [133, 134]\n",
       "1      376583  ...    [25, 27]\n",
       "\n",
       "[2 rows x 9 columns]"
      ]
     },
     "metadata": {},
     "output_type": "display_data"
    },
    {
     "name": "stdout",
     "output_type": "stream",
     "text": [
      "CPU times: user 10min 5s, sys: 2.14 s, total: 10min 7s\n",
      "Wall time: 10min 6s\n"
     ]
    }
   ],
   "source": [
    "%%time\n",
    "#label_idx is position in context_ids ,which value convert to word by idx2word[]\n",
    "label_idx = df_qa.apply(index_answer, axis=1, idx2word=idx2word)\n",
    "df_qa['label_idx'] = label_idx\n",
    "print(f\"df_qa.shape:{df_qa.shape}\")\n",
    "display(df_qa.head(2))"
   ]
  },
  {
   "cell_type": "markdown",
   "id": "cRytL5nBfhKL",
   "metadata": {
    "id": "cRytL5nBfhKL"
   },
   "source": [
    "## Save Data to plckle"
   ]
  },
  {
   "cell_type": "code",
   "execution_count": null,
   "id": "665b7e89",
   "metadata": {
    "colab": {
     "base_uri": "https://localhost:8080/"
    },
    "executionInfo": {
     "elapsed": 3413,
     "status": "ok",
     "timestamp": 1645556584503,
     "user": {
      "displayName": "taitip Suphasiriwattana",
      "photoUrl": "https://lh3.googleusercontent.com/a/default-user=s64",
      "userId": "16893195790372778185"
     },
     "user_tz": -420
    },
    "id": "665b7e89",
    "outputId": "1235e24c-10f6-4d05-fd58-113b8e004265"
   },
   "outputs": [
    {
     "name": "stdout",
     "output_type": "stream",
     "text": [
      "save df_qa to ./drqa/1-tokenizers/result/df_qa.pkl success\n",
      "save dict_word2idx to ./drqa/1-tokenizers/result/dict_word2idx.pkl success\n",
      "save dict_idx2word to ./drqa/1-tokenizers/result/dict_idx2word.pkl success\n",
      "save list_word_vocab to ./drqa/1-tokenizers/result/list_word_vocab.pkl success\n"
     ]
    }
   ],
   "source": [
    "#Save this State\n",
    "save_to_pickle(df_qa , \"./drqa/1-tokenizers/result/df_qa.pkl\")\n",
    "save_to_pickle(word2idx , \"./drqa/1-tokenizers/result/dict_word2idx.pkl\")\n",
    "save_to_pickle(idx2word , \"./drqa/1-tokenizers/result/dict_idx2word.pkl\")\n",
    "save_to_pickle(word_vocab , \"./drqa/1-tokenizers/result/list_word_vocab.pkl\")"
   ]
  },
  {
   "cell_type": "markdown",
   "id": "bGi_CHNRfnyA",
   "metadata": {
    "id": "bGi_CHNRfnyA"
   },
   "source": [
    "## Load Data"
   ]
  },
  {
   "cell_type": "code",
   "execution_count": 6,
   "id": "00018824",
   "metadata": {
    "colab": {
     "base_uri": "https://localhost:8080/"
    },
    "executionInfo": {
     "elapsed": 5669,
     "status": "ok",
     "timestamp": 1645723085947,
     "user": {
      "displayName": "taitip Suphasiriwattana",
      "photoUrl": "https://lh3.googleusercontent.com/a/default-user=s64",
      "userId": "16893195790372778185"
     },
     "user_tz": -420
    },
    "id": "00018824",
    "outputId": "298fad4d-a1d4-4e5a-90d7-060db7aec6ea"
   },
   "outputs": [
    {
     "name": "stdout",
     "output_type": "stream",
     "text": [
      "load object from ./drqa/1-tokenizers/result/df_qa.pkl success,that is <class 'pandas.core.frame.DataFrame'>\n",
      "load object from ./drqa/1-tokenizers/result/dict_word2idx.pkl success,that is <class 'dict'>\n",
      "load object from ./drqa/1-tokenizers/result/dict_idx2word.pkl success,that is <class 'dict'>\n",
      "load object from ./drqa/1-tokenizers/result/list_word_vocab.pkl success,that is <class 'list'>\n"
     ]
    }
   ],
   "source": [
    "df_qa = load_pickle(\"./drqa/1-tokenizers/result/df_qa.pkl\")\n",
    "word2idx = load_pickle(\"./drqa/1-tokenizers/result/dict_word2idx.pkl\")\n",
    "idx2word = load_pickle(\"./drqa/1-tokenizers/result/dict_idx2word.pkl\")\n",
    "word_vocab = load_pickle(\"./drqa/1-tokenizers/result/list_word_vocab.pkl\")"
   ]
  },
  {
   "cell_type": "markdown",
   "id": "N-7k6S8KeddL",
   "metadata": {
    "id": "N-7k6S8KeddL"
   },
   "source": [
    "# Embedding \n",
    "ref : https://fasttext.cc/docs/en/crawl-vectors.html"
   ]
  },
  {
   "cell_type": "markdown",
   "id": "FkmHEXKFjYje",
   "metadata": {
    "id": "FkmHEXKFjYje"
   },
   "source": [
    "## FASTTEXT"
   ]
  },
  {
   "cell_type": "code",
   "execution_count": null,
   "id": "q98mo7ZQifQS",
   "metadata": {
    "colab": {
     "base_uri": "https://localhost:8080/"
    },
    "executionInfo": {
     "elapsed": 1699,
     "status": "ok",
     "timestamp": 1645556704796,
     "user": {
      "displayName": "taitip Suphasiriwattana",
      "photoUrl": "https://lh3.googleusercontent.com/a/default-user=s64",
      "userId": "16893195790372778185"
     },
     "user_tz": -420
    },
    "id": "q98mo7ZQifQS",
    "outputId": "6229ccc9-4683-4320-9bbc-3d27c53dd36e"
   },
   "outputs": [
    {
     "name": "stdout",
     "output_type": "stream",
     "text": [
      "Embedding dimension : 300\n",
      "Number of word in embedding : 2000000\n",
      "Example word in embedding : ['ที่', '</s>', \"'\", '.', 'การ', '-', 'ใน', 'และ', ')', '(', 'เป็น', 'ของ', ',', 'ได้', ':']\n",
      "CPU times: user 5.73 s, sys: 8.09 s, total: 13.8 s\n",
      "Wall time: 1min 47s\n"
     ]
    },
    {
     "name": "stderr",
     "output_type": "stream",
     "text": [
      "Warning : `load_model` does not return WordVectorModel or SupervisedModel any more, but a `FastText` object which is very similar.\n"
     ]
    }
   ],
   "source": [
    "%%time\n",
    "th_embedding = fasttext.load_model(\"./data/cc.th.300.bin\")\n",
    "print(f\"Embedding dimension : {th_embedding.get_dimension()}\")\n",
    "print(f\"Number of word in embedding : {len(th_embedding.get_words())}\")\n",
    "print(f\"Example word in embedding : {th_embedding.get_words()[0:15]}\")"
   ]
  },
  {
   "cell_type": "code",
   "execution_count": null,
   "id": "ssJoYXZ1ifaF",
   "metadata": {
    "id": "ssJoYXZ1ifaF"
   },
   "outputs": [],
   "source": [
    "def create_embed_matrix():\n",
    "  embed_matrix = {}\n",
    "  for word in th_embedding.get_words():\n",
    "    embed_matrix[word] = th_embedding.get_word_vector(word)\n",
    "  return embed_matrix"
   ]
  },
  {
   "cell_type": "code",
   "execution_count": null,
   "id": "LZf2Gyf5lAjZ",
   "metadata": {
    "colab": {
     "base_uri": "https://localhost:8080/"
    },
    "executionInfo": {
     "elapsed": 29742,
     "status": "ok",
     "timestamp": 1645556765877,
     "user": {
      "displayName": "taitip Suphasiriwattana",
      "photoUrl": "https://lh3.googleusercontent.com/a/default-user=s64",
      "userId": "16893195790372778185"
     },
     "user_tz": -420
    },
    "id": "LZf2Gyf5lAjZ",
    "outputId": "6c2e5ab8-d71d-426c-c709-fdbe4c179935"
   },
   "outputs": [
    {
     "name": "stdout",
     "output_type": "stream",
     "text": [
      "Size of embed_matrix : 2000000\n",
      "CPU times: user 25.9 s, sys: 7.89 s, total: 33.8 s\n",
      "Wall time: 29.9 s\n"
     ]
    }
   ],
   "source": [
    "%%time\n",
    "embed_matrix = create_embed_matrix()\n",
    "print(f\"Size of embed_matrix : {len(embed_matrix)}\")"
   ]
  },
  {
   "cell_type": "code",
   "execution_count": null,
   "id": "d4b5bae8",
   "metadata": {
    "id": "d4b5bae8"
   },
   "outputs": [],
   "source": [
    "def create_word_embedding(embed_matrix):\n",
    "    '''\n",
    "    Creates a weight matrix of the words that are common in the GloVe vocab and\n",
    "    the dataset's vocab. Initializes OOV words with a zero vector.\n",
    "    '''\n",
    "    weights_matrix = np.zeros((len(word_vocab), 300))\n",
    "    words_found = 0\n",
    "    not_found = []\n",
    "    for i, word in enumerate(word_vocab):\n",
    "        try:\n",
    "            weights_matrix[i] = embed_matrix[word]\n",
    "            words_found += 1\n",
    "        except:\n",
    "          not_found.append(word)\n",
    "    return weights_matrix, words_found ,not_found"
   ]
  },
  {
   "cell_type": "code",
   "execution_count": null,
   "id": "ShxD3galjTsJ",
   "metadata": {
    "colab": {
     "base_uri": "https://localhost:8080/"
    },
    "executionInfo": {
     "elapsed": 459,
     "status": "ok",
     "timestamp": 1645556791598,
     "user": {
      "displayName": "taitip Suphasiriwattana",
      "photoUrl": "https://lh3.googleusercontent.com/a/default-user=s64",
      "userId": "16893195790372778185"
     },
     "user_tz": -420
    },
    "id": "ShxD3galjTsJ",
    "outputId": "fdf978a8-d25c-4424-bf9f-b4b4682f8634"
   },
   "outputs": [
    {
     "name": "stdout",
     "output_type": "stream",
     "text": [
      "Total words found in glove vocab: 38076/61036\n",
      "CPU times: user 148 ms, sys: 184 ms, total: 332 ms\n",
      "Wall time: 328 ms\n"
     ]
    }
   ],
   "source": [
    "%%time\n",
    "weights_matrix, words_found, not_found = create_word_embedding(embed_matrix)\n",
    "print(f\"Total words found in glove vocab: {words_found}/{len(word_vocab)}\", )"
   ]
  },
  {
   "cell_type": "markdown",
   "id": "odmkU21U8GPH",
   "metadata": {
    "id": "odmkU21U8GPH"
   },
   "source": [
    "## PythaiNLP : thai2fit_wv"
   ]
  },
  {
   "cell_type": "code",
   "execution_count": null,
   "id": "4JqqaZw2Cgo_",
   "metadata": {
    "colab": {
     "base_uri": "https://localhost:8080/"
    },
    "executionInfo": {
     "elapsed": 8435,
     "status": "ok",
     "timestamp": 1645556825119,
     "user": {
      "displayName": "taitip Suphasiriwattana",
      "photoUrl": "https://lh3.googleusercontent.com/a/default-user=s64",
      "userId": "16893195790372778185"
     },
     "user_tz": -420
    },
    "id": "4JqqaZw2Cgo_",
    "outputId": "a2c32a77-4da7-492f-a774-102ce0c7f261"
   },
   "outputs": [
    {
     "name": "stdout",
     "output_type": "stream",
     "text": [
      "Corpus: thai2fit_wv\n",
      "- Downloading: thai2fit_wv 0.1\n"
     ]
    },
    {
     "name": "stderr",
     "output_type": "stream",
     "text": [
      "100%|██████████| 62452646/62452646 [00:04<00:00, 12787470.92it/s]\n"
     ]
    },
    {
     "name": "stdout",
     "output_type": "stream",
     "text": [
      "number of word in corpus 51,358\n",
      "number of dimention of vector 300\n"
     ]
    }
   ],
   "source": [
    "from pythainlp.corpus import get_corpus_path\n",
    "from gensim.models import KeyedVectors\n",
    "path = get_corpus_path(\"thai2fit_wv\")\n",
    "thaiW2V = KeyedVectors.load_word2vec_format(path, binary=True)\n",
    "print(f\"number of word in corpus {len(thaiW2V.vocab.keys()):0,.0f}\")\n",
    "print(f\"number of dimention of vector {thaiW2V.vector_size}\")"
   ]
  },
  {
   "cell_type": "code",
   "execution_count": null,
   "id": "ke-4OG9I7Vcl",
   "metadata": {
    "colab": {
     "base_uri": "https://localhost:8080/"
    },
    "executionInfo": {
     "elapsed": 1529,
     "status": "ok",
     "timestamp": 1645556826624,
     "user": {
      "displayName": "taitip Suphasiriwattana",
      "photoUrl": "https://lh3.googleusercontent.com/a/default-user=s64",
      "userId": "16893195790372778185"
     },
     "user_tz": -420
    },
    "id": "ke-4OG9I7Vcl",
    "outputId": "c351c94c-56a3-4644-9571-fd0514a879e5"
   },
   "outputs": [
    {
     "name": "stdout",
     "output_type": "stream",
     "text": [
      "Total words found in thainlp W2V: 29444/61036\n",
      "Example word not found : [' ', 'ใน', '\"', '\\n', 'อร', '/', 'ส์', 'ต่าง ๆ', 'The', 'ยังมี', 'เป็นที่', 'ฯ', 'สเปน', 'พระองค์เจ้า', 'บี', 'จุฬาลงกรณ์', 'นี', 'ประ', 'มิวสิก', 'ณ์']\n"
     ]
    }
   ],
   "source": [
    "weights_matrix = np.zeros((len(word_vocab), 300))\n",
    "words_found = 0\n",
    "not_found = []\n",
    "for i, word in enumerate(word_vocab):\n",
    "  try:\n",
    "    weights_matrix[i] = thaiW2V.get_vector(word)\n",
    "    words_found += 1\n",
    "  except:\n",
    "    not_found.append(word)\n",
    "print(f\"Total words found in thainlp W2V: {words_found}/{len(word_vocab)}\", )\n",
    "print(f\"Example word not found : {not_found[0:20]}\")"
   ]
  },
  {
   "cell_type": "markdown",
   "id": "Oxjn08mMvdvJ",
   "metadata": {
    "id": "Oxjn08mMvdvJ"
   },
   "source": [
    "## PythaiNLP : ltw2v"
   ]
  },
  {
   "cell_type": "code",
   "execution_count": 8,
   "id": "jtVzTEKb8Qrh",
   "metadata": {
    "colab": {
     "base_uri": "https://localhost:8080/"
    },
    "executionInfo": {
     "elapsed": 204864,
     "status": "ok",
     "timestamp": 1645723396938,
     "user": {
      "displayName": "taitip Suphasiriwattana",
      "photoUrl": "https://lh3.googleusercontent.com/a/default-user=s64",
      "userId": "16893195790372778185"
     },
     "user_tz": -420
    },
    "id": "jtVzTEKb8Qrh",
    "outputId": "7c458c3d-f439-43ab-e963-b100a203a401"
   },
   "outputs": [
    {
     "name": "stdout",
     "output_type": "stream",
     "text": [
      "Corpus: ltw2v\n",
      "- Downloading: ltw2v 0.1\n"
     ]
    },
    {
     "name": "stderr",
     "output_type": "stream",
     "text": [
      "100%|██████████| 1178368364/1178368364 [03:11<00:00, 6162391.42it/s]\n"
     ]
    },
    {
     "name": "stdout",
     "output_type": "stream",
     "text": [
      "number of word in corpus 731,185\n",
      "number of dimention of vector 400\n"
     ]
    }
   ],
   "source": [
    "from pythainlp.corpus import get_corpus_path\n",
    "from gensim.models import KeyedVectors\n",
    "path = get_corpus_path(\"ltw2v\")\n",
    "ltw2v = KeyedVectors.load_word2vec_format(path, binary=True, unicode_errors='ignore')\n",
    "print(f\"number of word in corpus {len(ltw2v.vocab.keys()):0,.0f}\")\n",
    "print(f\"number of dimention of vector {ltw2v.vector_size}\")"
   ]
  },
  {
   "cell_type": "code",
   "execution_count": 13,
   "id": "U4cl-aDVx4Q9",
   "metadata": {
    "colab": {
     "base_uri": "https://localhost:8080/"
    },
    "executionInfo": {
     "elapsed": 722,
     "status": "ok",
     "timestamp": 1645724020545,
     "user": {
      "displayName": "taitip Suphasiriwattana",
      "photoUrl": "https://lh3.googleusercontent.com/a/default-user=s64",
      "userId": "16893195790372778185"
     },
     "user_tz": -420
    },
    "id": "U4cl-aDVx4Q9",
    "outputId": "5d1e60d9-e955-41fa-86eb-896fe8d6c8cb"
   },
   "outputs": [
    {
     "name": "stdout",
     "output_type": "stream",
     "text": [
      "size of embed_dict is 731185\n",
      "CPU times: user 1.46 s, sys: 65.3 ms, total: 1.52 s\n",
      "Wall time: 1.52 s\n"
     ]
    }
   ],
   "source": [
    "%%time\n",
    "embed_dict = {}\n",
    "for word in ltw2v.vocab.keys():\n",
    "  embed_dict[word] = ltw2v.get_vector(word)[0:300]\n",
    "print(f\"size of embed_dict is {len(embed_dict)}\")"
   ]
  },
  {
   "cell_type": "code",
   "execution_count": 9,
   "id": "urS1A-JAD68P",
   "metadata": {
    "colab": {
     "base_uri": "https://localhost:8080/"
    },
    "executionInfo": {
     "elapsed": 521,
     "status": "ok",
     "timestamp": 1645723539887,
     "user": {
      "displayName": "taitip Suphasiriwattana",
      "photoUrl": "https://lh3.googleusercontent.com/a/default-user=s64",
      "userId": "16893195790372778185"
     },
     "user_tz": -420
    },
    "id": "urS1A-JAD68P",
    "outputId": "be4cd37f-2f26-4f2f-ac00-5083ed94d40a"
   },
   "outputs": [
    {
     "name": "stdout",
     "output_type": "stream",
     "text": [
      "Total words found in ltw2w : 53031/61036\n",
      "Example word not found : [' ', '\\n', 'ต่าง ๆ', '  ', 'แฮร์รี่ พอตเตอร์', 'เสรี', 'เลื่อน', 'ทางตะวันตก', 'สมเด็จพระเทพรัตนราชสุดาฯ สยามบรมราชกุมารี', 'อัญเชิญ', 'เรื่อย ๆ', 'สะดวก', 'สมเด็จพระนางเจ้าสิริกิติ์ พระบรมราชินีนาถ', 'วอชิงตัน ดี.ซี.', 'วิศวกร', 'ป. พิบูลสงคราม', 'ผู้กำกับภาพยนตร์', 'ค่อย ๆ', 'อาร์ม', 'จริง ๆ']\n",
      "Shape of weights_matrix is : (61036, 300)\n",
      "CPU times: user 211 ms, sys: 75.1 ms, total: 286 ms\n",
      "Wall time: 284 ms\n"
     ]
    }
   ],
   "source": [
    "%%time\n",
    "weights_matrix = np.zeros((len(word_vocab), 300))\n",
    "words_found = 0\n",
    "not_found = []\n",
    "for i, word in enumerate(word_vocab):\n",
    "  try:\n",
    "    weights_matrix[i] = ltw2v.get_vector(word)[0:300]\n",
    "    words_found += 1\n",
    "  except:\n",
    "    not_found.append(word)\n",
    "print(f\"Total words found in ltw2w : {words_found}/{len(word_vocab)}\", )\n",
    "print(f\"Example word not found : {not_found[0:20]}\")\n",
    "print(f\"Shape of weights_matrix is : {weights_matrix.shape}\")"
   ]
  },
  {
   "cell_type": "code",
   "execution_count": 14,
   "id": "wWLd9ENarCMd",
   "metadata": {
    "colab": {
     "base_uri": "https://localhost:8080/"
    },
    "executionInfo": {
     "elapsed": 11910,
     "status": "ok",
     "timestamp": 1645724171697,
     "user": {
      "displayName": "taitip Suphasiriwattana",
      "photoUrl": "https://lh3.googleusercontent.com/a/default-user=s64",
      "userId": "16893195790372778185"
     },
     "user_tz": -420
    },
    "id": "wWLd9ENarCMd",
    "outputId": "7e1137b2-f969-4522-ed7e-34b5b554baf0"
   },
   "outputs": [
    {
     "name": "stdout",
     "output_type": "stream",
     "text": [
      "save dict_embed_ltw2v to ./drqa/1-tokenizers/result/dict_embed_ltw2v.pkl success\n",
      "CPU times: user 5.3 s, sys: 2.97 s, total: 8.27 s\n",
      "Wall time: 11.6 s\n"
     ]
    }
   ],
   "source": [
    "#Save data\n",
    "%%time\n",
    "save_to_pickle(embed_dict , \"./drqa/1-tokenizers/result/dict_embed_ltw2v.pkl\")\n",
    "np.save('./drqa/1-tokenizers/result/dfqa2v_ltw2v.npy',weights_matrix)"
   ]
  },
  {
   "cell_type": "markdown",
   "id": "wQPEPpnt4l8B",
   "metadata": {
    "id": "wQPEPpnt4l8B"
   },
   "source": [
    "# Summary"
   ]
  },
  {
   "cell_type": "markdown",
   "id": "W733LpQd4DGL",
   "metadata": {
    "id": "W733LpQd4DGL"
   },
   "source": [
    "Problem\n",
    "\n",
    "\n",
    "1. Lost 50% of word in QA because word aren't found in thai Embedding Fasttext\n",
    "2. https://pythainlp.github.io/docs/2.2/api/word_vector.html\n",
    "3. https://pythainlp.github.io/dev-docs/api/word_vector.html\n",
    "4. https://pythainlp.github.io/pythainlp-corpus/list-corpus.html\n",
    "4. we use original context that is html."
   ]
  }
 ],
 "metadata": {
  "colab": {
   "collapsed_sections": [
    "0iGdaaa6gcK4",
    "TiRiw7NIg-_3",
    "C_ecI1zlh5XD",
    "6ML4K0u4fJPy",
    "KVdMkkE0j3uC",
    "5fkWgTUDfVJH",
    "cRytL5nBfhKL",
    "odmkU21U8GPH"
   ],
   "machine_shape": "hm",
   "name": "prepairing_token_embedded.ipynb",
   "provenance": [],
   "toc_visible": true
  },
  "kernelspec": {
   "display_name": "Python 3 (ipykernel)",
   "language": "python",
   "name": "python3"
  },
  "language_info": {
   "codemirror_mode": {
    "name": "ipython",
    "version": 3
   },
   "file_extension": ".py",
   "mimetype": "text/x-python",
   "name": "python",
   "nbconvert_exporter": "python",
   "pygments_lexer": "ipython3",
   "version": "3.8.12"
  }
 },
 "nbformat": 4,
 "nbformat_minor": 5
}
